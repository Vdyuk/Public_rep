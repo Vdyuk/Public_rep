{
 "cells": [
  {
   "cell_type": "code",
   "execution_count": 1,
   "metadata": {},
   "outputs": [
    {
     "name": "stdout",
     "output_type": "stream",
     "text": [
      "Using cached version of spark-cassandra-connector_2.11-2.4.0.jar\n",
      "Using cached version of postgresql-42.2.13.jar\n",
      "Using cached version of elasticsearch-spark-20_2.11-7.6.2.jar\n",
      "Using cached version of circe-core_2.11-0.11.2.jar\n"
     ]
    }
   ],
   "source": [
    "%AddJar file:/data/home/vladimir.dyukarev/spark-cassandra-connector_2.11-2.4.0.jar\n",
    "%AddJar file:/data/home/vladimir.dyukarev/postgresql-42.2.13.jar\n",
    "%AddJar file:/data/home/vladimir.dyukarev/elasticsearch-spark-20_2.11-7.6.2.jar\n",
    "%AddJar file:/data/home/vladimir.dyukarev/circe-core_2.11-0.11.2.jar"
   ]
  },
  {
   "cell_type": "markdown",
   "metadata": {},
   "source": [
    "#### Кассандра: клиенты"
   ]
  },
  {
   "cell_type": "code",
   "execution_count": 2,
   "metadata": {},
   "outputs": [],
   "source": [
    "spark.conf.set(\"spark.cassandra.connection.host\", \"10.0.1.9\")\n",
    "spark.conf.set(\"spark.cassandra.connection.port\", \"9042\")\n",
    "spark.conf.set(\"spark.cassandra.output.consistency.level\", \"ANY\")\n",
    "spark.conf.set(\"spark.cassandra.input.consistency.level\", \"ONE\")"
   ]
  },
  {
   "cell_type": "code",
   "execution_count": 3,
   "metadata": {},
   "outputs": [
    {
     "data": {
      "text/plain": [
       "myTable = Map(table -> clients, keyspace -> labdata)\n",
       "dfClients = [uid: string, age: int ... 1 more field]\n"
      ]
     },
     "metadata": {},
     "output_type": "display_data"
    },
    {
     "data": {
      "text/plain": [
       "[uid: string, age: int ... 1 more field]"
      ]
     },
     "execution_count": 3,
     "metadata": {},
     "output_type": "execute_result"
    }
   ],
   "source": [
    "val myTable = Map(\"table\" -> \"clients\",\"keyspace\" -> \"labdata\")\n",
    "val dfClients = spark\n",
    "    .read\n",
    "    .format(\"org.apache.spark.sql.cassandra\")\n",
    "    .options(myTable)\n",
    "    .load()"
   ]
  },
  {
   "cell_type": "code",
   "execution_count": 4,
   "metadata": {},
   "outputs": [
    {
     "name": "stdout",
     "output_type": "stream",
     "text": [
      "-RECORD 0--------------------------------------\n",
      " uid    | b9068896-2724-410b-b875-2e8c25dee8c0 \n",
      " age    | 41                                   \n",
      " gender | F                                    \n",
      "-RECORD 1--------------------------------------\n",
      " uid    | 0526f8cb-be15-4fce-8947-03f42d81b0fd \n",
      " age    | 29                                   \n",
      " gender | F                                    \n",
      "only showing top 2 rows\n",
      "\n"
     ]
    }
   ],
   "source": [
    "dfClients .show(2, 200, true)"
   ]
  },
  {
   "cell_type": "markdown",
   "metadata": {},
   "source": [
    "#### Elastic: Логи посещения интернет-магазина"
   ]
  },
  {
   "cell_type": "code",
   "execution_count": 5,
   "metadata": {},
   "outputs": [
    {
     "data": {
      "text/plain": [
       "esOptions = Map(es.nodes -> 10.0.1.9:9200, es.batch.write.refresh -> false, es.nodes.wan.only -> true)\n",
       "visits = [category: string, event_type: string ... 4 more fields]\n"
      ]
     },
     "metadata": {},
     "output_type": "display_data"
    },
    {
     "data": {
      "text/plain": [
       "[category: string, event_type: string ... 4 more fields]"
      ]
     },
     "execution_count": 5,
     "metadata": {},
     "output_type": "execute_result"
    }
   ],
   "source": [
    "import org.apache.spark.sql.functions._\n",
    "\n",
    "val esOptions = \n",
    "    Map(\n",
    "        \"es.nodes\" -> \"10.0.1.9:9200\", \n",
    "        \"es.batch.write.refresh\" -> \"false\",\n",
    "        \"es.nodes.wan.only\" -> \"true\"   \n",
    "    )\n",
    "val visits = spark.read.format(\"es\").options(esOptions).load(\"visits\")"
   ]
  },
  {
   "cell_type": "code",
   "execution_count": 6,
   "metadata": {},
   "outputs": [
    {
     "name": "stdout",
     "output_type": "stream",
     "text": [
      "+--------------------+----------+--------------------+----------+-------------------+--------------------+\n",
      "|            category|event_type|             item_id|item_price|          timestamp|                 uid|\n",
      "+--------------------+----------+--------------------+----------+-------------------+--------------------+\n",
      "|Entertainment-equ...|       buy|Entertainment-equ...|      2529|2020-01-01 11:00:00|40b29579-e845-45c...|\n",
      "|    Everyday-jewelry|       buy|  Everyday-jewelry-0|      4320|2020-01-01 11:01:00|                null|\n",
      "|             Cameras|      view|           Cameras-1|      1856|2020-01-01 11:02:00|ab0e7dd1-5899-488...|\n",
      "|             Luggage|      view|           Luggage-7|      4975|2020-01-01 11:02:00|                null|\n",
      "|       Mobile-phones|      view|    Mobile-phones-10|      3981|2020-01-01 11:03:00|d1206327-0e9f-410...|\n",
      "+--------------------+----------+--------------------+----------+-------------------+--------------------+\n",
      "only showing top 5 rows\n",
      "\n"
     ]
    }
   ],
   "source": [
    "visits.show(5)"
   ]
  },
  {
   "cell_type": "markdown",
   "metadata": {},
   "source": [
    "#### Parquet на HDFS: Логи посещения веб-сайтов"
   ]
  },
  {
   "cell_type": "code",
   "execution_count": 7,
   "metadata": {},
   "outputs": [
    {
     "name": "stdout",
     "output_type": "stream",
     "text": [
      "-rw-r--r--   3 hdfs hdfs  563826904 2020-05-14 18:12 /labs/laba03/weblogs.json\n",
      "\n"
     ]
    }
   ],
   "source": [
    "import sys.process._\n",
    "println(\"hdfs dfs -ls /labs/laba03/weblogs.json\".!!)"
   ]
  },
  {
   "cell_type": "code",
   "execution_count": 8,
   "metadata": {},
   "outputs": [
    {
     "data": {
      "text/plain": [
       "logs = [uid: string, visits: array<struct<timestamp:bigint,url:string>>]\n"
      ]
     },
     "metadata": {},
     "output_type": "display_data"
    },
    {
     "data": {
      "text/plain": [
       "error: error while loading QualifiedTableName, class file '/usr/hdp/3.1.4.0-315/spark2/jars/spark-catalyst_2.11-2.4.5.jar(org/apache/spark/sql/catalyst/QualifiedTableName.class)' has location not matching its contents: contains class QualifiedTableName\n",
       "error: error while loading JavaTypeInference, class file '/usr/hdp/3.1.4.0-315/spark2/jars/spark-catalyst_2.11-2.4.5.jar(org/apache/spark/sql/catalyst/JavaTypeInference.class)' has location not matching its contents: contains class JavaTypeInference\n",
       "error: error while loading FunctionIdentifier, class file '/usr/hdp/3.1.4.0-315/spark2/jars/spark-catalyst_2.11-2.4.5.jar(org/apache/spark/sql/catalyst/FunctionIdentifier.class)' has location not matching its contents: contains class FunctionIdentifier\n",
       "error: error while loading DefinedByConstructorParams, class file '/usr/hdp/3.1.4.0-315/spark2/jars/spark-catalyst_2.11-2.4.5.jar(org/apache/spark/sql/catalyst/DefinedByConstructorParams.class)' has location not matching its contents: contains class DefinedByConstructorParams\n",
       "error: error while loading IdentifierWithDatabase, class file '/usr/hdp/3.1.4.0-315/spark2/jars/spark-catalyst_2.11-2.4.5.jar(org/apache/spark/sql/catalyst/IdentifierWithDatabase.class)' has location not matching its contents: contains class IdentifierWithDatabase\n",
       "error: error while loading SpecializedGetters, class file '/usr/hdp/3.1.4.0-315/spark2/jars/spark-catalyst_2.11-2.4.5.jar(org/apache/spark/sql/catalyst/expressions/SpecializedGetters.class)' has location not matching its contents: contains class SpecializedGetters\n",
       "error: error while loading Decimal, class file '/usr/hdp/3.1.4.0-315/spark2/jars/spark-catalyst_2.11-2.4.5.jar(org/apache/spark/sql/types/Decimal.class)' has location not matching its contents: contains class Decimal\n",
       "error: error while loading ObjectType, class file '/usr/hdp/3.1.4.0-315/spark2/jars/spark-catalyst_2.11-2.4.5.jar(org/apache/spark/sql/types/ObjectType.class)' has location not matching its contents: contains class ObjectType\n",
       "error: error while loading Expression, class file '/usr/hdp/3.1.4.0-315/spark2/jars/spark-catalyst_2.11-2.4.5.jar(org/apache/spark/sql/catalyst/expressions/Expression.class)' has location not matching its contents: contains class Expression\n",
       "error: error while loading CreateNamedStruct, class file '/usr/hdp/3.1.4.0-315/spark2/jars/spark-catalyst_2.11-2.4.5.jar(org/apache/spark/sql/catalyst/expressions/CreateNamedStruct.class)' has location not matching its contents: contains class CreateNamedStruct\n",
       "error: error while loading Attribute, class file '/usr/hdp/3.1.4.0-315/spark2/jars/spark-catalyst_2.11-2.4.5.jar(org/apache/spark/sql/catalyst/expressions/Attribute.class)' has location not matching its contents: contains class Attribute\n",
       "error: error while loading AliasIdentifier, class file '/usr/hdp/3.1.4.0-315/spark2/jars/spark-catalyst_2.11-2.4.5.jar(org/apache/spark/sql/catalyst/AliasIdentifier.class)' has location not matching its contents: contains class AliasIdentifier\n",
       "error: error while loading CatalystTypeConverters, class file '/usr/hdp/3.1.4.0-315/spark2/jars/spark-catalyst_2.11-2.4.5.jar(org/apache/spark/sql/catalyst/CatalystTypeConverters.class)' has location not matching its contents: contains class CatalystTypeConverters\n",
       "error: error while loading ScalaSubtypeLock, class file '/usr/hdp/3.1.4.0-315/spark2/jars/spark-catalyst_2.11-2.4.5.jar(org/apache/spark/sql/catalyst/ScalaSubtypeLock.class)' has location not matching its contents: contains class ScalaSubtypeLock\n",
       "error: error while loading package, class file '/usr/hdp/3.1.4.0-315/spark2/jars/spark-catalyst_2.11-2.4.5.jar(org/apache/spark/sql/catalyst/dsl/package.class)' has location not matching its contents: contains package object dsl\n",
       "error: error while loading package, class file '/usr/hdp/3.1.4.0-315/spark2/jars/spark-catalyst_2.11-2.4.5.jar(org/apache/spark/sql/catalyst/util/package.class)' has location not matching its contents: contains package object util\n",
       "error: error while loading package, class file '/usr/hdp/3.1.4.0-315/spark2/jars/spark-catalyst_2.11-2.4.5.jar(org/apache/spark/sql/catalyst/errors/package.class)' has location not matching its contents: contains package object errors\n",
       "error: error while loading KVIterator, class file '/usr/hdp/3.1.4.0-315/spark2/jars/spark-unsafe_2.11-2.4.5.jar(org/apache/spark/unsafe/KVIterator.class)' has location not matching its contents: contains class KVIterator\n",
       "error: error while loading UnsafeAlignedOffset, class file '/usr/hdp/3.1.4.0-315/spark2/jars/spark-unsafe_2.11-2.4.5.jar(org/apache/spark/unsafe/UnsafeAlignedOffset.class)' has location not matching its contents: contains class UnsafeAlignedOffset\n",
       "error: error while loading Platform, class file '/usr/hdp/3.1.4.0-315/spark2/jars/spark-unsafe_2.11-2.4.5.jar(org/apache/spark/unsafe/Platform.class)' has location not matching its contents: contains class Platform\n",
       "error: error while loading CalendarInterval, class file '/usr/hdp/3.1.4.0-315/spark2/jars/spark-unsafe_2.11-2.4.5.jar(org/apache/spark/unsafe/types/CalendarInterval.class)' has location not matching its contents: contains class CalendarInterval\n",
       "error: error while loading UTF8String, class file '/usr/hdp/3.1.4.0-315/spark2/jars/spark-unsafe_2.11-2.4.5.jar(org/apache/spark/unsafe/types/UTF8String.class)' has location not matching its contents: contains class UTF8String\n",
       "error: error while loading ByteArray, class file '/usr/hdp/3.1.4.0-315/spark2/jars/spark-unsafe_2.11-2.4.5.jar(org/apache/spark/unsafe/types/ByteArray.class)' has location not matching its contents: contains class ByteArray\n",
       "error: error while loading ByteType, class file '/usr/hdp/3.1.4.0-315/spark2/jars/spark-catalyst_2.11-2.4.5.jar(org/apache/spark/sql/types/ByteType.class)' has location not matching its contents: contains class ByteType\n",
       "error: error while loading PythonUserDefinedType, class file '/usr/hdp/3.1.4.0-315/spark2/jars/spark-catalyst_2.11-2.4.5.jar(org/apache/spark/sql/types/PythonUserDefinedType.class)' has location not matching its contents: contains class PythonUserDefinedType\n",
       "error: error while loading Metadata, class file '/usr/hdp/3.1.4.0-315/spark2/jars/spark-catalyst_2.11-2.4.5.jar(org/apache/spark/sql/types/Metadata.class)' has location not matching its contents: contains class Metadata\n",
       "error: error while loading UserDefinedType, class file '/usr/hdp/3.1.4.0-315/spark2/jars/spark-catalyst_2.11-2.4.5.jar(org/apache/spark/sql/types/UserDefinedType.class)' has location not matching its contents: contains class UserDefinedType\n",
       "error: error while loading DataTypes, class file '/usr/hdp/3.1.4.0-315/spark2/jars/spark-catalyst_2.11-2.4.5.jar(org/apache/spark/sql/types/DataTypes.class)' has location not matching its contents: contains class DataTypes\n",
       "error: error while loading LongType, class file '/usr/hdp/3.1.4.0-315/spark2/jars/spark-catalyst_2.11-2.4.5.jar(org/apache/spark/sql/types/LongType.class)' has location not matching its contents: contains class LongType\n",
       "error: error while loading NumericType, class file '/usr/hdp/3.1.4.0-315/spark2/jars/spark-catalyst_2.11-2.4.5.jar(org/apache/spark/sql/types/NumericType.class)' has location not matching its contents: contains class NumericType\n",
       "error: error while loading StructField, class file '/usr/hdp/3.1.4.0-315/spark2/jars/spark-catalyst_2.11-2.4.5.jar(org/apache/spark/sql/types/StructField.class)' has location not matching its contents: contains class StructField\n",
       "error: error while loading MetadataBuilder, class file '/usr/hdp/3.1.4.0-315/spark2/jars/spark-catalyst_2.11-2.4.5.jar(org/apache/spark/sql/types/MetadataBuilder.class)' has location not matching its contents: contains class MetadataBuilder\n",
       "error: error while loading FractionalType, class file '/usr/hdp/3.1.4.0-315/spark2/jars/spark-catalyst_2.11-2.4.5.jar(org/apache/spark/sql/types/FractionalType.class)' has location not matching its contents: contains class FractionalType\n",
       "error: error while loading TypeCollection, class file '/usr/hdp/3.1.4.0-315/spark2/jars/spark-catalyst_2.11-2.4.5.jar(org/apache/spark/sql/types/TypeCollection.class)' has location not matching its contents: contains class TypeCollection\n",
       "error: error while loading DoubleType, class file '/usr/hdp/3.1.4.0-315/spark2/jars/spark-catalyst_2.11-2.4.5.jar(org/apache/spark/sql/types/DoubleType.class)' has location not matching its contents: contains class DoubleType\n",
       "error: error while loading AnyDataType, class file '/usr/hdp/3.1.4.0-315/spark2/jars/spark-catalyst_2.11-2.4.5.jar(org/apache/spark/sql/types/AnyDataType.class)' has location not matching its contents: contains class AnyDataType\n",
       "error: error while loading StringType, class file '/usr/hdp/3.1.4.0-315/spark2/jars/spark-catalyst_2.11-2.4.5.jar(org/apache/spark/sql/types/StringType.class)' has location not matching its contents: contains class StringType\n",
       "error: error while loading NullType, class file '/usr/hdp/3.1.4.0-315/spark2/jars/spark-catalyst_2.11-2.4.5.jar(org/apache/spark/sql/types/NullType.class)' has location not matching its contents: contains class NullType\n",
       "error: error while loading ShortType, class file '/usr/hdp/3.1.4.0-315/spark2/jars/spark-catalyst_2.11-2.4.5.jar(org/apache/spark/sql/types/ShortType.class)' has location not matching its contents: contains class ShortType\n",
       "error: error while loading IntegralType, class file '/usr/hdp/3.1.4.0-315/spark2/jars/spark-catalyst_2.11-2.4.5.jar(org/apache/spark/sql/types/IntegralType.class)' has location not matching its contents: contains class IntegralType\n",
       "error: error while loading AbstractDataType, class file '/usr/hdp/3.1.4.0-315/spark2/jars/spark-catalyst_2.11-2.4.5.jar(org/apache/spark/sql/types/AbstractDataType.class)' has location not matching its contents: contains class AbstractDataType\n",
       "error: error while loading InterpretedOrdering, class file '/usr/hdp/3.1.4.0-315/spark2/jars/spark-catalyst_2.11-2.4.5.jar(org/apache/spark/sql/catalyst/expressions/InterpretedOrdering.class)' has location not matching its contents: contains class InterpretedOrdering\n",
       "error: error while loading HiveStringType, class file '/usr/hdp/3.1.4.0-315/spark2/jars/spark-catalyst_2.11-2.4.5.jar(org/apache/spark/sql/types/HiveStringType.class)' has location not matching its contents: contains class HiveStringType\n",
       "error: error while loading ArrayType, class file '/usr/hdp/3.1.4.0-315/spark2/jars/spark-catalyst_2.11-2.4.5.jar(org/apache/spark/sql/types/ArrayType.class)' has location not matching its contents: contains class ArrayType\n",
       "error: error while loading BinaryType, class file '/usr/hdp/3.1.4.0-315/spark2/jars/spark-catalyst_2.11-2.4.5.jar(org/apache/spark/sql/types/BinaryType.class)' has location not matching its contents: contains class BinaryType\n",
       "error: error while loading TimestampType, class file '/usr/hdp/3.1.4.0-315/spark2/jars/spark-catalyst_2.11-2.4.5.jar(org/apache/spark/sql/types/TimestampType.class)' has location not matching its contents: contains class TimestampType\n",
       "error: error while loading BooleanType, class file '/usr/hdp/3.1.4.0-315/spark2/jars/spark-catalyst_2.11-2.4.5.jar(org/apache/spark/sql/types/BooleanType.class)' has location not matching its contents: contains class BooleanType\n",
       "error: error while loading IntegerType, class file '/usr/hdp/3.1.4.0-315/spark2/jars/spark-catalyst_2.11-2.4.5.jar(org/apache/spark/sql/types/IntegerType.class)' has location not matching its contents: contains class IntegerType\n",
       "error: error while loading DecimalType, class file '/usr/hdp/3.1.4.0-315/spark2/jars/spark-catalyst_2.11-2.4.5.jar(org/apache/spark/sql/types/DecimalType.class)' has location not matching its contents: contains class DecimalType\n",
       "error: error while loading SQLUserDefinedType, class file '/usr/hdp/3.1.4.0-315/spark2/jars/spark-catalyst_2.11-2.4.5.jar(org/apache/spark/sql/types/SQLUserDefinedType.class)' has location not matching its contents: contains class SQLUserDefinedType\n",
       "error: error while loading FloatType, class file '/usr/hdp/3.1.4.0-315/spark2/jars/spark-catalyst_2.11-2.4.5.jar(org/apache/spark/sql/types/FloatType.class)' has location not matching its contents: contains class FloatType\n",
       "error: error while loading CalendarIntervalType, class file '/usr/hdp/3.1.4.0-315/spark2/jars/spark-catalyst_2.11-2.4.5.jar(org/apache/spark/sql/types/CalendarIntervalType.class)' has location not matching its contents: contains class CalendarIntervalType\n",
       "error: error while loading CharType, class file '/usr/hdp/3.1.4.0-315/spark2/jars/spark-catalyst_2.11-2.4.5.jar(org/apache/spark/sql/types/CharType.class)' has location not matching its contents: contains class CharType\n",
       "error: error while loading MapType, class file '/usr/hdp/3.1.4.0-315/spark2/jars/spark-catalyst_2.11-2.4.5.jar(org/apache/spark/sql/types/MapType.class)' has location not matching its contents: contains class MapType\n",
       "error: error while loading DateType, class file '/usr/hdp/3.1.4.0-315/spark2/jars/spark-catalyst_2.11-2.4.5.jar(org/apache/spark/sql/types/DateType.class)' has location not matching its contents: contains class DateType\n",
       "error: error while loading AtomicType, class file '/usr/hdp/3.1.4.0-315/spark2/jars/spark-catalyst_2.11-2.4.5.jar(org/apache/spark/sql/types/AtomicType.class)' has location not matching its contents: contains class AtomicType\n",
       "error: error while loading VarcharType, class file '/usr/hdp/3.1.4.0-315/spark2/jars/spark-catalyst_2.11-2.4.5.jar(org/apache/spark/sql/types/VarcharType.class)' has location not matching its contents: contains class VarcharType\n",
       "error: error while loading UDTRegistration, class file '/usr/hdp/3.1.4.0-315/spark2/jars/spark-catalyst_2.11-2.4.5.jar(org/apache/spark/sql/types/UDTRegistration.class)' has location not matching its contents: contains class UDTRegistration\n",
       "error: error while loading MarkerFactory, class file '/usr/hdp/3.1.4.0-315/spark2/jars/slf4j-api-1.7.16.jar(org/slf4j/MarkerFactory.class)' has location not matching its contents: contains class MarkerFactory\n",
       "error: error while loading ILoggerFactory, class file '/usr/hdp/3.1.4.0-315/spark2/jars/slf4j-api-1.7.16.jar(org/slf4j/ILoggerFactory.class)' has location not matching its contents: contains class ILoggerFactory\n",
       "error: error while loading MDC, class file '/usr/hdp/3.1.4.0-315/spark2/jars/slf4j-api-1.7.16.jar(org/slf4j/MDC.class)' has location not matching its contents: contains class MDC\n",
       "error: error while loading LoggerFactory, class file '/usr/hdp/3.1.4.0-315/spark2/jars/slf4j-api-1.7.16.jar(org/slf4j/LoggerFactory.class)' has location not matching its contents: contains class LoggerFactory\n",
       "error: error while loading Marker, class file '/usr/hdp/3.1.4.0-315/spark2/jars/slf4j-api-1.7.16.jar(org/slf4j/Marker.class)' has location not matching its contents: contains class Marker\n",
       "error: error while loading IMarkerFactory, class file '/usr/hdp/3.1.4.0-315/spark2/jars/slf4j-api-1.7.16.jar(org/slf4j/IMarkerFactory.class)' has location not matching its contents: contains class IMarkerFactory\n",
       "error: error while loading NDC, class file '/usr/hdp/3.1.4.0-315/spark2/jars/log4j-1.2.17.jar(org/apache/log4j/NDC.class)' has location not matching its contents: contains class NDC\n",
       "error: error while loading SortedKeyEnumeration, class file '/usr/hdp/3.1.4.0-315/spark2/jars/log4j-1.2.17.jar(org/apache/log4j/SortedKeyEnumeration.class)' has location not matching its contents: contains class SortedKeyEnumeration\n",
       "error: error while loading Hierarchy, class file '/usr/hdp/3.1.4.0-315/spark2/jars/log4j-1.2.17.jar(org/apache/log4j/Hierarchy.class)' has location not matching its contents: contains class Hierarchy\n",
       "error: error while loading SimpleLayout, class file '/usr/hdp/3.1.4.0-315/spark2/jars/log4j-1.2.17.jar(org/apache/log4j/SimpleLayout.class)' has location not matching its contents: contains class SimpleLayout\n",
       "error: error while loading PatternLayout, class file '/usr/hdp/3.1.4.0-315/spark2/jars/log4j-1.2.17.jar(org/apache/log4j/PatternLayout.class)' has location not matching its contents: contains class PatternLayout\n",
       "error: error while loading LogSF, class file '/usr/hdp/3.1.4.0-315/spark2/jars/log4j-1.2.17.jar(org/apache/log4j/LogSF.class)' has location not matching its contents: contains class LogSF\n",
       "error: error while loading ProvisionNode, class file '/usr/hdp/3.1.4.0-315/spark2/jars/log4j-1.2.17.jar(org/apache/log4j/ProvisionNode.class)' has location not matching its contents: contains class ProvisionNode\n",
       "error: error while loading Appender, class file '/usr/hdp/3.1.4.0-315/spark2/jars/log4j-1.2.17.jar(org/apache/log4j/Appender.class)' has location not matching its contents: contains class Appender\n",
       "error: error while loading Category, class file '/usr/hdp/3.1.4.0-315/spark2/jars/log4j-1.2.17.jar(org/apache/log4j/Category.class)' has location not matching its contents: contains class Category\n",
       "error: error while loading RollingFileAppender, class file '/usr/hdp/3.1.4.0-315/spark2/jars/log4j-1.2.17.jar(org/apache/log4j/RollingFileAppender.class)' has location not matching its contents: contains class RollingFileAppender\n",
       "error: error while loading WriterAppender, class file '/usr/hdp/3.1.4.0-315/spark2/jars/log4j-1.2.17.jar(org/apache/log4j/WriterAppender.class)' has location not matching its contents: contains class WriterAppender\n",
       "error: error while loading HTMLLayout, class file '/usr/hdp/3.1.4.0-315/spark2/jars/log4j-1.2.17.jar(org/apache/log4j/HTMLLayout.class)' has location not matching its contents: contains class HTMLLayout\n",
       "error: error while loading EnhancedPatternLayout, class file '/usr/hdp/3.1.4.0-315/spark2/jars/log4j-1.2.17.jar(org/apache/log4j/EnhancedPatternLayout.class)' has location not matching its contents: contains class EnhancedPatternLayout\n",
       "error: error while loading DailyRollingFileAppender, class file '/usr/hdp/3.1.4.0-315/spark2/jars/log4j-1.2.17.jar(org/apache/log4j/DailyRollingFileAppender.class)' has location not matching its contents: contains class DailyRollingFileAppender\n",
       "error: error while loading FileAppender, class file '/usr/hdp/3.1.4.0-315/spark2/jars/log4j-1.2.17.jar(org/apache/log4j/FileAppender.class)' has location not matching its contents: contains class FileAppender\n",
       "error: error while loading Dispatcher, class file '/usr/hdp/3.1.4.0-315/spark2/jars/log4j-1.2.17.jar(org/apache/log4j/Dispatcher.class)' has location not matching its contents: contains class Dispatcher\n",
       "error: error while loading DefaultCategoryFactory, class file '/usr/hdp/3.1.4.0-315/spark2/jars/log4j-1.2.17.jar(org/apache/log4j/DefaultCategoryFactory.class)' has location not matching its contents: contains class DefaultCategoryFactory\n",
       "error: error while loading MDC, class file '/usr/hdp/3.1.4.0-315/spark2/jars/log4j-1.2.17.jar(org/apache/log4j/MDC.class)' has location not matching its contents: contains class MDC\n",
       "error: error while loading Priority, class file '/usr/hdp/3.1.4.0-315/spark2/jars/log4j-1.2.17.jar(org/apache/log4j/Priority.class)' has location not matching its contents: contains class Priority\n",
       "error: error while loading DefaultThrowableRenderer, class file '/usr/hdp/3.1.4.0-315/spark2/jars/log4j-1.2.17.jar(org/apache/log4j/DefaultThrowableRenderer.class)' has location not matching its contents: contains class DefaultThrowableRenderer\n",
       "error: error while loading LogMF, class file '/usr/hdp/3.1.4.0-315/spark2/jars/log4j-1.2.17.jar(org/apache/log4j/LogMF.class)' has location not matching its contents: contains class LogMF\n",
       "error: error while loading PropertyConfigurator, class file '/usr/hdp/3.1.4.0-315/spark2/jars/log4j-1.2.17.jar(org/apache/log4j/PropertyConfigurator.class)' has location not matching its contents: contains class PropertyConfigurator\n",
       "error: error while loading PropertyWatchdog, class file '/usr/hdp/3.1.4.0-315/spark2/jars/log4j-1.2.17.jar(org/apache/log4j/PropertyWatchdog.class)' has location not matching its contents: contains class PropertyWatchdog\n",
       "error: error while loading EnhancedThrowableRenderer, class file '/usr/hdp/3.1.4.0-315/spark2/jars/log4j-1.2.17.jar(org/apache/log4j/EnhancedThrowableRenderer.class)' has location not matching its contents: contains class EnhancedThrowableRenderer\n",
       "error: error while loading BasicConfigurator, class file '/usr/hdp/3.1.4.0-315/spark2/jars/log4j-1.2.17.jar(org/apache/log4j/BasicConfigurator.class)' has location not matching its contents: contains class BasicConfigurator\n",
       "error: error while loading AppenderSkeleton, class file '/usr/hdp/3.1.4.0-315/spark2/jars/log4j-1.2.17.jar(org/apache/log4j/AppenderSkeleton.class)' has location not matching its contents: contains class AppenderSkeleton\n",
       "error: error while loading Logger, class file '/usr/hdp/3.1.4.0-315/spark2/jars/log4j-1.2.17.jar(org/apache/log4j/Logger.class)' has location not matching its contents: contains class Logger\n",
       "error: error while loading Level, class file '/usr/hdp/3.1.4.0-315/spark2/jars/log4j-1.2.17.jar(org/apache/log4j/Level.class)' has location not matching its contents: contains class Level\n",
       "error: error while loading LogManager, class file '/usr/hdp/3.1.4.0-315/spark2/jars/log4j-1.2.17.jar(org/apache/log4j/LogManager.class)' has location not matching its contents: contains class LogManager\n",
       "error: error while loading RollingCalendar, class file '/usr/hdp/3.1.4.0-315/spark2/jars/log4j-1.2.17.jar(org/apache/log4j/RollingCalendar.class)' has location not matching its contents: contains class RollingCalendar\n",
       "error: error while loading LogXF, class file '/usr/hdp/3.1.4.0-315/spark2/jars/log4j-1.2.17.jar(org/apache/log4j/LogXF.class)' has location not matching its contents: contains class LogXF\n",
       "error: error while loading TTCCLayout, class file '/usr/hdp/3.1.4.0-315/spark2/jars/log4j-1.2.17.jar(org/apache/log4j/TTCCLayout.class)' has location not matching its contents: contains class TTCCLayout\n",
       "error: error while loading NameValue, class file '/usr/hdp/3.1.4.0-315/spark2/jars/log4j-1.2.17.jar(org/apache/log4j/NameValue.class)' has location not matching its contents: contains class NameValue\n",
       "error: error while loading CategoryKey, class file '/usr/hdp/3.1.4.0-315/spark2/jars/log4j-1.2.17.jar(org/apache/log4j/CategoryKey.class)' has location not matching its contents: contains class CategoryKey\n",
       "error: error while loading Layout, class file '/usr/hdp/3.1.4.0-315/spark2/jars/log4j-1.2.17.jar(org/apache/log4j/Layout.class)' has location not matching its contents: contains class Layout\n",
       "error: error while loading ConsoleAppender, class file '/usr/hdp/3.1.4.0-315/spark2/jars/log4j-1.2.17.jar(org/apache/log4j/ConsoleAppender.class)' has location not matching its contents: contains class ConsoleAppender\n"
      ]
     },
     "metadata": {},
     "output_type": "display_data"
    },
    {
     "data": {
      "text/plain": [
       "[uid: string, visits: array<struct<timestamp:bigint,url:string>>]"
      ]
     },
     "execution_count": 8,
     "metadata": {},
     "output_type": "execute_result"
    }
   ],
   "source": [
    "val logs = spark.read.json(\"hdfs:///labs/laba03/weblogs.json\")"
   ]
  },
  {
   "cell_type": "code",
   "execution_count": 11,
   "metadata": {},
   "outputs": [
    {
     "data": {
      "text/plain": [
       "36138"
      ]
     },
     "execution_count": 11,
     "metadata": {},
     "output_type": "execute_result"
    }
   ],
   "source": [
    "logs.count"
   ]
  },
  {
   "cell_type": "markdown",
   "metadata": {},
   "source": [
    "#### PostgreSQL: категории сайтов"
   ]
  },
  {
   "cell_type": "code",
   "execution_count": 12,
   "metadata": {},
   "outputs": [
    {
     "data": {
      "text/plain": [
       "jdbcUrl = jdbc:postgresql://10.0.1.9:5432/labdata?user=vladimir_dyukarev&password=A3KQleIJ\n",
       "catg = [domain: string, category: string]\n"
      ]
     },
     "metadata": {},
     "output_type": "display_data"
    },
    {
     "data": {
      "text/plain": [
       "[domain: string, category: string]"
      ]
     },
     "execution_count": 12,
     "metadata": {},
     "output_type": "execute_result"
    }
   ],
   "source": [
    "val jdbcUrl = \"jdbc:postgresql://10.0.1.9:5432/labdata?user=vladimir_dyukarev&password=A3KQleIJ\"\n",
    "\n",
    "val catg = spark\n",
    "    .read\n",
    "    .format(\"jdbc\")\n",
    "    .option(\"url\", jdbcUrl)\n",
    "    .option(\"driver\", \"org.postgresql.Driver\")\n",
    "    .option(\"dbtable\", \"domain_cats\")\n",
    "    .load()"
   ]
  },
  {
   "cell_type": "code",
   "execution_count": 13,
   "metadata": {},
   "outputs": [
    {
     "name": "stdout",
     "output_type": "stream",
     "text": [
      "+--------------------+--------+\n",
      "|              domain|category|\n",
      "+--------------------+--------+\n",
      "|national-lottery....|gambling|\n",
      "|          rivalo.com|gambling|\n",
      "|             xoso.me|gambling|\n",
      "|         betin.co.ke|gambling|\n",
      "|          skybet.com|gambling|\n",
      "|              fdj.fr|gambling|\n",
      "|     minhngoc.net.vn|gambling|\n",
      "|   hollywoodbets.net|gambling|\n",
      "|           tipico.de|gambling|\n",
      "|       betpawa.co.ke|gambling|\n",
      "|           bet365.it|gambling|\n",
      "|          bet365.com|gambling|\n",
      "|loteriasdominican...|gambling|\n",
      "|            hkjc.com|gambling|\n",
      "|        sunmaker.com|gambling|\n",
      "|     williamhill.com|gambling|\n",
      "|       parimatch.com|gambling|\n",
      "|        freebitco.in|gambling|\n",
      "|   mismarcadores.com|gambling|\n",
      "|      flashscore.com|gambling|\n",
      "+--------------------+--------+\n",
      "only showing top 20 rows\n",
      "\n"
     ]
    }
   ],
   "source": [
    "catg.show()"
   ]
  },
  {
   "cell_type": "markdown",
   "metadata": {},
   "source": [
    "Категории товаров из лога посещений интернет-магазина"
   ]
  },
  {
   "cell_type": "code",
   "execution_count": 14,
   "metadata": {},
   "outputs": [
    {
     "data": {
      "text/plain": [
       "182540"
      ]
     },
     "execution_count": 14,
     "metadata": {},
     "output_type": "execute_result"
    }
   ],
   "source": [
    "//visits.show(2, 200 ,true)\n",
    "visits.count"
   ]
  },
  {
   "cell_type": "code",
   "execution_count": 39,
   "metadata": {},
   "outputs": [
    {
     "name": "stdout",
     "output_type": "stream",
     "text": [
      "-RECORD 0------------------------------------------\n",
      " category   | Entertainment-equipment              \n",
      " event_type | buy                                  \n",
      " item_id    | Entertainment-equipment-2            \n",
      " item_price | 2529                                 \n",
      " timestamp  | 2020-01-01 11:00:00                  \n",
      " uid        | 40b29579-e845-45c0-a34d-03630d296a81 \n",
      "-RECORD 1------------------------------------------\n",
      " category   | Computers                            \n",
      " event_type | buy                                  \n",
      " item_id    | Computers-6                          \n",
      " item_price | 4171                                 \n",
      " timestamp  | 2020-02-05 21:12:00                  \n",
      " uid        | 40b29579-e845-45c0-a34d-03630d296a81 \n",
      "-RECORD 2------------------------------------------\n",
      " category   | Clothing                             \n",
      " event_type | view                                 \n",
      " item_id    | Clothing-19                          \n",
      " item_price | 2021                                 \n",
      " timestamp  | 2020-03-03 00:21:00                  \n",
      " uid        | 40b29579-e845-45c0-a34d-03630d296a81 \n",
      "-RECORD 3------------------------------------------\n",
      " category   | Household-appliances                 \n",
      " event_type | view                                 \n",
      " item_id    | Household-appliances-12              \n",
      " item_price | 2187                                 \n",
      " timestamp  | 2020-03-24 20:25:00                  \n",
      " uid        | 40b29579-e845-45c0-a34d-03630d296a81 \n",
      "\n"
     ]
    }
   ],
   "source": [
    "visits.filter('uid === \"40b29579-e845-45c0-a34d-03630d296a81\").show(5, 200 ,true)"
   ]
  },
  {
   "cell_type": "markdown",
   "metadata": {},
   "source": [
    "Фильтруем с помощью соединения с юзерами.\n",
    "В колонках категорий товаров должно быть число посещений соответствующих страниц"
   ]
  },
  {
   "cell_type": "code",
   "execution_count": 15,
   "metadata": {},
   "outputs": [
    {
     "data": {
      "text/plain": [
       "joinVisits = [uid: string, category: string]\n"
      ]
     },
     "metadata": {},
     "output_type": "display_data"
    },
    {
     "data": {
      "text/plain": [
       "[uid: string, category: string]"
      ]
     },
     "execution_count": 15,
     "metadata": {},
     "output_type": "execute_result"
    }
   ],
   "source": [
    "val joinVisits = visits.join(dfClients, Seq(\"uid\"), \"inner\")\n",
    "        .filter('event_type === \"view\")\n",
    "        .select('uid, 'category)"
   ]
  },
  {
   "cell_type": "code",
   "execution_count": 16,
   "metadata": {},
   "outputs": [
    {
     "data": {
      "text/plain": [
       "59996"
      ]
     },
     "execution_count": 16,
     "metadata": {},
     "output_type": "execute_result"
    }
   ],
   "source": [
    "joinVisits.count"
   ]
  },
  {
   "cell_type": "code",
   "execution_count": 17,
   "metadata": {},
   "outputs": [
    {
     "data": {
      "text/plain": [
       "udfvists = UserDefinedFunction(<function1>,StringType,Some(List(StringType)))\n"
      ]
     },
     "metadata": {},
     "output_type": "display_data"
    },
    {
     "data": {
      "text/plain": [
       "UserDefinedFunction(<function1>,StringType,Some(List(StringType)))"
      ]
     },
     "execution_count": 17,
     "metadata": {},
     "output_type": "execute_result"
    }
   ],
   "source": [
    "// преобразуем категории\n",
    "val udfvists = udf((x: String) => \"shop_\".concat(\n",
    "    x.toLowerCase()\n",
    "    .replace(' ','_')\n",
    "    .replace('-','_')))"
   ]
  },
  {
   "cell_type": "code",
   "execution_count": 18,
   "metadata": {},
   "outputs": [
    {
     "data": {
      "text/plain": [
       "visits2 = [uid: string, category: string ... 2 more fields]\n"
      ]
     },
     "metadata": {},
     "output_type": "display_data"
    },
    {
     "data": {
      "text/plain": [
       "[uid: string, category: string ... 2 more fields]"
      ]
     },
     "execution_count": 18,
     "metadata": {},
     "output_type": "execute_result"
    }
   ],
   "source": [
    "val visits2 = joinVisits.withColumn(\"category2\", udfvists(col(\"category\"))).withColumn(\"1\", lit(1))"
   ]
  },
  {
   "cell_type": "code",
   "execution_count": 19,
   "metadata": {
    "scrolled": false
   },
   "outputs": [
    {
     "name": "stdout",
     "output_type": "stream",
     "text": [
      "-RECORD 0-----------------------------------------\n",
      " uid       | 0392f398-ea7e-4a1b-8c9d-d04df2a2a331 \n",
      " category  | Cameras                              \n",
      " category2 | shop_cameras                         \n",
      " 1         | 1                                    \n",
      "-RECORD 1-----------------------------------------\n",
      " uid       | 094b1e7e-97a6-4415-89f2-ca1eb72976b9 \n",
      " category  | Entertainment-equipment              \n",
      " category2 | shop_entertainment_equipment         \n",
      " 1         | 1                                    \n",
      "-RECORD 2-----------------------------------------\n",
      " uid       | 094b1e7e-97a6-4415-89f2-ca1eb72976b9 \n",
      " category  | Computers                            \n",
      " category2 | shop_computers                       \n",
      " 1         | 1                                    \n",
      "only showing top 3 rows\n",
      "\n"
     ]
    }
   ],
   "source": [
    "visits2.show(3,200, true)"
   ]
  },
  {
   "cell_type": "markdown",
   "metadata": {},
   "source": [
    "Сгруппировали и равернули, заменилл null на 0"
   ]
  },
  {
   "cell_type": "code",
   "execution_count": 20,
   "metadata": {},
   "outputs": [
    {
     "data": {
      "text/plain": [
       "visits3 = [uid: string, shop_cameras: bigint ... 15 more fields]\n"
      ]
     },
     "metadata": {},
     "output_type": "display_data"
    },
    {
     "data": {
      "text/plain": [
       "[uid: string, shop_cameras: bigint ... 15 more fields]"
      ]
     },
     "execution_count": 20,
     "metadata": {},
     "output_type": "execute_result"
    }
   ],
   "source": [
    "val visits3 = visits2.groupBy(\"uid\").pivot(\"category2\").sum(\"1\").na.fill(0)"
   ]
  },
  {
   "cell_type": "code",
   "execution_count": 149,
   "metadata": {},
   "outputs": [
    {
     "data": {
      "text/plain": [
       "26453"
      ]
     },
     "execution_count": 149,
     "metadata": {},
     "output_type": "execute_result"
    }
   ],
   "source": [
    "visits3.count"
   ]
  },
  {
   "cell_type": "code",
   "execution_count": 22,
   "metadata": {},
   "outputs": [
    {
     "name": "stdout",
     "output_type": "stream",
     "text": [
      "-RECORD 0--------------------------------------------------------------\n",
      " uid                            | 40b29579-e845-45c0-a34d-03630d296a81 \n",
      " shop_cameras                   | 0                                    \n",
      " shop_clothing                  | 1                                    \n",
      " shop_computers                 | 0                                    \n",
      " shop_cosmetics                 | 0                                    \n",
      " shop_entertainment_equipment   | 0                                    \n",
      " shop_everyday_jewelry          | 0                                    \n",
      " shop_house_repairs_paint_tools | 0                                    \n",
      " shop_household_appliances      | 1                                    \n",
      " shop_household_furniture       | 0                                    \n",
      " shop_kitchen_appliances        | 0                                    \n",
      " shop_kitchen_utensils          | 0                                    \n",
      " shop_luggage                   | 0                                    \n",
      " shop_mobile_phones             | 0                                    \n",
      " shop_shoes                     | 0                                    \n",
      " shop_sports_equipment          | 0                                    \n",
      " shop_toys                      | 0                                    \n",
      "\n"
     ]
    }
   ],
   "source": [
    "visits3.filter('uid === \"40b29579-e845-45c0-a34d-03630d296a81\").show(3,300, true)"
   ]
  },
  {
   "cell_type": "markdown",
   "metadata": {},
   "source": [
    "Категории веб-сайтов берутся из датасета категорий вебсайтов, и точно также из них создаются имена колонок. Например: web_arts_and_entertainment."
   ]
  },
  {
   "cell_type": "code",
   "execution_count": 39,
   "metadata": {},
   "outputs": [
    {
     "name": "stdout",
     "output_type": "stream",
     "text": [
      "+------------------------------------+---------------------------------------------------------------------------------------------------------------------------------------------------------------------------------------------------------------------------------------------------------------------------------------------------------------------------------------------------------------------------------------------------------------------------------------------------------------------------------------------------------------------------------------------------------------------------------------------------------------------------------------------------------------------------------------------------------------------------------------------------------------------------------------------------------------------------------------------------------------------------------------------------------------------------------------------------------------------------------------------------------------------------------------------------------------------------------------------------------------------------------------------------------------------------------------------------------------------------------------------------------------------------------------------------------------------------------------------------------------------------------------------------------------------------------------------------------------------------------------------------------------------------------------------------------------------------------------------------------------------------------------------------------------------------------------------------------------------------------------------------------------------------------------------------------------------------------------------------------------------------------------------------------------------------------------------------------------------------------------------------------------------------------------------------------------------------------------------------------------------------------------------------------------------------------------------------------------------------------------------------------------------------------------------------------------------------------------------------------------------------------------------------------------------------------------------------------------------------------------------------------------------------------------------------------------------------------------------------------------------------------------------------------------------------------------------------------------------------------------------------------------------------------------------------------------------------------------------------------------------------------------------------------------------------------------------------------------------------------------------------------------------------------------------------------------------------------------------------------------------------------------------------------------------------------------------------------------------------------------------------------------------------------------------------------------------------------------------------------------------------------------------------------------------------------------------------------------------------------------------------------------------------------------------------------------------------------------------------------------------------------------------------------------------------------------------------------------------------------------------------------------------------------------------------------------------------------------------------------------------------------------------------------------------------------------------------------------------------------------------------------------------------------------------------------------------------------------------------------------------------------------------------------------------------------------------------------------------------------------------------------------------------------------------------------------------------------------------------------------------------------------------------------------------------------------------------------------------------------------------------------------------------------------------------------------------------------------------------------------------------------------------------------------------------------------------------------------------------------------------------------------------------------------------------------------------------------------------------------------------------------------------------------------------------------------------------------------------------------------------------------------------------------------------------------------------------------------------------------------------------------------------------------------------------------------------------------------------------------------------------------------------------------------------------------------------------------------------------------------------------------------------------------------------------------------------------------------------------------------------------------------------------------------------------------------------------------------------------------------------------------------------------------------------------------------------------------------------------------------------------------------------------------------------------------------------------------------------------------------------------------------------------------------------------------------------------------------------------------------------------------------------------------------------------------------------------------------------------------------------------------------------------------------------------------------------------------------------------------------------------------------------------------------------------------------------------------------------------------------------------------------------------------------------------------------------------------------------------------------------------------------------------------------------------------------------------------------------------------------------------------------------------------------------------------------------------------------------------------------------------------------------------------------------------------------------------------------------------------------------------------------------------------------------------------------------------------------------------------------------------------------------------------------------------------------------------------------------------------------------------------------------------------------------------------------------------------------------------------------------------------------------------------------------------------------------------------------------------------------------------------------------------------------------------------------------------------------------------------------------------------------------------------------------------------------------------------------------------------------------------------------------------------------------------------------------------------------------------------------------------------------------------------------------------------------------------------------------------------------------------------------------------------------------------------------------------------------------------------------------------------------------------------------------------------------------------------------------------------------------------------------------------------------------------------------------------------------------------------------------------------------------------------------------------------------------------------------------------------------------------------------------------------------------------------------------------------------------------------------------------------------------------------------------------------------------------------------------------------------------------------------------------------------------------------------------------------------------------------------------------------------------------------------------------------------------------------------------------------------------------------------------------------------------------------------------------------------------------------------------------------------------------------------------------------------------------------------------------------------------------------------------------------------------------------------------------------------------------------------------------------------------------------------------------------------------------------------------------------------------------------------------------------------------------------------------------------------------------------------------------------------------------------------------------------------------------------------------------------------------------------------------------------------------------------------------------------------------------------------------------------------------------------------------------------------------------------------------------------------------------------------------------------------------------------------------------------------------------------------------------------------------------------------------------------------------------------------------------------------------------------------------------------------------------------------------------------------------------------------------------------------------------------------------------------------------------------------------------------------------------------------------------------------------------------------------------------------------------------------------------------------------------------------------------------------------------------------------------------------------------------------------------------------------------------------------------------------------------------------------------------------------------------------------+\n",
      "|uid                                 |visits                                                                                                                                                                                                                                                                                                                                                                                                                                                                                                                                                                                                                                                                                                                                                                                                                                                                                                                                                                                                                                                                                                                                                                                                                                                                                                                                                                                                                                                                                                                                                                                                                                                                                                                                                                                                                                                                                                                                                                                                                                                                                                                                                                                                                                                                                                                                                                                                                                                                                                                                                                                                                                                                                                                                                                                                                                                                                                                                                                                                                                                                                                                                                                                                                                                                                                                                                                                                                                                                                                                                                                                                                                                                                                                                                                                                                                                                                                                                                                                                                                                                                                                                                                                                                                                                                                                                                                                                                                                                                                                                                                                                                                                                                                                                                                                                                                                                                                                                                                                                                                                                                                                                                                                                                                                                                                                                                                                                                                                                                                                                                                                                                                                                                                                                                                                                                                                                                                                                                                                                                                                                                                                                                                                                                                                                                                                                                                                                                                                                                                                                                                                                                                                                                                                                                                                                                                                                                                                                                                                                                                                                                                                                                                                                                                                                                                                                                                                                                                                                                                                                                                                                                                                                                                                                                                                                                                                                                                                                                                                                                                                                                                                                                                                                                                                                                                                                                                                                                                                                                                                                                                                                                                                                                                                                                                                                                                                                                                                                                                                                                                                                                                                                                                                                                                                                                                                                                                                                                                                                                                                                                                                                                                                                                                                                                                                                                                                                                                                                                                                                                                                                                                                                                                                                                                                                                                                                                                                                                                                                                                                                                                                                                                                                                                                                                                                       |\n",
      "+------------------------------------+---------------------------------------------------------------------------------------------------------------------------------------------------------------------------------------------------------------------------------------------------------------------------------------------------------------------------------------------------------------------------------------------------------------------------------------------------------------------------------------------------------------------------------------------------------------------------------------------------------------------------------------------------------------------------------------------------------------------------------------------------------------------------------------------------------------------------------------------------------------------------------------------------------------------------------------------------------------------------------------------------------------------------------------------------------------------------------------------------------------------------------------------------------------------------------------------------------------------------------------------------------------------------------------------------------------------------------------------------------------------------------------------------------------------------------------------------------------------------------------------------------------------------------------------------------------------------------------------------------------------------------------------------------------------------------------------------------------------------------------------------------------------------------------------------------------------------------------------------------------------------------------------------------------------------------------------------------------------------------------------------------------------------------------------------------------------------------------------------------------------------------------------------------------------------------------------------------------------------------------------------------------------------------------------------------------------------------------------------------------------------------------------------------------------------------------------------------------------------------------------------------------------------------------------------------------------------------------------------------------------------------------------------------------------------------------------------------------------------------------------------------------------------------------------------------------------------------------------------------------------------------------------------------------------------------------------------------------------------------------------------------------------------------------------------------------------------------------------------------------------------------------------------------------------------------------------------------------------------------------------------------------------------------------------------------------------------------------------------------------------------------------------------------------------------------------------------------------------------------------------------------------------------------------------------------------------------------------------------------------------------------------------------------------------------------------------------------------------------------------------------------------------------------------------------------------------------------------------------------------------------------------------------------------------------------------------------------------------------------------------------------------------------------------------------------------------------------------------------------------------------------------------------------------------------------------------------------------------------------------------------------------------------------------------------------------------------------------------------------------------------------------------------------------------------------------------------------------------------------------------------------------------------------------------------------------------------------------------------------------------------------------------------------------------------------------------------------------------------------------------------------------------------------------------------------------------------------------------------------------------------------------------------------------------------------------------------------------------------------------------------------------------------------------------------------------------------------------------------------------------------------------------------------------------------------------------------------------------------------------------------------------------------------------------------------------------------------------------------------------------------------------------------------------------------------------------------------------------------------------------------------------------------------------------------------------------------------------------------------------------------------------------------------------------------------------------------------------------------------------------------------------------------------------------------------------------------------------------------------------------------------------------------------------------------------------------------------------------------------------------------------------------------------------------------------------------------------------------------------------------------------------------------------------------------------------------------------------------------------------------------------------------------------------------------------------------------------------------------------------------------------------------------------------------------------------------------------------------------------------------------------------------------------------------------------------------------------------------------------------------------------------------------------------------------------------------------------------------------------------------------------------------------------------------------------------------------------------------------------------------------------------------------------------------------------------------------------------------------------------------------------------------------------------------------------------------------------------------------------------------------------------------------------------------------------------------------------------------------------------------------------------------------------------------------------------------------------------------------------------------------------------------------------------------------------------------------------------------------------------------------------------------------------------------------------------------------------------------------------------------------------------------------------------------------------------------------------------------------------------------------------------------------------------------------------------------------------------------------------------------------------------------------------------------------------------------------------------------------------------------------------------------------------------------------------------------------------------------------------------------------------------------------------------------------------------------------------------------------------------------------------------------------------------------------------------------------------------------------------------------------------------------------------------------------------------------------------------------------------------------------------------------------------------------------------------------------------------------------------------------------------------------------------------------------------------------------------------------------------------------------------------------------------------------------------------------------------------------------------------------------------------------------------------------------------------------------------------------------------------------------------------------------------------------------------------------------------------------------------------------------------------------------------------------------------------------------------------------------------------------------------------------------------------------------------------------------------------------------------------------------------------------------------------------------------------------------------------------------------------------------------------------------------------------------------------------------------------------------------------------------------------------------------------------------------------------------------------------------------------------------------------------------------------------------------------------------------------------------------------------------------------------------------------------------------------------------------------------------------------------------------------------------------------------------------------------------------------------------------------------------------------------------------------------------------------------------------------------------------------------------------------------------------------------------------------------------------------------------------------------------------------------------------------------------------------------------------------------------------------------------------------------------------------------------------------------------------------------------------------------------------------------------------------------------------------------------------------------------------------------------------------------------------------------+\n",
      "|d50192e5-c44e-4ae8-ae7a-7cfe67c8b777|[[1419688144068, http://zebra-zoya.ru/200028-chehol-organayzer-dlja-macbook-11-grid-it.html?utm_campaign=397720794&utm_content=397729344&utm_medium=cpc&utm_source=begun], [1426666298001, http://news.yandex.ru/yandsearch?cl4url=chezasite.com/htc/htc-one-m9-delay-86327.html&lr=213&rpt=story], [1426666298000, http://www.sotovik.ru/news/240283-htc-one-m9-zaderzhivaetsja.html], [1426661722001, http://news.yandex.ru/yandsearch?cl4url=chezasite.com/htc/htc-one-m9-delay-86327.html&lr=213&rpt=story], [1426661722000, http://www.sotovik.ru/news/240283-htc-one-m9-zaderzhivaetsja.html]]                                                                                                                                                                                                                                                                                                                                                                                                                                                                                                                                                                                                                                                                                                                                                                                                                                                                                                                                                                                                                                                                                                                                                                                                                                                                                                                                                                                                                                                                                                                                                                                                                                                                                                                                                                                                                                                                                                                                                                                                                                                                                                                                                                                                                                                                                                                                                                                                                                                                                                                                                                                                                                                                                                                                                                                                                                                                                                                                                                                                                                                                                                                                                                                                                                                                                                                                                                                                                                                                                                                                                                                                                                                                                                                                                                                                                                                                                                                                                                                                                                                                                                                                                                                                                                                                                                                                                                                                                                                                                                                                                                                                                                                                                                                                                                                                                                                                                                                                                                                                                                                                                                                                                                                                                                                                                                                                                                                                                                                                                                                                                                                                                                                                                                                                                                                                                                                                                                                                                                                                                                                                                                                                                                                                                                                                                                                                                                                                                                                                                                                                                                                                                                                                                                                                                                                                                                                                                                                                                                                                                                                                                                                                                                                                                                                                                                                                                                                                                                                                                                                                                                                                                                                                                                                                                                                                                                                                                                                                                                                                                                                                                                                                                                                                                                                                                                                                                                                                                                                                                                                                                                                                                                                                                                                                                                                                                                                                                                                                                                                                                                                                                                                                                                                                                                                                                                                                                                                                                                                                                                                                                                                                                                                                                                                                                                                                                                                                                                                                                                                                                                                                                                                                                                                         |\n",
      "|d502331d-621e-4721-ada2-5d30b2c3801f|[[1419717886224, http://sweetrading.ru/?p=900], [1419717884437, http://sweetrading.ru/?p=884], [1419717816375, http://sweetrading.ru/?p=1002], [1419717804934, http://101.ru/?an=port_channel_mp3], [1419714194423, http://sweetrading.ru/?cat=62], [1419713998481, http://sweetrading.ru/?p=1046], [1419713927085, http://sweetrading.ru/?p=978], [1419713908863, http://sweetrading.ru/?cat=171], [1419713908679, http://sweetrading.ru/?cat=62], [1419713798879, http://sweetrading.ru/?p=3648], [1419595564407, http://oesex.ru/955457], [1419542965224, http://www.interfax.ru/russia/408800], [1418818241900, http://101.ru/?an=port_channel_mp3&channel=30], [1418802080857, http://www.interfax.ru/russia/413508], [1418722961181, http://www.euroavtoprokat.ru/sitemap/car-rental/france.htm], [1418722945825, http://www.euroavtoprokat.ru/sitemap/car-rental.htm], [1418722937847, http://www.euroavtoprokat.ru/car-rental/germany.htm], [1418722923196, http://www.euroavtoprokat.ru/car-rental/germany.htm], [1418722909804, http://www.euroavtoprokat.ru/sitemap/car-rental.htm], [1418646101953, http://www.eavtoprokat.ru/prokat-avto/france], [1418592793587, http://www.wordparts.ru/numeral/], [1418591162814, http://rsdn.ru/forum/alg/3305190.flat], [1418571531780, http://www.euroavtoprokat.ru/car-rental/turkey/istanbul.htm], [1418488992092, http://citieslist.ru/], [1418480798674, http://www.euroavtoprokat.ru/car-rental/turkey/istanbul.htm], [1418253037406, http://rutv.ru/brand/show/episode/453757], [1418247198586, http://www.fodors.com/community/europe/best-car-rental-company-in-italy.cfm], [1418245144696, http://wheelsabroad.com/car-rental/united-kingdom/england/london?gclid=cjwkeaia-5-kbrdylpg5096r8masjabqedm4cmiichc-_-ewkbtsqyci5bu9ucwvjmxp4o0tficaarocljdw_wcb], [1418243376170, http://lestinet.com/site/stopagent.ru], [1418169606439, http://android-help.ru/q2a/16774/как-получить-root-права-на-philips-w832-android-4-0-4], [1418169602505, http://club.dns-shop.ru/rabinovich/blog/я-все-еще-держусь-обзор-смартфона-philips-xenium-w832/], [1418167859617, http://www.supportforum.philips.com/ru/showthread.php?1529-philips-xenium-w832/page6], [1418166430112, http://www.supportforum.philips.com/ru/showthread.php?842-не-работает-gps-в-смартфоне-philips-xenium-w832], [1418114698621, http://rabota.ua/info/jobsearcher/post/umora.aspx], [1418053557067, http://www.enter.ru/product/appliances/myasorubka-philips-hr2728-2020103007131], [1417866883735, http://www.ferra.ru/ru/byt/news/2013/12/02/polaris-pmg-1805/], [1417862586856, http://www.ferra.ru/ru/byt/news/2013/10/12/bosch-mfw6-propower/], [1417856979616, http://www.linotype.com/1266/neuehelvetica-family.html], [1417812010753, http://www.linotype.com/1546/tradegothic-family.html?site=webfonts], [1417807232287, http://www.vandelaydesign.com/best-ecommerce-website-designs/], [1417805189928, http://www.awwwards.com/20-of-the-very-best-e-commerce-web-sites.html], [1417711286305, http://101.ru/?an=port_channel_mp3&channel=82], [1417701042306, http://www.just.ru/myasorubki/56658_elektromyasorybky_kenwood_mg_450/?from=yandex_msk&utm_source=yandex&utm_medium=cpc&utm_campaign=10817239_model_bytovaya-tehnika-melkaya_msk_p_api&utm_content=612422293_2792852770_мясорубку mg 450&position_type=premi], [1417695760398, http://101.ru/?an=port_channel_mp3&channel=5], [1417689964129, http://101.ru/?an=port_channel_mp3&channel=5], [1417683034834, http://101.ru/?an=port_channel_mp3&channel=17], [1417608945879, http://www.kenwoodworld.com/ru-ru/all-products/blenders-mixers-and-meat-grinders/meat-grinders-ru/-mg350-0w21910001], [1417605700777, http://101.ru/?an=port_channel_mp3&channel=24], [1417605639264, http://101.ru/?an=port_channel_mp3&channel=24], [1417605624817, http://101.ru/?an=port_channel_mp3&channel=82], [1417604804579, http://www.kenwoodworld.com/ru-ru/all-products/blenders-mixers-and-meat-grinders/meat-grinders-ru/mg470-meat-grinder-0wmg470008], [1417604730951, http://livedemo00.template-help.com/magento_48517/blackberry-bold-9000-phone.html], [1417548651645, http://www.kenwoodworld.com/ru-ru/all-products/blenders-mixers-and-meat-grinders/meat-grinders-ru/mg470-meat-grinder-0wmg470008], [1417548321763, http://www.kenwoodworld.com/en-int/products/blenders/meat-grinders/mg474-meat-grinder], [1417548310507, http://www.kenwoodworld.com/ru-ru/all-products/blenders-mixers-and-meat-grinders/meat-grinders-ru/-mg350-0w21910001], [1417548309162, http://www.kenwoodworld.com/ru-ru/all-products/blenders-mixers-and-meat-grinders/meat-grinders-ru/-mg350-0w21910001], [1417548297576, http://www.kenwoodworld.com/ru-ru/all-products/blenders-mixers-and-meat-grinders/meat-grinders-ru/-mg350-0w21910001?feat=6405fda1-43cc-42cc-8860-1c2a492555c5&tabsegment=key-features], [1417548284970, http://www.kenwoodworld.com/ru-ru/all-products/blenders-mixers-and-meat-grinders/meat-grinders-ru/-mg350-0w21910001?tabsegment=key-features], [1417548264964, http://www.kenwoodworld.com/ru-ru/all-products/blenders-mixers-and-meat-grinders/meat-grinders-ru/-mg350-0w21910001], [1417546314287, http://www.kenwoodworld.com/en-int/products/blenders/meat-grinders], [1417545459520, http://www.kenwoodworld.com/ru-ru/all-products/blenders-mixers-and-meat-grinders/meat-grinders-ru/mg700-meat-grinder-0wmg700006], [1417545200191, http://www.kenwoodworld.com/ru-ru/all-products/blenders-mixers-and-meat-grinders/meat-grinders-ru/mg700-meat-grinder-0wmg700006], [1417545116313, http://www.kenwoodworld.com/ru-ru/all-products/kmix-by-kenwood/kmix-kitchen-machines-/kmx51-kmix-kitchen-machine-0wkmx51002], [1417544991760, http://www.kenwoodworld.com/ru-ru/all-products/blenders-mixers-and-meat-grinders/meat-grinders-ru/---mg517---0wmg517007], [1417544967371, http://www.kenwoodworld.com/ru-ru/all-products/blenders-mixers-and-meat-grinders/meat-grinders-ru/-mg350-0w21910001], [1417544772661, http://www.kenwoodworld.com/ru-ru/all-products/blenders-mixers-and-meat-grinders/meat-grinders-ru/-mg350-0w21910001?feat=ac86d868-3ea4-4523-93e1-885bbf4222cd&tabsegment=key-features], [1417544765049, http://www.kenwoodworld.com/ru-ru/all-products/blenders-mixers-and-meat-grinders/meat-grinders-ru/-mg350-0w21910001?feat=3a288c22-e5f2-448e-a573-ccde95fd2341&tabsegment=key-features], [1417544748628, http://www.kenwoodworld.com/ru-ru/all-products/blenders-mixers-and-meat-grinders/meat-grinders-ru/-mg350-0w21910001?feat=ac86d868-3ea4-4523-93e1-885bbf4222cd&tabsegment=key-features], [1417544731238, http://www.kenwoodworld.com/ru-ru/all-products/blenders-mixers-and-meat-grinders/meat-grinders-ru/-mg350-0w21910001?tabsegment=key-features], [1417544522237, http://www.kenwoodworld.com/ru-ru/all-products/blenders-mixers-and-meat-grinders/meat-grinders-ru/-mg350-0w21910001], [1417544351791, http://www.kenwoodworld.com/ru-ru/all-products/blenders-mixers-and-meat-grinders/meat-grinders-ru/-mg350-0w21910001], [1417544282950, http://www.kenwoodworld.com/ru-ru/all-products/blenders-mixers-and-meat-grinders/meat-grinders-ru/-mg350-0w21910001], [1417544269909, http://www.kenwoodworld.com/ru-ru], [1417544204394, http://www.kenwoodworld.com/ru-ru/all-products/blenders-mixers-and-meat-grinders/meat-grinders-ru/mg516-meat-grinder-and-roto-food-cutter-0wmg516006?tabsegment=specifications], [1417544190747, http://www.kenwoodworld.com/ru-ru/all-products/blenders-mixers-and-meat-grinders/meat-grinders-ru/mg516-meat-grinder-and-roto-food-cutter-0wmg516006], [1417544045014, http://www.kenwoodworld.com/ru-ru/all-products/blenders-mixers-and-meat-grinders/meat-grinders-ru/mg516-meat-grinder-and-roto-food-cutter-0wmg516006], [1417544035023, http://www.kenwoodworld.com/ru-ru/all-products/blenders-mixers-and-meat-grinders/meat-grinders-ru/mg516-meat-grinder-and-roto-food-cutter-0wmg516006?tabsegment=specifications], [1417544015196, http://www.kenwoodworld.com/ru-ru/all-products/blenders-mixers-and-meat-grinders/meat-grinders-ru/mg516-meat-grinder-and-roto-food-cutter-0wmg516006], [1417544004579, http://www.kenwoodworld.com/ru-ru], [1417543914820, http://www.kenwoodworld.com/ru-ru/all-products/blenders-mixers-and-meat-grinders/meat-grinders-ru/mg510-meat-grinder-0wmg510009?tabsegment=specifications], [1417543814629, http://www.kenwoodworld.com/uk/search-results], [1417543642699, http://www.kenwoodworld.com/uk/search-results], [1417543628088, http://www.kenwoodworld.com/uk/search-results], [1417543616074, http://www.kenwoodworld.com/uk/search-results], [1417543439173, http://www.kenwoodworld.com/uk/products/food-mixers/chef-major-attachments/potato-peeler-at444-awat444001], [1417543352117, http://www.kenwoodworld.com/uk/search-results], [1417543294005, http://www.kenwoodworld.com/uk/search-results], [1417543192107, http://www.kenwoodworld.com/uk/search-results], [1417543022466, http://www.kenwoodworld.com/uk], [1417542940415, http://www.kenwoodworld.com/ru-ru/all-products/blenders-mixers-and-meat-grinders/meat-grinders-ru/mg510-meat-grinder-0wmg510009?tabsegment=specifications], [1417542907491, http://www.kenwoodworld.com/ru-ru/all-products/blenders-mixers-and-meat-grinders/meat-grinders-ru/mg510-meat-grinder-0wmg510009?tabsegment=support], [1417542866623, http://www.kenwoodworld.com/ru-ru/all-products/blenders-mixers-and-meat-grinders/meat-grinders-ru/mg510-meat-grinder-0wmg510009?tabsegment=specifications], [1417542858206, http://www.kenwoodworld.com/ru-ru/all-products/blenders-mixers-and-meat-grinders/meat-grinders-ru/mg510-meat-grinder-0wmg510009], [1417542839578, http://www.kenwoodworld.com/ru-ru/all-products/blenders-mixers-and-meat-grinders/meat-grinders-ru/mg510-meat-grinder-0wmg510009], [1417542795850, http://www.kenwoodworld.com/ru-ru/all-products/blenders-mixers-and-meat-grinders/meat-grinders-ru/mg510-meat-grinder-0wmg510009], [1417542742883, http://www.kenwoodworld.com/ru-ru/all-products/blenders-mixers-and-meat-grinders/meat-grinders-ru/mg510-meat-grinder-0wmg510009], [1417542725367, http://www.kenwoodworld.com/ru-ru/all-products/blenders-mixers-and-meat-grinders/meat-grinders-ru/mg510-meat-grinder-0wmg510009], [1417542659966, http://www.kenwoodworld.com/ru-ru/all-products/blenders-mixers-and-meat-grinders/meat-grinders-ru/mg510-meat-grinder-0wmg510009], [1417542501523, http://www.kenwoodworld.com/ru-ru], [1417542435930, http://101.ru/?an=port_channel_mp3&channel=24], [1417473193974, http://www.shop-script.ru/platform/], [1417451297674, http://101.ru/?an=port_channel_mp3&channel=34]]|\n",
      "+------------------------------------+---------------------------------------------------------------------------------------------------------------------------------------------------------------------------------------------------------------------------------------------------------------------------------------------------------------------------------------------------------------------------------------------------------------------------------------------------------------------------------------------------------------------------------------------------------------------------------------------------------------------------------------------------------------------------------------------------------------------------------------------------------------------------------------------------------------------------------------------------------------------------------------------------------------------------------------------------------------------------------------------------------------------------------------------------------------------------------------------------------------------------------------------------------------------------------------------------------------------------------------------------------------------------------------------------------------------------------------------------------------------------------------------------------------------------------------------------------------------------------------------------------------------------------------------------------------------------------------------------------------------------------------------------------------------------------------------------------------------------------------------------------------------------------------------------------------------------------------------------------------------------------------------------------------------------------------------------------------------------------------------------------------------------------------------------------------------------------------------------------------------------------------------------------------------------------------------------------------------------------------------------------------------------------------------------------------------------------------------------------------------------------------------------------------------------------------------------------------------------------------------------------------------------------------------------------------------------------------------------------------------------------------------------------------------------------------------------------------------------------------------------------------------------------------------------------------------------------------------------------------------------------------------------------------------------------------------------------------------------------------------------------------------------------------------------------------------------------------------------------------------------------------------------------------------------------------------------------------------------------------------------------------------------------------------------------------------------------------------------------------------------------------------------------------------------------------------------------------------------------------------------------------------------------------------------------------------------------------------------------------------------------------------------------------------------------------------------------------------------------------------------------------------------------------------------------------------------------------------------------------------------------------------------------------------------------------------------------------------------------------------------------------------------------------------------------------------------------------------------------------------------------------------------------------------------------------------------------------------------------------------------------------------------------------------------------------------------------------------------------------------------------------------------------------------------------------------------------------------------------------------------------------------------------------------------------------------------------------------------------------------------------------------------------------------------------------------------------------------------------------------------------------------------------------------------------------------------------------------------------------------------------------------------------------------------------------------------------------------------------------------------------------------------------------------------------------------------------------------------------------------------------------------------------------------------------------------------------------------------------------------------------------------------------------------------------------------------------------------------------------------------------------------------------------------------------------------------------------------------------------------------------------------------------------------------------------------------------------------------------------------------------------------------------------------------------------------------------------------------------------------------------------------------------------------------------------------------------------------------------------------------------------------------------------------------------------------------------------------------------------------------------------------------------------------------------------------------------------------------------------------------------------------------------------------------------------------------------------------------------------------------------------------------------------------------------------------------------------------------------------------------------------------------------------------------------------------------------------------------------------------------------------------------------------------------------------------------------------------------------------------------------------------------------------------------------------------------------------------------------------------------------------------------------------------------------------------------------------------------------------------------------------------------------------------------------------------------------------------------------------------------------------------------------------------------------------------------------------------------------------------------------------------------------------------------------------------------------------------------------------------------------------------------------------------------------------------------------------------------------------------------------------------------------------------------------------------------------------------------------------------------------------------------------------------------------------------------------------------------------------------------------------------------------------------------------------------------------------------------------------------------------------------------------------------------------------------------------------------------------------------------------------------------------------------------------------------------------------------------------------------------------------------------------------------------------------------------------------------------------------------------------------------------------------------------------------------------------------------------------------------------------------------------------------------------------------------------------------------------------------------------------------------------------------------------------------------------------------------------------------------------------------------------------------------------------------------------------------------------------------------------------------------------------------------------------------------------------------------------------------------------------------------------------------------------------------------------------------------------------------------------------------------------------------------------------------------------------------------------------------------------------------------------------------------------------------------------------------------------------------------------------------------------------------------------------------------------------------------------------------------------------------------------------------------------------------------------------------------------------------------------------------------------------------------------------------------------------------------------------------------------------------------------------------------------------------------------------------------------------------------------------------------------------------------------------------------------------------------------------------------------------------------------------------------------------------------------------------------------------------------------------------------------------------------------------------------------------------------------------------------------------------------------------------------------------------------------------------------------------------------------------------------------------------------------------------------------------------------------------------------------------------------------------------------------------------------------------------------------------------------------------------------------------------------------------------------------------------------------------------------------------------------------------------------------------------------------------------------------------------------------------------------------------------------------------------------------------------------------------------------------------------------------------------------+\n",
      "only showing top 2 rows\n",
      "\n"
     ]
    }
   ],
   "source": [
    "// логи веб-сайтов\n",
    "logs. show(2, false)"
   ]
  },
  {
   "cell_type": "code",
   "execution_count": 137,
   "metadata": {},
   "outputs": [
    {
     "data": {
      "text/plain": [
       "log_1 = [uid: string, visits: array<struct<timestamp:bigint,url:string>>]\n",
       "log_2 = [uid: string, url: string]\n"
      ]
     },
     "metadata": {},
     "output_type": "display_data"
    },
    {
     "data": {
      "text/plain": [
       "[uid: string, url: string]"
      ]
     },
     "execution_count": 137,
     "metadata": {},
     "output_type": "execute_result"
    }
   ],
   "source": [
    "//  джойн по клиентам, чтобы отсечь лишнее\n",
    "val log_1 = logs.join(dfClients, Seq(\"uid\"), \"inner\")\n",
    "        .select('uid, 'visits)\n",
    "val log_2  = log_1.select($\"uid\",explode($\"visits\")).select(\"uid\", \"col.url\")\n"
   ]
  },
  {
   "cell_type": "code",
   "execution_count": 138,
   "metadata": {},
   "outputs": [
    {
     "data": {
      "text/plain": [
       "36138"
      ]
     },
     "execution_count": 138,
     "metadata": {},
     "output_type": "execute_result"
    }
   ],
   "source": [
    "log_1.count"
   ]
  },
  {
   "cell_type": "code",
   "execution_count": 91,
   "metadata": {},
   "outputs": [
    {
     "name": "stdout",
     "output_type": "stream",
     "text": [
      "+------------------------------------+----------------------------------------------------------------------------------------------------------------------------------------------------------------------------------------------------------------------------------------------------------------------------------------------------------------------------------------------------------------------------------------------------------------------------------------------------------------------------------------------------------------------------------------------------------------------------------------------------+\n",
      "|uid                                 |visits                                                                                                                                                                                                                                                                                                                                                                                                                                                                                                                                                                                              |\n",
      "+------------------------------------+----------------------------------------------------------------------------------------------------------------------------------------------------------------------------------------------------------------------------------------------------------------------------------------------------------------------------------------------------------------------------------------------------------------------------------------------------------------------------------------------------------------------------------------------------------------------------------------------------+\n",
      "|d50192e5-c44e-4ae8-ae7a-7cfe67c8b777|[[1419688144068, http://zebra-zoya.ru/200028-chehol-organayzer-dlja-macbook-11-grid-it.html?utm_campaign=397720794&utm_content=397729344&utm_medium=cpc&utm_source=begun], [1426666298001, http://news.yandex.ru/yandsearch?cl4url=chezasite.com/htc/htc-one-m9-delay-86327.html&lr=213&rpt=story], [1426666298000, http://www.sotovik.ru/news/240283-htc-one-m9-zaderzhivaetsja.html], [1426661722001, http://news.yandex.ru/yandsearch?cl4url=chezasite.com/htc/htc-one-m9-delay-86327.html&lr=213&rpt=story], [1426661722000, http://www.sotovik.ru/news/240283-htc-one-m9-zaderzhivaetsja.html]]|\n",
      "+------------------------------------+----------------------------------------------------------------------------------------------------------------------------------------------------------------------------------------------------------------------------------------------------------------------------------------------------------------------------------------------------------------------------------------------------------------------------------------------------------------------------------------------------------------------------------------------------------------------------------------------------+\n",
      "\n"
     ]
    }
   ],
   "source": [
    "log_1.show(false)"
   ]
  },
  {
   "cell_type": "code",
   "execution_count": 140,
   "metadata": {},
   "outputs": [
    {
     "name": "stdout",
     "output_type": "stream",
     "text": [
      "+------------------------------------+-------------------------------------------------------------------------------------------------------------------------------------------------------+\n",
      "|                                 uid|                                                                                                                                                    url|\n",
      "+------------------------------------+-------------------------------------------------------------------------------------------------------------------------------------------------------+\n",
      "|d50192e5-c44e-4ae8-ae7a-7cfe67c8b777|http://zebra-zoya.ru/200028-chehol-organayzer-dlja-macbook-11-grid-it.html?utm_campaign=397720794&utm_content=397729344&utm_medium=cpc&utm_source=begun|\n",
      "|d50192e5-c44e-4ae8-ae7a-7cfe67c8b777|                                                 http://news.yandex.ru/yandsearch?cl4url=chezasite.com/htc/htc-one-m9-delay-86327.html&lr=213&rpt=story|\n",
      "|d50192e5-c44e-4ae8-ae7a-7cfe67c8b777|                                                                                      http://www.sotovik.ru/news/240283-htc-one-m9-zaderzhivaetsja.html|\n",
      "+------------------------------------+-------------------------------------------------------------------------------------------------------------------------------------------------------+\n",
      "only showing top 3 rows\n",
      "\n"
     ]
    }
   ],
   "source": [
    "log_2.filter('uid === \"d50192e5-c44e-4ae8-ae7a-7cfe67c8b777\")show(3, 200, false)"
   ]
  },
  {
   "cell_type": "code",
   "execution_count": 141,
   "metadata": {},
   "outputs": [
    {
     "data": {
      "text/plain": [
       "log_3 = [uid: string, url: string ... 2 more fields]\n"
      ]
     },
     "metadata": {},
     "output_type": "display_data"
    },
    {
     "data": {
      "text/plain": [
       "[uid: string, url: string ... 2 more fields]"
      ]
     },
     "execution_count": 141,
     "metadata": {},
     "output_type": "execute_result"
    }
   ],
   "source": [
    "val log_3 = log_2.withColumn(\"host\", callUDF(\"parse_url\", $\"url\", lit(\"HOST\")))\n",
    "            .withColumn(\"host2\", callUDF(\"replace\",$\"host\" , lit(\"www.\"), lit(\"\")))"
   ]
  },
  {
   "cell_type": "code",
   "execution_count": 142,
   "metadata": {},
   "outputs": [
    {
     "name": "stdout",
     "output_type": "stream",
     "text": [
      "+--------------------+--------------------+-------------------+---------------+\n",
      "|                 uid|                 url|               host|          host2|\n",
      "+--------------------+--------------------+-------------------+---------------+\n",
      "|0392f398-ea7e-4a1...|http://www.adme.r...|        www.adme.ru|        adme.ru|\n",
      "|0392f398-ea7e-4a1...|http://www.adme.r...|        www.adme.ru|        adme.ru|\n",
      "|0392f398-ea7e-4a1...|http://www.online...|www.onlinesudoku.ru|onlinesudoku.ru|\n",
      "+--------------------+--------------------+-------------------+---------------+\n",
      "only showing top 3 rows\n",
      "\n"
     ]
    }
   ],
   "source": [
    "log_3.show(3)"
   ]
  },
  {
   "cell_type": "code",
   "execution_count": 111,
   "metadata": {},
   "outputs": [
    {
     "name": "stdout",
     "output_type": "stream",
     "text": [
      "+------------------------+-----+\n",
      "|category                |count|\n",
      "+------------------------+-----+\n",
      "|travel                  |318  |\n",
      "|business_and_industry   |9610 |\n",
      "|finance                 |40179|\n",
      "|computer_and_electronics|506  |\n",
      "|internet_and_telecom    |1015 |\n",
      "|arts_and_entertainment  |48522|\n",
      "|shopping                |44428|\n",
      "|law_and_government      |185  |\n",
      "|beauty_and_fitness      |21026|\n",
      "|home_and_garden         |79   |\n",
      "|recreation_and_hobbies  |53   |\n",
      "|autos_and_vehicles      |183  |\n",
      "|games                   |393  |\n",
      "|science                 |53   |\n",
      "|books_and_literature    |115  |\n",
      "|gambling                |9829 |\n",
      "|reference               |125  |\n",
      "|health                  |34950|\n",
      "|food_and_drink          |96   |\n",
      "|sports                  |185  |\n",
      "+------------------------+-----+\n",
      "only showing top 20 rows\n",
      "\n"
     ]
    }
   ],
   "source": [
    "// категории\n",
    "catg.groupBy(\"category\").count.show(false)"
   ]
  },
  {
   "cell_type": "code",
   "execution_count": 143,
   "metadata": {},
   "outputs": [
    {
     "data": {
      "text/plain": [
       "joinCondition = (host = domain)\n",
       "joinSite = [uid: string, url: string ... 4 more fields]\n"
      ]
     },
     "metadata": {},
     "output_type": "display_data"
    },
    {
     "data": {
      "text/plain": [
       "[uid: string, url: string ... 4 more fields]"
      ]
     },
     "execution_count": 143,
     "metadata": {},
     "output_type": "execute_result"
    }
   ],
   "source": [
    "// джойним категории\n",
    "\n",
    "import org.apache.spark.sql.Column\n",
    "val joinCondition: Column = col(\"host\") === col(\"domain\")\n",
    "\n",
    "val joinSite = log_3.join(catg, joinCondition)"
   ]
  },
  {
   "cell_type": "code",
   "execution_count": 144,
   "metadata": {},
   "outputs": [
    {
     "data": {
      "text/plain": [
       "udflogs = UserDefinedFunction(<function1>,StringType,Some(List(StringType)))\n"
      ]
     },
     "metadata": {},
     "output_type": "display_data"
    },
    {
     "data": {
      "text/plain": [
       "UserDefinedFunction(<function1>,StringType,Some(List(StringType)))"
      ]
     },
     "execution_count": 144,
     "metadata": {},
     "output_type": "execute_result"
    }
   ],
   "source": [
    "// преобразуем категории\n",
    "val udflogs = udf((x: String) => \"web_\".concat(\n",
    "    x.toLowerCase()\n",
    "    .replace(' ','_')\n",
    "    .replace('-','_')))"
   ]
  },
  {
   "cell_type": "code",
   "execution_count": 145,
   "metadata": {},
   "outputs": [
    {
     "data": {
      "text/plain": [
       "joinSite2 = [uid: string, url: string ... 6 more fields]\n"
      ]
     },
     "metadata": {},
     "output_type": "display_data"
    },
    {
     "data": {
      "text/plain": [
       "[uid: string, url: string ... 6 more fields]"
      ]
     },
     "execution_count": 145,
     "metadata": {},
     "output_type": "execute_result"
    }
   ],
   "source": [
    "val joinSite2 = joinSite\n",
    "            .withColumn(\"category2\", udflogs(col(\"category\")))\n",
    "            .withColumn(\"1\", lit(1))"
   ]
  },
  {
   "cell_type": "code",
   "execution_count": 147,
   "metadata": {},
   "outputs": [
    {
     "data": {
      "text/plain": [
       "joinSite3 = [uid: string, web_arts_and_entertainment: bigint ... 21 more fields]\n"
      ]
     },
     "metadata": {},
     "output_type": "display_data"
    },
    {
     "data": {
      "text/plain": [
       "[uid: string, web_arts_and_entertainment: bigint ... 21 more fields]"
      ]
     },
     "execution_count": 147,
     "metadata": {},
     "output_type": "execute_result"
    }
   ],
   "source": [
    "val joinSite3 = joinSite2.groupBy(\"uid\").pivot(\"category2\").sum(\"1\").na.fill(0)"
   ]
  },
  {
   "cell_type": "code",
   "execution_count": 148,
   "metadata": {},
   "outputs": [
    {
     "name": "stdout",
     "output_type": "stream",
     "text": [
      "+--------------------+--------------------------+----------------------+----------------------+------------------------+-------------------------+------------------------+----------------------------+-----------+------------------+------------+---------+----------+-------------------+------------------------+----------------------+------------------+--------------------------+-------------+-----------+------------+----------+----------+\n",
      "|                 uid|web_arts_and_entertainment|web_autos_and_vehicles|web_beauty_and_fitness|web_books_and_literature|web_business_and_industry|web_career_and_education|web_computer_and_electronics|web_finance|web_food_and_drink|web_gambling|web_games|web_health|web_home_and_garden|web_internet_and_telecom|web_law_and_government|web_news_and_media|web_recreation_and_hobbies|web_reference|web_science|web_shopping|web_sports|web_travel|\n",
      "+--------------------+--------------------------+----------------------+----------------------+------------------------+-------------------------+------------------------+----------------------------+-----------+------------------+------------+---------+----------+-------------------+------------------------+----------------------+------------------+--------------------------+-------------+-----------+------------+----------+----------+\n",
      "|d1b25e00-e63e-4e6...|                         1|                     0|                     0|                       0|                        0|                       0|                           0|         85|                 0|           0|        0|         1|                  0|                       0|                     0|                31|                         0|            2|          0|           0|         0|         0|\n",
      "|a7193805-fd23-450...|                        28|                     0|                     0|                       0|                        0|                       0|                           0|          0|                 0|           0|        0|         0|                  0|                       0|                     0|                 0|                         0|            0|          0|           0|         0|         0|\n",
      "|4dbddd13-ece7-4c7...|                         0|                     0|                     0|                       0|                        0|                       0|                           0|          0|                 0|           0|        0|         0|                  0|                       0|                     0|                 1|                         0|            0|          0|           0|         0|         0|\n",
      "|853148d9-6fff-4c4...|                         2|                     0|                     0|                       0|                        0|                       0|                           0|          2|                 0|           0|        0|         0|                  0|                       0|                     0|                 5|                         0|            0|          0|           0|         0|         2|\n",
      "|55872f59-b3bb-4e6...|                        91|                     0|                     0|                       0|                        0|                       0|                           0|          0|                 0|           0|        0|         0|                  0|                      47|                     0|                82|                         0|            0|          0|           0|         0|         0|\n",
      "+--------------------+--------------------------+----------------------+----------------------+------------------------+-------------------------+------------------------+----------------------------+-----------+------------------+------------+---------+----------+-------------------+------------------------+----------------------+------------------+--------------------------+-------------+-----------+------------+----------+----------+\n",
      "only showing top 5 rows\n",
      "\n"
     ]
    }
   ],
   "source": [
    "joinSite3.show(5)"
   ]
  },
  {
   "cell_type": "markdown",
   "metadata": {},
   "source": [
    "### Соединяем все в одну витрину"
   ]
  },
  {
   "cell_type": "code",
   "execution_count": 151,
   "metadata": {},
   "outputs": [
    {
     "data": {
      "text/plain": [
       "all_final = [uid: string, age: int ... 39 more fields]\n"
      ]
     },
     "metadata": {},
     "output_type": "display_data"
    },
    {
     "data": {
      "text/plain": [
       "[uid: string, age: int ... 39 more fields]"
      ]
     },
     "execution_count": 151,
     "metadata": {},
     "output_type": "execute_result"
    }
   ],
   "source": [
    "val all_final = dfClients.join(visits3, Seq(\"uid\"), \"left\")\n",
    "        .join(joinSite3, Seq(\"uid\"), \"left\")"
   ]
  },
  {
   "cell_type": "code",
   "execution_count": 154,
   "metadata": {},
   "outputs": [
    {
     "name": "stdout",
     "output_type": "stream",
     "text": [
      "+------------------------------------+---+------+------------+-------------+--------------+--------------+----------------------------+---------------------+------------------------------+-------------------------+------------------------+-----------------------+---------------------+------------+------------------+----------+---------------------+---------+--------------------------+----------------------+----------------------+------------------------+-------------------------+------------------------+----------------------------+-----------+------------------+------------+---------+----------+-------------------+------------------------+----------------------+------------------+--------------------------+-------------+-----------+------------+----------+----------+\n",
      "|                                 uid|age|gender|shop_cameras|shop_clothing|shop_computers|shop_cosmetics|shop_entertainment_equipment|shop_everyday_jewelry|shop_house_repairs_paint_tools|shop_household_appliances|shop_household_furniture|shop_kitchen_appliances|shop_kitchen_utensils|shop_luggage|shop_mobile_phones|shop_shoes|shop_sports_equipment|shop_toys|web_arts_and_entertainment|web_autos_and_vehicles|web_beauty_and_fitness|web_books_and_literature|web_business_and_industry|web_career_and_education|web_computer_and_electronics|web_finance|web_food_and_drink|web_gambling|web_games|web_health|web_home_and_garden|web_internet_and_telecom|web_law_and_government|web_news_and_media|web_recreation_and_hobbies|web_reference|web_science|web_shopping|web_sports|web_travel|\n",
      "+------------------------------------+---+------+------------+-------------+--------------+--------------+----------------------------+---------------------+------------------------------+-------------------------+------------------------+-----------------------+---------------------+------------+------------------+----------+---------------------+---------+--------------------------+----------------------+----------------------+------------------------+-------------------------+------------------------+----------------------------+-----------+------------------+------------+---------+----------+-------------------+------------------------+----------------------+------------------+--------------------------+-------------+-----------+------------+----------+----------+\n",
      "|0392f398-ea7e-4a1b-8c9d-d04df2a2a331| 56|     F|           1|            0|             0|             0|                           0|                    0|                             0|                        0|                       0|                      0|                    0|           0|                 0|         0|                    0|        0|                         0|                     0|                     5|                       0|                        3|                       0|                           0|          0|                 0|           0|        0|         0|                  0|                       0|                     0|                 3|                         0|            0|          0|           0|         0|         0|\n",
      "+------------------------------------+---+------+------------+-------------+--------------+--------------+----------------------------+---------------------+------------------------------+-------------------------+------------------------+-----------------------+---------------------+------------+------------------+----------+---------------------+---------+--------------------------+----------------------+----------------------+------------------------+-------------------------+------------------------+----------------------------+-----------+------------------+------------+---------+----------+-------------------+------------------------+----------------------+------------------+--------------------------+-------------+-----------+------------+----------+----------+\n",
      "only showing top 1 row\n",
      "\n"
     ]
    }
   ],
   "source": [
    "all_final.show(1, 300, false)"
   ]
  },
  {
   "cell_type": "code",
   "execution_count": 156,
   "metadata": {},
   "outputs": [
    {
     "data": {
      "text/plain": [
       "36138"
      ]
     },
     "execution_count": 156,
     "metadata": {},
     "output_type": "execute_result"
    }
   ],
   "source": [
    "all_final.count"
   ]
  },
  {
   "cell_type": "code",
   "execution_count": 155,
   "metadata": {},
   "outputs": [
    {
     "data": {
      "text/plain": [
       "36138"
      ]
     },
     "execution_count": 155,
     "metadata": {},
     "output_type": "execute_result"
    }
   ],
   "source": [
    "dfClients.count"
   ]
  }
 ],
 "metadata": {
  "kernelspec": {
   "display_name": "Apache Toree - Scala",
   "language": "scala",
   "name": "apache_toree_scala"
  },
  "language_info": {
   "codemirror_mode": "text/x-scala",
   "file_extension": ".scala",
   "mimetype": "text/x-scala",
   "name": "scala",
   "pygments_lexer": "scala",
   "version": "2.11.12"
  }
 },
 "nbformat": 4,
 "nbformat_minor": 2
}
