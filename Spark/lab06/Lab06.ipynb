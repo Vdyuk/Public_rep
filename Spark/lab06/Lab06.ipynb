{
 "cells": [
  {
   "cell_type": "code",
   "execution_count": 1,
   "metadata": {},
   "outputs": [
    {
     "name": "stdout",
     "output_type": "stream",
     "text": [
      "Found 2 items\n",
      "-rw-r--r--   3 hdfs hdfs  563826904 2020-05-14 18:12 /labs/laba03/weblogs.json\n",
      "drwxr-xr-x   - hdfs hdfs          0 2020-05-15 01:07 /labs/laba03/weblogs.parquet\n",
      "\n"
     ]
    }
   ],
   "source": [
    "import sys.process._\n",
    "// Работает с датасетом, созданным в Лабе 4\n",
    "println(\"hdfs dfs -ls /labs/laba03/\".!!)"
   ]
  },
  {
   "cell_type": "code",
   "execution_count": 8,
   "metadata": {},
   "outputs": [
    {
     "data": {
      "text/plain": [
       "logs = [uid: string, visits: array<struct<timestamp:bigint,url:string>>]\n"
      ]
     },
     "metadata": {},
     "output_type": "display_data"
    },
    {
     "data": {
      "text/plain": [
       "[uid: string, visits: array<struct<timestamp:bigint,url:string>>]"
      ]
     },
     "execution_count": 8,
     "metadata": {},
     "output_type": "execute_result"
    }
   ],
   "source": [
    "val logs = spark.read.parquet(\"hdfs:///labs/laba03/weblogs.parquet\")"
   ]
  },
  {
   "cell_type": "code",
   "execution_count": 11,
   "metadata": {},
   "outputs": [
    {
     "name": "stdout",
     "output_type": "stream",
     "text": [
      "+------------------------------------+--------------------------------------------------------------------------------------------------------------------------------------------------------------------------------------------------------+\n",
      "|                                 uid|                                                                                                                                                                                                  visits|\n",
      "+------------------------------------+--------------------------------------------------------------------------------------------------------------------------------------------------------------------------------------------------------+\n",
      "|39d8aded-2111-42ab-9393-37c4f781d030|[[1419590902274, http://go.mail.ru/], [1419590344372, http://thephilanews.com/ru/wawa-welcome-america-begins-with-reading-…-and-the-runway-32987.htm], [1419590203997, http://visitorsworth.com/www.w...|\n",
      "+------------------------------------+--------------------------------------------------------------------------------------------------------------------------------------------------------------------------------------------------------+\n",
      "only showing top 1 row\n",
      "\n"
     ]
    }
   ],
   "source": [
    "logs.show(1,200, false)"
   ]
  },
  {
   "cell_type": "code",
   "execution_count": 9,
   "metadata": {},
   "outputs": [
    {
     "name": "stdout",
     "output_type": "stream",
     "text": [
      "root\n",
      " |-- uid: string (nullable = true)\n",
      " |-- visits: array (nullable = true)\n",
      " |    |-- element: struct (containsNull = true)\n",
      " |    |    |-- timestamp: long (nullable = true)\n",
      " |    |    |-- url: string (nullable = true)\n",
      "\n"
     ]
    }
   ],
   "source": [
    "logs.printSchema"
   ]
  },
  {
   "cell_type": "code",
   "execution_count": 10,
   "metadata": {},
   "outputs": [
    {
     "data": {
      "text/plain": [
       "logs_2 = [uid: string, timestamp: bigint ... 1 more field]\n"
      ]
     },
     "metadata": {},
     "output_type": "display_data"
    },
    {
     "data": {
      "text/plain": [
       "[uid: string, timestamp: bigint ... 1 more field]"
      ]
     },
     "execution_count": 10,
     "metadata": {},
     "output_type": "execute_result"
    }
   ],
   "source": [
    "import org.apache.spark.sql.functions._\n",
    "\n",
    "val logs_2 = logs.select($\"uid\", explode($\"visits\")).select(\"uid\", \"col.timestamp\", \"col.url\")"
   ]
  },
  {
   "cell_type": "code",
   "execution_count": 22,
   "metadata": {},
   "outputs": [
    {
     "name": "stdout",
     "output_type": "stream",
     "text": [
      "+------------------------------------+-------------+----------------------------------------------------------------------------------------------+\n",
      "|                                 uid|    timestamp|                                                                                           url|\n",
      "+------------------------------------+-------------+----------------------------------------------------------------------------------------------+\n",
      "|39d8aded-2111-42ab-9393-37c4f781d030|1419590902274|                                                                            http://go.mail.ru/|\n",
      "|39d8aded-2111-42ab-9393-37c4f781d030|1419590344372|http://thephilanews.com/ru/wawa-welcome-america-begins-with-reading-…-and-the-runway-32987.htm|\n",
      "|39d8aded-2111-42ab-9393-37c4f781d030|1419590203997|                                                         http://visitorsworth.com/www.wawa.com|\n",
      "|39d8aded-2111-42ab-9393-37c4f781d030|1419589141914|                             http://10receptov.net/rojdestvenskii-pryanii-hleb-k-zavtraku.html|\n",
      "|39d8aded-2111-42ab-9393-37c4f781d030|1419588542058|                                                      http://www.koolinar.ru/recipe/view/72381|\n",
      "|39d8aded-2111-42ab-9393-37c4f781d030|1427181952000|                                                       http://www.mnogo.ru/new_confirm/ok.html|\n",
      "|39d8aded-2111-42ab-9393-37c4f781d030|1427181928000|                                                       http://www.mnogo.ru/new_confirm/ok.html|\n",
      "|39d8aded-2111-42ab-9393-37c4f781d030|1427181927000|                                                       http://www.mnogo.ru/new_confirm/ok.html|\n",
      "+------------------------------------+-------------+----------------------------------------------------------------------------------------------+\n",
      "\n"
     ]
    }
   ],
   "source": [
    "logs_2.filter('uid ===\"39d8aded-2111-42ab-9393-37c4f781d030\").show(20,200,false)"
   ]
  },
  {
   "cell_type": "code",
   "execution_count": 11,
   "metadata": {},
   "outputs": [
    {
     "data": {
      "text/plain": [
       "log_3 = [uid: string, timestamp: bigint ... 3 more fields]\n"
      ]
     },
     "metadata": {},
     "output_type": "display_data"
    },
    {
     "data": {
      "text/plain": [
       "[uid: string, timestamp: bigint ... 3 more fields]"
      ]
     },
     "execution_count": 11,
     "metadata": {},
     "output_type": "execute_result"
    }
   ],
   "source": [
    "// парсим сайт\n",
    "val log_3 = logs_2\n",
    "        .withColumn(\"host\", lower(callUDF(\"parse_url\", $\"url\", lit(\"HOST\"))))\n",
    "        .withColumn(\"domain\", regexp_replace($\"host\", \"www.\", \"\"))"
   ]
  },
  {
   "cell_type": "code",
   "execution_count": 12,
   "metadata": {},
   "outputs": [
    {
     "name": "stdout",
     "output_type": "stream",
     "text": [
      "+--------------------+-------------+--------------------+-----------------+-----------------+\n",
      "|                 uid|    timestamp|                 url|             host|           domain|\n",
      "+--------------------+-------------+--------------------+-----------------+-----------------+\n",
      "|39d8aded-2111-42a...|1419590902274|  http://go.mail.ru/|       go.mail.ru|       go.mail.ru|\n",
      "|39d8aded-2111-42a...|1419590344372|http://thephilane...| thephilanews.com| thephilanews.com|\n",
      "|39d8aded-2111-42a...|1419590203997|http://visitorswo...|visitorsworth.com|visitorsworth.com|\n",
      "|39d8aded-2111-42a...|1419589141914|http://10receptov...|   10receptov.net|   10receptov.net|\n",
      "|39d8aded-2111-42a...|1419588542058|http://www.koolin...|  www.koolinar.ru|      koolinar.ru|\n",
      "|39d8aded-2111-42a...|1427181952000|http://www.mnogo....|     www.mnogo.ru|         mnogo.ru|\n",
      "|39d8aded-2111-42a...|1427181928000|http://www.mnogo....|     www.mnogo.ru|         mnogo.ru|\n",
      "|39d8aded-2111-42a...|1427181927000|http://www.mnogo....|     www.mnogo.ru|         mnogo.ru|\n",
      "+--------------------+-------------+--------------------+-----------------+-----------------+\n",
      "\n"
     ]
    }
   ],
   "source": [
    "log_3.filter('uid ===\"39d8aded-2111-42ab-9393-37c4f781d030\").show(20)"
   ]
  },
  {
   "cell_type": "markdown",
   "metadata": {},
   "source": [
    "#### ТОП-1000 по сайтам"
   ]
  },
  {
   "cell_type": "code",
   "execution_count": 13,
   "metadata": {},
   "outputs": [
    {
     "data": {
      "text/plain": [
       "toplog = [domain: string, count: bigint]\n"
      ]
     },
     "metadata": {},
     "output_type": "display_data"
    },
    {
     "data": {
      "text/plain": [
       "[domain: string, count: bigint]"
      ]
     },
     "execution_count": 13,
     "metadata": {},
     "output_type": "execute_result"
    }
   ],
   "source": [
    "val toplog = log_3.groupBy('domain).count() "
   ]
  },
  {
   "cell_type": "code",
   "execution_count": 14,
   "metadata": {},
   "outputs": [
    {
     "name": "stdout",
     "output_type": "stream",
     "text": [
      "+--------------------+------+\n",
      "|              domain| count|\n",
      "+--------------------+------+\n",
      "|            avito.ru|352568|\n",
      "|                http|349733|\n",
      "|          smotri.com|186882|\n",
      "|                null|128051|\n",
      "|               https| 86614|\n",
      "|           24open.ru| 76716|\n",
      "|       loveplanet.ru| 74833|\n",
      "|     mail.rambler.ru| 73418|\n",
      "|              vk.com| 70608|\n",
      "|         youtube.com| 63539|\n",
      "|           yandex.ru| 56345|\n",
      "|         echo.msk.ru| 40039|\n",
      "|        yaplakal.com| 37226|\n",
      "|           yabadu.ru| 34483|\n",
      "|            ebay.com| 34434|\n",
      "|         svyaznoy.ru| 32360|\n",
      "|  forum.littleone.ru| 32290|\n",
      "|        seasonvar.ru| 31367|\n",
      "|             ozon.ru| 30601|\n",
      "|               vz.ru| 29997|\n",
      "|         topface.com| 28270|\n",
      "|        b.kavanga.ru| 26413|\n",
      "|             adme.ru| 25910|\n",
      "|   go.youlamedia.com| 25375|\n",
      "|         mail.qip.ru| 25233|\n",
      "|           sports.ru| 23104|\n",
      "|content.adspynet.com| 22875|\n",
      "|    news.sportbox.ru| 22850|\n",
      "|              999.md| 21565|\n",
      "|         xvideos.com| 20696|\n",
      "+--------------------+------+\n",
      "only showing top 30 rows\n",
      "\n"
     ]
    }
   ],
   "source": [
    "toplog.sort($\"count\".desc)show(30)"
   ]
  },
  {
   "cell_type": "code",
   "execution_count": 30,
   "metadata": {},
   "outputs": [
    {
     "data": {
      "text/plain": [
       "106333"
      ]
     },
     "execution_count": 30,
     "metadata": {},
     "output_type": "execute_result"
    }
   ],
   "source": [
    "toplog.count"
   ]
  },
  {
   "cell_type": "code",
   "execution_count": 33,
   "metadata": {},
   "outputs": [
    {
     "name": "stdout",
     "output_type": "stream",
     "text": [
      "+------+------+\n",
      "|domain| count|\n",
      "+------+------+\n",
      "|  null|128051|\n",
      "+------+------+\n",
      "\n"
     ]
    }
   ],
   "source": [
    "toplog.filter('domain.isNull).show"
   ]
  },
  {
   "cell_type": "code",
   "execution_count": 15,
   "metadata": {},
   "outputs": [
    {
     "data": {
      "text/plain": [
       "toplog2 = [domain: string, count: bigint]\n"
      ]
     },
     "metadata": {},
     "output_type": "display_data"
    },
    {
     "data": {
      "text/plain": [
       "[domain: string, count: bigint]"
      ]
     },
     "execution_count": 15,
     "metadata": {},
     "output_type": "execute_result"
    }
   ],
   "source": [
    "val toplog2 = toplog.filter('domain.isNotNull).sort($\"count\".desc).limit(1000)"
   ]
  },
  {
   "cell_type": "code",
   "execution_count": 16,
   "metadata": {},
   "outputs": [
    {
     "data": {
      "text/plain": [
       "1000"
      ]
     },
     "execution_count": 16,
     "metadata": {},
     "output_type": "execute_result"
    }
   ],
   "source": [
    "toplog2.count"
   ]
  },
  {
   "cell_type": "code",
   "execution_count": 41,
   "metadata": {},
   "outputs": [
    {
     "name": "stdout",
     "output_type": "stream",
     "text": [
      "+------------------+------+\n",
      "|            domain| count|\n",
      "+------------------+------+\n",
      "|          avito.ru|352568|\n",
      "|              http|349733|\n",
      "|        smotri.com|186882|\n",
      "|             https| 86614|\n",
      "|         24open.ru| 76716|\n",
      "|     loveplanet.ru| 74833|\n",
      "|   mail.rambler.ru| 73418|\n",
      "|            vk.com| 70608|\n",
      "|       youtube.com| 63539|\n",
      "|         yandex.ru| 56345|\n",
      "|       echo.msk.ru| 40039|\n",
      "|      yaplakal.com| 37226|\n",
      "|         yabadu.ru| 34483|\n",
      "|          ebay.com| 34434|\n",
      "|       svyaznoy.ru| 32360|\n",
      "|forum.littleone.ru| 32290|\n",
      "|      seasonvar.ru| 31367|\n",
      "|           ozon.ru| 30601|\n",
      "|             vz.ru| 29997|\n",
      "|       topface.com| 28270|\n",
      "+------------------+------+\n",
      "only showing top 20 rows\n",
      "\n"
     ]
    }
   ],
   "source": [
    "toplog2.show"
   ]
  },
  {
   "cell_type": "markdown",
   "metadata": {},
   "source": [
    "##### как собрать в один вектор столбец"
   ]
  },
  {
   "cell_type": "code",
   "execution_count": 18,
   "metadata": {},
   "outputs": [
    {
     "name": "stdout",
     "output_type": "stream",
     "text": [
      "+----------------------------------------------------------------------------------------------------+\n",
      "|                                                                                             domain1|\n",
      "+----------------------------------------------------------------------------------------------------+\n",
      "|[avito.ru, http, smotri.com, https, 24open.ru, loveplanet.ru, mail.rambler.ru, vk.com, youtube.co...|\n",
      "+----------------------------------------------------------------------------------------------------+\n",
      "\n"
     ]
    }
   ],
   "source": [
    "toplog2\n",
    "  //.groupBy()\n",
    "  .agg(collect_list(\"domain\") as \"domain1\")\n",
    "  .show(1, 100, false)"
   ]
  },
  {
   "cell_type": "markdown",
   "metadata": {},
   "source": [
    "#### Список клиентов"
   ]
  },
  {
   "cell_type": "code",
   "execution_count": 19,
   "metadata": {},
   "outputs": [
    {
     "name": "stdout",
     "output_type": "stream",
     "text": [
      "+-------------------+\n",
      "|count(DISTINCT uid)|\n",
      "+-------------------+\n",
      "|              36138|\n",
      "+-------------------+\n",
      "\n"
     ]
    }
   ],
   "source": [
    "// уник юзеров\n",
    "logs.select(countDistinct(\"uid\")).show"
   ]
  },
  {
   "cell_type": "code",
   "execution_count": 20,
   "metadata": {},
   "outputs": [
    {
     "data": {
      "text/plain": [
       "clients = [uid: string]\n"
      ]
     },
     "metadata": {},
     "output_type": "display_data"
    },
    {
     "data": {
      "text/plain": [
       "36138"
      ]
     },
     "execution_count": 20,
     "metadata": {},
     "output_type": "execute_result"
    }
   ],
   "source": [
    "val clients = logs.select('uid)\n",
    "clients.count"
   ]
  },
  {
   "cell_type": "markdown",
   "metadata": {},
   "source": [
    "#### Джойним клиентов на сайты из ТОП-1000"
   ]
  },
  {
   "cell_type": "code",
   "execution_count": 21,
   "metadata": {},
   "outputs": [
    {
     "data": {
      "text/plain": [
       "cl_top = [uid: string, domain: string ... 1 more field]\n"
      ]
     },
     "metadata": {},
     "output_type": "display_data"
    },
    {
     "data": {
      "text/plain": [
       "[uid: string, domain: string ... 1 more field]"
      ]
     },
     "execution_count": 21,
     "metadata": {},
     "output_type": "execute_result"
    }
   ],
   "source": [
    "val cl_top = clients.crossJoin(toplog2)"
   ]
  },
  {
   "cell_type": "code",
   "execution_count": 58,
   "metadata": {},
   "outputs": [
    {
     "name": "stdout",
     "output_type": "stream",
     "text": [
      "+--------------------+------------------+------+\n",
      "|                 uid|            domain| count|\n",
      "+--------------------+------------------+------+\n",
      "|39d8aded-2111-42a...|          avito.ru|352568|\n",
      "|39d8aded-2111-42a...|              http|349733|\n",
      "|39d8aded-2111-42a...|        smotri.com|186882|\n",
      "|39d8aded-2111-42a...|             https| 86614|\n",
      "|39d8aded-2111-42a...|         24open.ru| 76716|\n",
      "|39d8aded-2111-42a...|     loveplanet.ru| 74833|\n",
      "|39d8aded-2111-42a...|   mail.rambler.ru| 73418|\n",
      "|39d8aded-2111-42a...|            vk.com| 70608|\n",
      "|39d8aded-2111-42a...|       youtube.com| 63539|\n",
      "|39d8aded-2111-42a...|         yandex.ru| 56345|\n",
      "|39d8aded-2111-42a...|       echo.msk.ru| 40039|\n",
      "|39d8aded-2111-42a...|      yaplakal.com| 37226|\n",
      "|39d8aded-2111-42a...|         yabadu.ru| 34483|\n",
      "|39d8aded-2111-42a...|          ebay.com| 34434|\n",
      "|39d8aded-2111-42a...|       svyaznoy.ru| 32360|\n",
      "|39d8aded-2111-42a...|forum.littleone.ru| 32290|\n",
      "|39d8aded-2111-42a...|      seasonvar.ru| 31367|\n",
      "|39d8aded-2111-42a...|           ozon.ru| 30601|\n",
      "|39d8aded-2111-42a...|             vz.ru| 29997|\n",
      "|39d8aded-2111-42a...|       topface.com| 28270|\n",
      "+--------------------+------------------+------+\n",
      "only showing top 20 rows\n",
      "\n"
     ]
    }
   ],
   "source": [
    "cl_top.filter('uid ===\"39d8aded-2111-42ab-9393-37c4f781d030\").show(20)"
   ]
  },
  {
   "cell_type": "markdown",
   "metadata": {},
   "source": [
    "#### Посчитаем кол-во посещений"
   ]
  },
  {
   "cell_type": "code",
   "execution_count": 22,
   "metadata": {},
   "outputs": [
    {
     "data": {
      "text/plain": [
       "windowSpec = org.apache.spark.sql.expressions.WindowSpec@19f79d23\n"
      ]
     },
     "metadata": {},
     "output_type": "display_data"
    },
    {
     "data": {
      "text/plain": [
       "org.apache.spark.sql.expressions.WindowSpec@19f79d23"
      ]
     },
     "execution_count": 22,
     "metadata": {},
     "output_type": "execute_result"
    }
   ],
   "source": [
    "import org.apache.spark.sql.expressions.Window\n",
    "\n",
    "// для проверки порядка сделаем row_number\n",
    "val windowSpec = Window.partitionBy(\"uid\").orderBy(\"domain\")"
   ]
  },
  {
   "cell_type": "code",
   "execution_count": 24,
   "metadata": {},
   "outputs": [
    {
     "data": {
      "text/plain": [
       "cl_topjoin = [uid: string, domain: string ... 2 more fields]\n"
      ]
     },
     "metadata": {},
     "output_type": "display_data"
    },
    {
     "data": {
      "text/plain": [
       "[uid: string, domain: string ... 2 more fields]"
      ]
     },
     "execution_count": 24,
     "metadata": {},
     "output_type": "execute_result"
    }
   ],
   "source": [
    "val cl_topjoin = cl_top.as('a)\n",
    "        .join(log_3.as('b), $\"a.uid\" === $\"b.uid\" && $\"a.domain\" === $\"b.domain\", \"left\")\n",
    "        .groupBy($\"a.uid\", $\"a.domain\")\n",
    "        .agg(count($\"b.uid\").as(\"cnt\"))\n",
    "        .na.fill(0)\n",
    "        .sort($\"uid\", $\"domain\")\n",
    "        .withColumn(\"row_number\", row_number().over(windowSpec))"
   ]
  },
  {
   "cell_type": "code",
   "execution_count": 25,
   "metadata": {},
   "outputs": [
    {
     "name": "stdout",
     "output_type": "stream",
     "text": [
      "root\n",
      " |-- uid: string (nullable = true)\n",
      " |-- domain: string (nullable = true)\n",
      " |-- cnt: long (nullable = false)\n",
      " |-- row_number: integer (nullable = true)\n",
      "\n"
     ]
    }
   ],
   "source": [
    "cl_topjoin.printSchema"
   ]
  },
  {
   "cell_type": "markdown",
   "metadata": {},
   "source": [
    "##### проверка"
   ]
  },
  {
   "cell_type": "code",
   "execution_count": 26,
   "metadata": {},
   "outputs": [
    {
     "name": "stdout",
     "output_type": "stream",
     "text": [
      "+------------------------------------+-----------+---+----------+\n",
      "|uid                                 |domain     |cnt|row_number|\n",
      "+------------------------------------+-----------+---+----------+\n",
      "|39d8aded-2111-42ab-9393-37c4f781d030|go.mail.ru |1  |312       |\n",
      "|39d8aded-2111-42ab-9393-37c4f781d030|koolinar.ru|1  |423       |\n",
      "|39d8aded-2111-42ab-9393-37c4f781d030|mnogo.ru   |3  |536       |\n",
      "+------------------------------------+-----------+---+----------+\n",
      "\n"
     ]
    }
   ],
   "source": [
    "cl_topjoin.filter($\"uid\" ===\"39d8aded-2111-42ab-9393-37c4f781d030\" && 'cnt >0).show(false)"
   ]
  },
  {
   "cell_type": "code",
   "execution_count": 27,
   "metadata": {},
   "outputs": [
    {
     "data": {
      "text/plain": [
       "1000"
      ]
     },
     "execution_count": 27,
     "metadata": {},
     "output_type": "execute_result"
    }
   ],
   "source": [
    "cl_topjoin.filter($\"uid\" ===\"39d8aded-2111-42ab-9393-37c4f781d030\").count"
   ]
  },
  {
   "cell_type": "code",
   "execution_count": 28,
   "metadata": {},
   "outputs": [
    {
     "name": "stdout",
     "output_type": "stream",
     "text": [
      "+-------------------+----------+\n",
      "|count(DISTINCT uid)|count(uid)|\n",
      "+-------------------+----------+\n",
      "|              36138|  36138000|\n",
      "+-------------------+----------+\n",
      "\n"
     ]
    }
   ],
   "source": [
    "cl_topjoin.select(countDistinct(\"uid\"), count(\"uid\")).show"
   ]
  },
  {
   "cell_type": "code",
   "execution_count": 106,
   "metadata": {},
   "outputs": [
    {
     "name": "stdout",
     "output_type": "stream",
     "text": [
      "+--------------------+----------------+---+----------+\n",
      "|                 uid|          domain|cnt|row_number|\n",
      "+--------------------+----------------+---+----------+\n",
      "|39d8aded-2111-42a...|    .kasparov.ru|  0|         1|\n",
      "|39d8aded-2111-42a...|     0629.com.ua|  0|         2|\n",
      "|39d8aded-2111-42a...|     1001eda.com|  0|         3|\n",
      "|39d8aded-2111-42a...|    1001golos.ru|  0|         4|\n",
      "|39d8aded-2111-42a...| 1001goroskop.ru|  0|         5|\n",
      "|39d8aded-2111-42a...|      1001tur.ru|  0|         6|\n",
      "|39d8aded-2111-42a...|          101.ru|  0|         7|\n",
      "|39d8aded-2111-42a...|        11x11.ru|  0|         8|\n",
      "|39d8aded-2111-42a...|123greetings.com|  0|         9|\n",
      "|39d8aded-2111-42a...|   123magazin.ru|  0|        10|\n",
      "|39d8aded-2111-42a...|       1prime.ru|  0|        11|\n",
      "|39d8aded-2111-42a...|      2012god.ru|  0|        12|\n",
      "|39d8aded-2111-42a...| 2015godkozy.com|  0|        13|\n",
      "|39d8aded-2111-42a...|         24au.ru|  0|        14|\n",
      "|39d8aded-2111-42a...|       24open.ru|  0|        15|\n",
      "|39d8aded-2111-42a...|          2ip.ru|  0|        16|\n",
      "|39d8aded-2111-42a...|          360.ru|  0|        17|\n",
      "|39d8aded-2111-42a...|   3d-galleru.ru|  0|        18|\n",
      "|39d8aded-2111-42a...|       3dnews.ru|  0|        19|\n",
      "|39d8aded-2111-42a...|      4tololo.ru|  0|        20|\n",
      "+--------------------+----------------+---+----------+\n",
      "only showing top 20 rows\n",
      "\n"
     ]
    }
   ],
   "source": [
    "cl_topjoin.filter($\"uid\" ===\"39d8aded-2111-42ab-9393-37c4f781d030\").show()"
   ]
  },
  {
   "cell_type": "markdown",
   "metadata": {},
   "source": [
    "#### Собираем в один вектор cnt по отсортированной колонке domain"
   ]
  },
  {
   "cell_type": "code",
   "execution_count": 29,
   "metadata": {},
   "outputs": [
    {
     "data": {
      "text/plain": [
       "cl_topjoin2 = [uid: string, domain_features: array<bigint>]\n"
      ]
     },
     "metadata": {},
     "output_type": "display_data"
    },
    {
     "data": {
      "text/plain": [
       "[uid: string, domain_features: array<bigint>]"
      ]
     },
     "execution_count": 29,
     "metadata": {},
     "output_type": "execute_result"
    }
   ],
   "source": [
    "val cl_topjoin2 = cl_topjoin\n",
    "  .groupBy(\"uid\")\n",
    "  .agg(collect_list(\"cnt\") as \"domain_features\")"
   ]
  },
  {
   "cell_type": "code",
   "execution_count": 95,
   "metadata": {},
   "outputs": [
    {
     "name": "stdout",
     "output_type": "stream",
     "text": [
      "+--------------------+--------------------+\n",
      "|                 uid|     domain_features|\n",
      "+--------------------+--------------------+\n",
      "|39d8aded-2111-42a...|[0, 0, 0, 0, 0, 0...|\n",
      "+--------------------+--------------------+\n",
      "\n"
     ]
    }
   ],
   "source": [
    "cl_topjoin2.filter($\"uid\" ===\"39d8aded-2111-42ab-9393-37c4f781d030\").show(100)"
   ]
  },
  {
   "cell_type": "code",
   "execution_count": 30,
   "metadata": {},
   "outputs": [
    {
     "name": "stdout",
     "output_type": "stream",
     "text": [
      "+----+----+----+\n",
      "|col1|col2|col3|\n",
      "+----+----+----+\n",
      "|   1|   1|   3|\n",
      "+----+----+----+\n",
      "\n"
     ]
    }
   ],
   "source": [
    "cl_topjoin2.filter($\"uid\" ===\"39d8aded-2111-42ab-9393-37c4f781d030\")\n",
    "  .select(\n",
    "    $\"domain_features\".getItem(312-1).as(\"col1\"),\n",
    "    $\"domain_features\".getItem(423-1).as(\"col2\"),\n",
    "    $\"domain_features\".getItem(536-1).as(\"col3\")\n",
    "      )\n",
    ".show"
   ]
  },
  {
   "cell_type": "markdown",
   "metadata": {},
   "source": [
    "#### domain_features Ок"
   ]
  },
  {
   "cell_type": "markdown",
   "metadata": {},
   "source": [
    "#### Достаем данные из лабы 05\n",
    "Слейте этот датасет с матрицей users-items из лабы 05 (версия 20200429, которая должна храниться у вас в домашней директории HDFS в подпапке visits) по ключу uid, чтобы получился один большой датасет."
   ]
  },
  {
   "cell_type": "code",
   "execution_count": 3,
   "metadata": {},
   "outputs": [
    {
     "name": "stdout",
     "output_type": "stream",
     "text": [
      "Found 1 items\n",
      "drwxr-xr-x   - vladimir.dyukarev vladimir.dyukarev          0 2020-06-27 19:38 /user/vladimir.dyukarev/users-items/20200429\n",
      "\n"
     ]
    }
   ],
   "source": [
    "import sys.process._\n",
    "\n",
    "println(\"hdfs dfs -ls /user/vladimir.dyukarev/users-items/\".!!)"
   ]
  },
  {
   "cell_type": "code",
   "execution_count": 5,
   "metadata": {},
   "outputs": [
    {
     "data": {
      "text/plain": [
       "Waiting for a Spark session to start..."
      ]
     },
     "metadata": {},
     "output_type": "display_data"
    },
    {
     "data": {
      "text/plain": [
       "visits = [uid: string, buy_cameras_0: bigint ... 639 more fields]\n"
      ]
     },
     "metadata": {},
     "output_type": "display_data"
    },
    {
     "data": {
      "text/plain": [
       "[uid: string, buy_cameras_0: bigint ... 639 more fields]"
      ]
     },
     "execution_count": 5,
     "metadata": {},
     "output_type": "execute_result"
    }
   ],
   "source": [
    "val visits = spark.read.parquet(\"hdfs:////user/vladimir.dyukarev/users-items/20200429\")"
   ]
  },
  {
   "cell_type": "code",
   "execution_count": 6,
   "metadata": {},
   "outputs": [
    {
     "name": "stdout",
     "output_type": "stream",
     "text": [
      "root\n",
      " |-- uid: string (nullable = true)\n",
      " |-- buy_cameras_0: long (nullable = true)\n",
      " |-- buy_cameras_1: long (nullable = true)\n",
      " |-- buy_cameras_10: long (nullable = true)\n",
      " |-- buy_cameras_11: long (nullable = true)\n",
      " |-- buy_cameras_12: long (nullable = true)\n",
      " |-- buy_cameras_13: long (nullable = true)\n",
      " |-- buy_cameras_14: long (nullable = true)\n",
      " |-- buy_cameras_15: long (nullable = true)\n",
      " |-- buy_cameras_16: long (nullable = true)\n",
      " |-- buy_cameras_17: long (nullable = true)\n",
      " |-- buy_cameras_18: long (nullable = true)\n",
      " |-- buy_cameras_19: long (nullable = true)\n",
      " |-- buy_cameras_2: long (nullable = true)\n",
      " |-- buy_cameras_3: long (nullable = true)\n",
      " |-- buy_cameras_4: long (nullable = true)\n",
      " |-- buy_cameras_5: long (nullable = true)\n",
      " |-- buy_cameras_6: long (nullable = true)\n",
      " |-- buy_cameras_7: long (nullable = true)\n",
      " |-- buy_cameras_8: long (nullable = true)\n",
      " |-- buy_cameras_9: long (nullable = true)\n",
      " |-- buy_clothing_0: long (nullable = true)\n",
      " |-- buy_clothing_1: long (nullable = true)\n",
      " |-- buy_clothing_10: long (nullable = true)\n",
      " |-- buy_clothing_11: long (nullable = true)\n",
      " |-- buy_clothing_12: long (nullable = true)\n",
      " |-- buy_clothing_13: long (nullable = true)\n",
      " |-- buy_clothing_14: long (nullable = true)\n",
      " |-- buy_clothing_15: long (nullable = true)\n",
      " |-- buy_clothing_16: long (nullable = true)\n",
      " |-- buy_clothing_17: long (nullable = true)\n",
      " |-- buy_clothing_18: long (nullable = true)\n",
      " |-- buy_clothing_19: long (nullable = true)\n",
      " |-- buy_clothing_2: long (nullable = true)\n",
      " |-- buy_clothing_3: long (nullable = true)\n",
      " |-- buy_clothing_4: long (nullable = true)\n",
      " |-- buy_clothing_5: long (nullable = true)\n",
      " |-- buy_clothing_6: long (nullable = true)\n",
      " |-- buy_clothing_7: long (nullable = true)\n",
      " |-- buy_clothing_8: long (nullable = true)\n",
      " |-- buy_clothing_9: long (nullable = true)\n",
      " |-- buy_computers_0: long (nullable = true)\n",
      " |-- buy_computers_1: long (nullable = true)\n",
      " |-- buy_computers_10: long (nullable = true)\n",
      " |-- buy_computers_11: long (nullable = true)\n",
      " |-- buy_computers_12: long (nullable = true)\n",
      " |-- buy_computers_13: long (nullable = true)\n",
      " |-- buy_computers_14: long (nullable = true)\n",
      " |-- buy_computers_15: long (nullable = true)\n",
      " |-- buy_computers_16: long (nullable = true)\n",
      " |-- buy_computers_17: long (nullable = true)\n",
      " |-- buy_computers_18: long (nullable = true)\n",
      " |-- buy_computers_19: long (nullable = true)\n",
      " |-- buy_computers_2: long (nullable = true)\n",
      " |-- buy_computers_3: long (nullable = true)\n",
      " |-- buy_computers_4: long (nullable = true)\n",
      " |-- buy_computers_5: long (nullable = true)\n",
      " |-- buy_computers_6: long (nullable = true)\n",
      " |-- buy_computers_7: long (nullable = true)\n",
      " |-- buy_computers_8: long (nullable = true)\n",
      " |-- buy_computers_9: long (nullable = true)\n",
      " |-- buy_cosmetics_0: long (nullable = true)\n",
      " |-- buy_cosmetics_1: long (nullable = true)\n",
      " |-- buy_cosmetics_10: long (nullable = true)\n",
      " |-- buy_cosmetics_11: long (nullable = true)\n",
      " |-- buy_cosmetics_12: long (nullable = true)\n",
      " |-- buy_cosmetics_13: long (nullable = true)\n",
      " |-- buy_cosmetics_14: long (nullable = true)\n",
      " |-- buy_cosmetics_15: long (nullable = true)\n",
      " |-- buy_cosmetics_16: long (nullable = true)\n",
      " |-- buy_cosmetics_17: long (nullable = true)\n",
      " |-- buy_cosmetics_18: long (nullable = true)\n",
      " |-- buy_cosmetics_19: long (nullable = true)\n",
      " |-- buy_cosmetics_2: long (nullable = true)\n",
      " |-- buy_cosmetics_3: long (nullable = true)\n",
      " |-- buy_cosmetics_4: long (nullable = true)\n",
      " |-- buy_cosmetics_5: long (nullable = true)\n",
      " |-- buy_cosmetics_6: long (nullable = true)\n",
      " |-- buy_cosmetics_7: long (nullable = true)\n",
      " |-- buy_cosmetics_8: long (nullable = true)\n",
      " |-- buy_cosmetics_9: long (nullable = true)\n",
      " |-- buy_entertainment_equipment_0: long (nullable = true)\n",
      " |-- buy_entertainment_equipment_1: long (nullable = true)\n",
      " |-- buy_entertainment_equipment_10: long (nullable = true)\n",
      " |-- buy_entertainment_equipment_11: long (nullable = true)\n",
      " |-- buy_entertainment_equipment_12: long (nullable = true)\n",
      " |-- buy_entertainment_equipment_13: long (nullable = true)\n",
      " |-- buy_entertainment_equipment_14: long (nullable = true)\n",
      " |-- buy_entertainment_equipment_15: long (nullable = true)\n",
      " |-- buy_entertainment_equipment_16: long (nullable = true)\n",
      " |-- buy_entertainment_equipment_17: long (nullable = true)\n",
      " |-- buy_entertainment_equipment_18: long (nullable = true)\n",
      " |-- buy_entertainment_equipment_19: long (nullable = true)\n",
      " |-- buy_entertainment_equipment_2: long (nullable = true)\n",
      " |-- buy_entertainment_equipment_3: long (nullable = true)\n",
      " |-- buy_entertainment_equipment_4: long (nullable = true)\n",
      " |-- buy_entertainment_equipment_5: long (nullable = true)\n",
      " |-- buy_entertainment_equipment_6: long (nullable = true)\n",
      " |-- buy_entertainment_equipment_7: long (nullable = true)\n",
      " |-- buy_entertainment_equipment_8: long (nullable = true)\n",
      " |-- buy_entertainment_equipment_9: long (nullable = true)\n",
      " |-- buy_everyday_jewelry_0: long (nullable = true)\n",
      " |-- buy_everyday_jewelry_1: long (nullable = true)\n",
      " |-- buy_everyday_jewelry_10: long (nullable = true)\n",
      " |-- buy_everyday_jewelry_11: long (nullable = true)\n",
      " |-- buy_everyday_jewelry_12: long (nullable = true)\n",
      " |-- buy_everyday_jewelry_13: long (nullable = true)\n",
      " |-- buy_everyday_jewelry_14: long (nullable = true)\n",
      " |-- buy_everyday_jewelry_15: long (nullable = true)\n",
      " |-- buy_everyday_jewelry_16: long (nullable = true)\n",
      " |-- buy_everyday_jewelry_17: long (nullable = true)\n",
      " |-- buy_everyday_jewelry_18: long (nullable = true)\n",
      " |-- buy_everyday_jewelry_19: long (nullable = true)\n",
      " |-- buy_everyday_jewelry_2: long (nullable = true)\n",
      " |-- buy_everyday_jewelry_3: long (nullable = true)\n",
      " |-- buy_everyday_jewelry_4: long (nullable = true)\n",
      " |-- buy_everyday_jewelry_5: long (nullable = true)\n",
      " |-- buy_everyday_jewelry_6: long (nullable = true)\n",
      " |-- buy_everyday_jewelry_7: long (nullable = true)\n",
      " |-- buy_everyday_jewelry_8: long (nullable = true)\n",
      " |-- buy_everyday_jewelry_9: long (nullable = true)\n",
      " |-- buy_house_repairs_paint_tools_0: long (nullable = true)\n",
      " |-- buy_house_repairs_paint_tools_1: long (nullable = true)\n",
      " |-- buy_house_repairs_paint_tools_10: long (nullable = true)\n",
      " |-- buy_house_repairs_paint_tools_11: long (nullable = true)\n",
      " |-- buy_house_repairs_paint_tools_12: long (nullable = true)\n",
      " |-- buy_house_repairs_paint_tools_13: long (nullable = true)\n",
      " |-- buy_house_repairs_paint_tools_14: long (nullable = true)\n",
      " |-- buy_house_repairs_paint_tools_15: long (nullable = true)\n",
      " |-- buy_house_repairs_paint_tools_16: long (nullable = true)\n",
      " |-- buy_house_repairs_paint_tools_17: long (nullable = true)\n",
      " |-- buy_house_repairs_paint_tools_18: long (nullable = true)\n",
      " |-- buy_house_repairs_paint_tools_19: long (nullable = true)\n",
      " |-- buy_house_repairs_paint_tools_2: long (nullable = true)\n",
      " |-- buy_house_repairs_paint_tools_3: long (nullable = true)\n",
      " |-- buy_house_repairs_paint_tools_4: long (nullable = true)\n",
      " |-- buy_house_repairs_paint_tools_5: long (nullable = true)\n",
      " |-- buy_house_repairs_paint_tools_6: long (nullable = true)\n",
      " |-- buy_house_repairs_paint_tools_7: long (nullable = true)\n",
      " |-- buy_house_repairs_paint_tools_8: long (nullable = true)\n",
      " |-- buy_house_repairs_paint_tools_9: long (nullable = true)\n",
      " |-- buy_household_appliances_0: long (nullable = true)\n",
      " |-- buy_household_appliances_1: long (nullable = true)\n",
      " |-- buy_household_appliances_10: long (nullable = true)\n",
      " |-- buy_household_appliances_11: long (nullable = true)\n",
      " |-- buy_household_appliances_12: long (nullable = true)\n",
      " |-- buy_household_appliances_13: long (nullable = true)\n",
      " |-- buy_household_appliances_14: long (nullable = true)\n",
      " |-- buy_household_appliances_15: long (nullable = true)\n",
      " |-- buy_household_appliances_16: long (nullable = true)\n",
      " |-- buy_household_appliances_17: long (nullable = true)\n",
      " |-- buy_household_appliances_18: long (nullable = true)\n",
      " |-- buy_household_appliances_19: long (nullable = true)\n",
      " |-- buy_household_appliances_2: long (nullable = true)\n",
      " |-- buy_household_appliances_3: long (nullable = true)\n",
      " |-- buy_household_appliances_4: long (nullable = true)\n",
      " |-- buy_household_appliances_5: long (nullable = true)\n",
      " |-- buy_household_appliances_6: long (nullable = true)\n",
      " |-- buy_household_appliances_7: long (nullable = true)\n",
      " |-- buy_household_appliances_8: long (nullable = true)\n",
      " |-- buy_household_appliances_9: long (nullable = true)\n",
      " |-- buy_household_furniture_0: long (nullable = true)\n",
      " |-- buy_household_furniture_1: long (nullable = true)\n",
      " |-- buy_household_furniture_10: long (nullable = true)\n",
      " |-- buy_household_furniture_11: long (nullable = true)\n",
      " |-- buy_household_furniture_12: long (nullable = true)\n",
      " |-- buy_household_furniture_13: long (nullable = true)\n",
      " |-- buy_household_furniture_14: long (nullable = true)\n",
      " |-- buy_household_furniture_15: long (nullable = true)\n",
      " |-- buy_household_furniture_16: long (nullable = true)\n",
      " |-- buy_household_furniture_17: long (nullable = true)\n",
      " |-- buy_household_furniture_18: long (nullable = true)\n",
      " |-- buy_household_furniture_19: long (nullable = true)\n",
      " |-- buy_household_furniture_2: long (nullable = true)\n",
      " |-- buy_household_furniture_3: long (nullable = true)\n",
      " |-- buy_household_furniture_4: long (nullable = true)\n",
      " |-- buy_household_furniture_5: long (nullable = true)\n",
      " |-- buy_household_furniture_6: long (nullable = true)\n",
      " |-- buy_household_furniture_7: long (nullable = true)\n",
      " |-- buy_household_furniture_8: long (nullable = true)\n",
      " |-- buy_household_furniture_9: long (nullable = true)\n",
      " |-- buy_kitchen_appliances_0: long (nullable = true)\n",
      " |-- buy_kitchen_appliances_1: long (nullable = true)\n",
      " |-- buy_kitchen_appliances_10: long (nullable = true)\n",
      " |-- buy_kitchen_appliances_11: long (nullable = true)\n",
      " |-- buy_kitchen_appliances_12: long (nullable = true)\n",
      " |-- buy_kitchen_appliances_13: long (nullable = true)\n",
      " |-- buy_kitchen_appliances_14: long (nullable = true)\n",
      " |-- buy_kitchen_appliances_15: long (nullable = true)\n",
      " |-- buy_kitchen_appliances_16: long (nullable = true)\n",
      " |-- buy_kitchen_appliances_17: long (nullable = true)\n",
      " |-- buy_kitchen_appliances_18: long (nullable = true)\n",
      " |-- buy_kitchen_appliances_19: long (nullable = true)\n",
      " |-- buy_kitchen_appliances_2: long (nullable = true)\n",
      " |-- buy_kitchen_appliances_3: long (nullable = true)\n",
      " |-- buy_kitchen_appliances_4: long (nullable = true)\n",
      " |-- buy_kitchen_appliances_5: long (nullable = true)\n",
      " |-- buy_kitchen_appliances_6: long (nullable = true)\n",
      " |-- buy_kitchen_appliances_7: long (nullable = true)\n",
      " |-- buy_kitchen_appliances_8: long (nullable = true)\n",
      " |-- buy_kitchen_appliances_9: long (nullable = true)\n",
      " |-- buy_kitchen_utensils_0: long (nullable = true)\n",
      " |-- buy_kitchen_utensils_1: long (nullable = true)\n",
      " |-- buy_kitchen_utensils_10: long (nullable = true)\n",
      " |-- buy_kitchen_utensils_11: long (nullable = true)\n",
      " |-- buy_kitchen_utensils_12: long (nullable = true)\n",
      " |-- buy_kitchen_utensils_13: long (nullable = true)\n",
      " |-- buy_kitchen_utensils_14: long (nullable = true)\n",
      " |-- buy_kitchen_utensils_15: long (nullable = true)\n",
      " |-- buy_kitchen_utensils_16: long (nullable = true)\n",
      " |-- buy_kitchen_utensils_17: long (nullable = true)\n",
      " |-- buy_kitchen_utensils_18: long (nullable = true)\n",
      " |-- buy_kitchen_utensils_19: long (nullable = true)\n",
      " |-- buy_kitchen_utensils_2: long (nullable = true)\n",
      " |-- buy_kitchen_utensils_3: long (nullable = true)\n",
      " |-- buy_kitchen_utensils_4: long (nullable = true)\n",
      " |-- buy_kitchen_utensils_5: long (nullable = true)\n",
      " |-- buy_kitchen_utensils_6: long (nullable = true)\n",
      " |-- buy_kitchen_utensils_7: long (nullable = true)\n",
      " |-- buy_kitchen_utensils_8: long (nullable = true)\n",
      " |-- buy_kitchen_utensils_9: long (nullable = true)\n",
      " |-- buy_luggage_0: long (nullable = true)\n",
      " |-- buy_luggage_1: long (nullable = true)\n",
      " |-- buy_luggage_10: long (nullable = true)\n",
      " |-- buy_luggage_11: long (nullable = true)\n",
      " |-- buy_luggage_12: long (nullable = true)\n",
      " |-- buy_luggage_13: long (nullable = true)\n",
      " |-- buy_luggage_14: long (nullable = true)\n",
      " |-- buy_luggage_15: long (nullable = true)\n",
      " |-- buy_luggage_16: long (nullable = true)\n",
      " |-- buy_luggage_17: long (nullable = true)\n",
      " |-- buy_luggage_18: long (nullable = true)\n",
      " |-- buy_luggage_19: long (nullable = true)\n",
      " |-- buy_luggage_2: long (nullable = true)\n",
      " |-- buy_luggage_3: long (nullable = true)\n",
      " |-- buy_luggage_4: long (nullable = true)\n",
      " |-- buy_luggage_5: long (nullable = true)\n",
      " |-- buy_luggage_6: long (nullable = true)\n",
      " |-- buy_luggage_7: long (nullable = true)\n",
      " |-- buy_luggage_8: long (nullable = true)\n",
      " |-- buy_luggage_9: long (nullable = true)\n",
      " |-- buy_mobile_phones_0: long (nullable = true)\n",
      " |-- buy_mobile_phones_1: long (nullable = true)\n",
      " |-- buy_mobile_phones_10: long (nullable = true)\n",
      " |-- buy_mobile_phones_11: long (nullable = true)\n",
      " |-- buy_mobile_phones_12: long (nullable = true)\n",
      " |-- buy_mobile_phones_13: long (nullable = true)\n",
      " |-- buy_mobile_phones_14: long (nullable = true)\n",
      " |-- buy_mobile_phones_15: long (nullable = true)\n",
      " |-- buy_mobile_phones_16: long (nullable = true)\n",
      " |-- buy_mobile_phones_17: long (nullable = true)\n",
      " |-- buy_mobile_phones_18: long (nullable = true)\n",
      " |-- buy_mobile_phones_19: long (nullable = true)\n",
      " |-- buy_mobile_phones_2: long (nullable = true)\n",
      " |-- buy_mobile_phones_3: long (nullable = true)\n",
      " |-- buy_mobile_phones_4: long (nullable = true)\n",
      " |-- buy_mobile_phones_5: long (nullable = true)\n",
      " |-- buy_mobile_phones_6: long (nullable = true)\n",
      " |-- buy_mobile_phones_7: long (nullable = true)\n",
      " |-- buy_mobile_phones_8: long (nullable = true)\n",
      " |-- buy_mobile_phones_9: long (nullable = true)\n",
      " |-- buy_shoes_0: long (nullable = true)\n",
      " |-- buy_shoes_1: long (nullable = true)\n",
      " |-- buy_shoes_10: long (nullable = true)\n",
      " |-- buy_shoes_11: long (nullable = true)\n",
      " |-- buy_shoes_12: long (nullable = true)\n",
      " |-- buy_shoes_13: long (nullable = true)\n",
      " |-- buy_shoes_14: long (nullable = true)\n",
      " |-- buy_shoes_15: long (nullable = true)\n",
      " |-- buy_shoes_16: long (nullable = true)\n",
      " |-- buy_shoes_17: long (nullable = true)\n",
      " |-- buy_shoes_18: long (nullable = true)\n",
      " |-- buy_shoes_19: long (nullable = true)\n",
      " |-- buy_shoes_2: long (nullable = true)\n",
      " |-- buy_shoes_3: long (nullable = true)\n",
      " |-- buy_shoes_4: long (nullable = true)\n",
      " |-- buy_shoes_5: long (nullable = true)\n",
      " |-- buy_shoes_6: long (nullable = true)\n",
      " |-- buy_shoes_7: long (nullable = true)\n",
      " |-- buy_shoes_8: long (nullable = true)\n",
      " |-- buy_shoes_9: long (nullable = true)\n",
      " |-- buy_sports_equipment_0: long (nullable = true)\n",
      " |-- buy_sports_equipment_1: long (nullable = true)\n",
      " |-- buy_sports_equipment_10: long (nullable = true)\n",
      " |-- buy_sports_equipment_11: long (nullable = true)\n",
      " |-- buy_sports_equipment_12: long (nullable = true)\n",
      " |-- buy_sports_equipment_13: long (nullable = true)\n",
      " |-- buy_sports_equipment_14: long (nullable = true)\n",
      " |-- buy_sports_equipment_15: long (nullable = true)\n",
      " |-- buy_sports_equipment_16: long (nullable = true)\n",
      " |-- buy_sports_equipment_17: long (nullable = true)\n",
      " |-- buy_sports_equipment_18: long (nullable = true)\n",
      " |-- buy_sports_equipment_19: long (nullable = true)\n",
      " |-- buy_sports_equipment_2: long (nullable = true)\n",
      " |-- buy_sports_equipment_3: long (nullable = true)\n",
      " |-- buy_sports_equipment_4: long (nullable = true)\n",
      " |-- buy_sports_equipment_5: long (nullable = true)\n",
      " |-- buy_sports_equipment_6: long (nullable = true)\n",
      " |-- buy_sports_equipment_7: long (nullable = true)\n",
      " |-- buy_sports_equipment_8: long (nullable = true)\n",
      " |-- buy_sports_equipment_9: long (nullable = true)\n",
      " |-- buy_toys_0: long (nullable = true)\n",
      " |-- buy_toys_1: long (nullable = true)\n",
      " |-- buy_toys_10: long (nullable = true)\n",
      " |-- buy_toys_11: long (nullable = true)\n",
      " |-- buy_toys_12: long (nullable = true)\n",
      " |-- buy_toys_13: long (nullable = true)\n",
      " |-- buy_toys_14: long (nullable = true)\n",
      " |-- buy_toys_15: long (nullable = true)\n",
      " |-- buy_toys_16: long (nullable = true)\n",
      " |-- buy_toys_17: long (nullable = true)\n",
      " |-- buy_toys_18: long (nullable = true)\n",
      " |-- buy_toys_19: long (nullable = true)\n",
      " |-- buy_toys_2: long (nullable = true)\n",
      " |-- buy_toys_3: long (nullable = true)\n",
      " |-- buy_toys_4: long (nullable = true)\n",
      " |-- buy_toys_5: long (nullable = true)\n",
      " |-- buy_toys_6: long (nullable = true)\n",
      " |-- buy_toys_7: long (nullable = true)\n",
      " |-- buy_toys_8: long (nullable = true)\n",
      " |-- buy_toys_9: long (nullable = true)\n",
      " |-- view_cameras_0: long (nullable = true)\n",
      " |-- view_cameras_1: long (nullable = true)\n",
      " |-- view_cameras_10: long (nullable = true)\n",
      " |-- view_cameras_11: long (nullable = true)\n",
      " |-- view_cameras_12: long (nullable = true)\n",
      " |-- view_cameras_13: long (nullable = true)\n",
      " |-- view_cameras_14: long (nullable = true)\n",
      " |-- view_cameras_15: long (nullable = true)\n",
      " |-- view_cameras_16: long (nullable = true)\n",
      " |-- view_cameras_17: long (nullable = true)\n",
      " |-- view_cameras_18: long (nullable = true)\n",
      " |-- view_cameras_19: long (nullable = true)\n",
      " |-- view_cameras_2: long (nullable = true)\n",
      " |-- view_cameras_3: long (nullable = true)\n",
      " |-- view_cameras_4: long (nullable = true)\n",
      " |-- view_cameras_5: long (nullable = true)\n",
      " |-- view_cameras_6: long (nullable = true)\n",
      " |-- view_cameras_7: long (nullable = true)\n",
      " |-- view_cameras_8: long (nullable = true)\n",
      " |-- view_cameras_9: long (nullable = true)\n",
      " |-- view_clothing_0: long (nullable = true)\n",
      " |-- view_clothing_1: long (nullable = true)\n",
      " |-- view_clothing_10: long (nullable = true)\n",
      " |-- view_clothing_11: long (nullable = true)\n",
      " |-- view_clothing_12: long (nullable = true)\n",
      " |-- view_clothing_13: long (nullable = true)\n",
      " |-- view_clothing_14: long (nullable = true)\n",
      " |-- view_clothing_15: long (nullable = true)\n",
      " |-- view_clothing_16: long (nullable = true)\n",
      " |-- view_clothing_17: long (nullable = true)\n",
      " |-- view_clothing_18: long (nullable = true)\n",
      " |-- view_clothing_19: long (nullable = true)\n",
      " |-- view_clothing_2: long (nullable = true)\n",
      " |-- view_clothing_3: long (nullable = true)\n",
      " |-- view_clothing_4: long (nullable = true)\n",
      " |-- view_clothing_5: long (nullable = true)\n",
      " |-- view_clothing_6: long (nullable = true)\n",
      " |-- view_clothing_7: long (nullable = true)\n",
      " |-- view_clothing_8: long (nullable = true)\n",
      " |-- view_clothing_9: long (nullable = true)\n",
      " |-- view_computers_0: long (nullable = true)\n",
      " |-- view_computers_1: long (nullable = true)\n",
      " |-- view_computers_10: long (nullable = true)\n",
      " |-- view_computers_11: long (nullable = true)\n",
      " |-- view_computers_12: long (nullable = true)\n",
      " |-- view_computers_13: long (nullable = true)\n",
      " |-- view_computers_14: long (nullable = true)\n",
      " |-- view_computers_15: long (nullable = true)\n",
      " |-- view_computers_16: long (nullable = true)\n",
      " |-- view_computers_17: long (nullable = true)\n",
      " |-- view_computers_18: long (nullable = true)\n",
      " |-- view_computers_19: long (nullable = true)\n",
      " |-- view_computers_2: long (nullable = true)\n",
      " |-- view_computers_3: long (nullable = true)\n",
      " |-- view_computers_4: long (nullable = true)\n",
      " |-- view_computers_5: long (nullable = true)\n",
      " |-- view_computers_6: long (nullable = true)\n",
      " |-- view_computers_7: long (nullable = true)\n",
      " |-- view_computers_8: long (nullable = true)\n",
      " |-- view_computers_9: long (nullable = true)\n",
      " |-- view_cosmetics_0: long (nullable = true)\n",
      " |-- view_cosmetics_1: long (nullable = true)\n",
      " |-- view_cosmetics_10: long (nullable = true)\n",
      " |-- view_cosmetics_11: long (nullable = true)\n",
      " |-- view_cosmetics_12: long (nullable = true)\n",
      " |-- view_cosmetics_13: long (nullable = true)\n",
      " |-- view_cosmetics_14: long (nullable = true)\n",
      " |-- view_cosmetics_15: long (nullable = true)\n",
      " |-- view_cosmetics_16: long (nullable = true)\n",
      " |-- view_cosmetics_17: long (nullable = true)\n",
      " |-- view_cosmetics_18: long (nullable = true)\n",
      " |-- view_cosmetics_19: long (nullable = true)\n",
      " |-- view_cosmetics_2: long (nullable = true)\n",
      " |-- view_cosmetics_3: long (nullable = true)\n",
      " |-- view_cosmetics_4: long (nullable = true)\n",
      " |-- view_cosmetics_5: long (nullable = true)\n",
      " |-- view_cosmetics_6: long (nullable = true)\n",
      " |-- view_cosmetics_7: long (nullable = true)\n",
      " |-- view_cosmetics_8: long (nullable = true)\n",
      " |-- view_cosmetics_9: long (nullable = true)\n",
      " |-- view_entertainment_equipment_0: long (nullable = true)\n",
      " |-- view_entertainment_equipment_1: long (nullable = true)\n",
      " |-- view_entertainment_equipment_10: long (nullable = true)\n",
      " |-- view_entertainment_equipment_11: long (nullable = true)\n",
      " |-- view_entertainment_equipment_12: long (nullable = true)\n",
      " |-- view_entertainment_equipment_13: long (nullable = true)\n",
      " |-- view_entertainment_equipment_14: long (nullable = true)\n",
      " |-- view_entertainment_equipment_15: long (nullable = true)\n",
      " |-- view_entertainment_equipment_16: long (nullable = true)\n",
      " |-- view_entertainment_equipment_17: long (nullable = true)\n",
      " |-- view_entertainment_equipment_18: long (nullable = true)\n",
      " |-- view_entertainment_equipment_19: long (nullable = true)\n",
      " |-- view_entertainment_equipment_2: long (nullable = true)\n",
      " |-- view_entertainment_equipment_3: long (nullable = true)\n",
      " |-- view_entertainment_equipment_4: long (nullable = true)\n",
      " |-- view_entertainment_equipment_5: long (nullable = true)\n",
      " |-- view_entertainment_equipment_6: long (nullable = true)\n",
      " |-- view_entertainment_equipment_7: long (nullable = true)\n",
      " |-- view_entertainment_equipment_8: long (nullable = true)\n",
      " |-- view_entertainment_equipment_9: long (nullable = true)\n",
      " |-- view_everyday_jewelry_0: long (nullable = true)\n",
      " |-- view_everyday_jewelry_1: long (nullable = true)\n",
      " |-- view_everyday_jewelry_10: long (nullable = true)\n",
      " |-- view_everyday_jewelry_11: long (nullable = true)\n",
      " |-- view_everyday_jewelry_12: long (nullable = true)\n",
      " |-- view_everyday_jewelry_13: long (nullable = true)\n",
      " |-- view_everyday_jewelry_14: long (nullable = true)\n",
      " |-- view_everyday_jewelry_15: long (nullable = true)\n",
      " |-- view_everyday_jewelry_16: long (nullable = true)\n",
      " |-- view_everyday_jewelry_17: long (nullable = true)\n",
      " |-- view_everyday_jewelry_18: long (nullable = true)\n",
      " |-- view_everyday_jewelry_19: long (nullable = true)\n",
      " |-- view_everyday_jewelry_2: long (nullable = true)\n",
      " |-- view_everyday_jewelry_3: long (nullable = true)\n",
      " |-- view_everyday_jewelry_4: long (nullable = true)\n",
      " |-- view_everyday_jewelry_5: long (nullable = true)\n",
      " |-- view_everyday_jewelry_6: long (nullable = true)\n",
      " |-- view_everyday_jewelry_7: long (nullable = true)\n",
      " |-- view_everyday_jewelry_8: long (nullable = true)\n",
      " |-- view_everyday_jewelry_9: long (nullable = true)\n",
      " |-- view_house_repairs_paint_tools_0: long (nullable = true)\n",
      " |-- view_house_repairs_paint_tools_1: long (nullable = true)\n",
      " |-- view_house_repairs_paint_tools_10: long (nullable = true)\n",
      " |-- view_house_repairs_paint_tools_11: long (nullable = true)\n",
      " |-- view_house_repairs_paint_tools_12: long (nullable = true)\n",
      " |-- view_house_repairs_paint_tools_13: long (nullable = true)\n",
      " |-- view_house_repairs_paint_tools_14: long (nullable = true)\n",
      " |-- view_house_repairs_paint_tools_15: long (nullable = true)\n",
      " |-- view_house_repairs_paint_tools_16: long (nullable = true)\n",
      " |-- view_house_repairs_paint_tools_17: long (nullable = true)\n",
      " |-- view_house_repairs_paint_tools_18: long (nullable = true)\n",
      " |-- view_house_repairs_paint_tools_19: long (nullable = true)\n",
      " |-- view_house_repairs_paint_tools_2: long (nullable = true)\n",
      " |-- view_house_repairs_paint_tools_3: long (nullable = true)\n",
      " |-- view_house_repairs_paint_tools_4: long (nullable = true)\n",
      " |-- view_house_repairs_paint_tools_5: long (nullable = true)\n",
      " |-- view_house_repairs_paint_tools_6: long (nullable = true)\n",
      " |-- view_house_repairs_paint_tools_7: long (nullable = true)\n",
      " |-- view_house_repairs_paint_tools_8: long (nullable = true)\n",
      " |-- view_house_repairs_paint_tools_9: long (nullable = true)\n",
      " |-- view_household_appliances_0: long (nullable = true)\n",
      " |-- view_household_appliances_1: long (nullable = true)\n",
      " |-- view_household_appliances_10: long (nullable = true)\n",
      " |-- view_household_appliances_11: long (nullable = true)\n",
      " |-- view_household_appliances_12: long (nullable = true)\n",
      " |-- view_household_appliances_13: long (nullable = true)\n",
      " |-- view_household_appliances_14: long (nullable = true)\n",
      " |-- view_household_appliances_15: long (nullable = true)\n",
      " |-- view_household_appliances_16: long (nullable = true)\n",
      " |-- view_household_appliances_17: long (nullable = true)\n",
      " |-- view_household_appliances_18: long (nullable = true)\n",
      " |-- view_household_appliances_19: long (nullable = true)\n",
      " |-- view_household_appliances_2: long (nullable = true)\n",
      " |-- view_household_appliances_3: long (nullable = true)\n",
      " |-- view_household_appliances_4: long (nullable = true)\n",
      " |-- view_household_appliances_5: long (nullable = true)\n",
      " |-- view_household_appliances_6: long (nullable = true)\n",
      " |-- view_household_appliances_7: long (nullable = true)\n",
      " |-- view_household_appliances_8: long (nullable = true)\n",
      " |-- view_household_appliances_9: long (nullable = true)\n",
      " |-- view_household_furniture_0: long (nullable = true)\n",
      " |-- view_household_furniture_1: long (nullable = true)\n",
      " |-- view_household_furniture_10: long (nullable = true)\n",
      " |-- view_household_furniture_11: long (nullable = true)\n",
      " |-- view_household_furniture_12: long (nullable = true)\n",
      " |-- view_household_furniture_13: long (nullable = true)\n",
      " |-- view_household_furniture_14: long (nullable = true)\n",
      " |-- view_household_furniture_15: long (nullable = true)\n",
      " |-- view_household_furniture_16: long (nullable = true)\n",
      " |-- view_household_furniture_17: long (nullable = true)\n",
      " |-- view_household_furniture_18: long (nullable = true)\n",
      " |-- view_household_furniture_19: long (nullable = true)\n",
      " |-- view_household_furniture_2: long (nullable = true)\n",
      " |-- view_household_furniture_3: long (nullable = true)\n",
      " |-- view_household_furniture_4: long (nullable = true)\n",
      " |-- view_household_furniture_5: long (nullable = true)\n",
      " |-- view_household_furniture_6: long (nullable = true)\n",
      " |-- view_household_furniture_7: long (nullable = true)\n",
      " |-- view_household_furniture_8: long (nullable = true)\n",
      " |-- view_household_furniture_9: long (nullable = true)\n",
      " |-- view_kitchen_appliances_0: long (nullable = true)\n",
      " |-- view_kitchen_appliances_1: long (nullable = true)\n",
      " |-- view_kitchen_appliances_10: long (nullable = true)\n",
      " |-- view_kitchen_appliances_11: long (nullable = true)\n",
      " |-- view_kitchen_appliances_12: long (nullable = true)\n",
      " |-- view_kitchen_appliances_13: long (nullable = true)\n",
      " |-- view_kitchen_appliances_14: long (nullable = true)\n",
      " |-- view_kitchen_appliances_15: long (nullable = true)\n",
      " |-- view_kitchen_appliances_16: long (nullable = true)\n",
      " |-- view_kitchen_appliances_17: long (nullable = true)\n",
      " |-- view_kitchen_appliances_18: long (nullable = true)\n",
      " |-- view_kitchen_appliances_19: long (nullable = true)\n",
      " |-- view_kitchen_appliances_2: long (nullable = true)\n",
      " |-- view_kitchen_appliances_3: long (nullable = true)\n",
      " |-- view_kitchen_appliances_4: long (nullable = true)\n",
      " |-- view_kitchen_appliances_5: long (nullable = true)\n",
      " |-- view_kitchen_appliances_6: long (nullable = true)\n",
      " |-- view_kitchen_appliances_7: long (nullable = true)\n",
      " |-- view_kitchen_appliances_8: long (nullable = true)\n",
      " |-- view_kitchen_appliances_9: long (nullable = true)\n",
      " |-- view_kitchen_utensils_0: long (nullable = true)\n",
      " |-- view_kitchen_utensils_1: long (nullable = true)\n",
      " |-- view_kitchen_utensils_10: long (nullable = true)\n",
      " |-- view_kitchen_utensils_11: long (nullable = true)\n",
      " |-- view_kitchen_utensils_12: long (nullable = true)\n",
      " |-- view_kitchen_utensils_13: long (nullable = true)\n",
      " |-- view_kitchen_utensils_14: long (nullable = true)\n",
      " |-- view_kitchen_utensils_15: long (nullable = true)\n",
      " |-- view_kitchen_utensils_16: long (nullable = true)\n",
      " |-- view_kitchen_utensils_17: long (nullable = true)\n",
      " |-- view_kitchen_utensils_18: long (nullable = true)\n",
      " |-- view_kitchen_utensils_19: long (nullable = true)\n",
      " |-- view_kitchen_utensils_2: long (nullable = true)\n",
      " |-- view_kitchen_utensils_3: long (nullable = true)\n",
      " |-- view_kitchen_utensils_4: long (nullable = true)\n",
      " |-- view_kitchen_utensils_5: long (nullable = true)\n",
      " |-- view_kitchen_utensils_6: long (nullable = true)\n",
      " |-- view_kitchen_utensils_7: long (nullable = true)\n",
      " |-- view_kitchen_utensils_8: long (nullable = true)\n",
      " |-- view_kitchen_utensils_9: long (nullable = true)\n",
      " |-- view_luggage_0: long (nullable = true)\n",
      " |-- view_luggage_1: long (nullable = true)\n",
      " |-- view_luggage_10: long (nullable = true)\n",
      " |-- view_luggage_11: long (nullable = true)\n",
      " |-- view_luggage_12: long (nullable = true)\n",
      " |-- view_luggage_13: long (nullable = true)\n",
      " |-- view_luggage_14: long (nullable = true)\n",
      " |-- view_luggage_15: long (nullable = true)\n",
      " |-- view_luggage_16: long (nullable = true)\n",
      " |-- view_luggage_17: long (nullable = true)\n",
      " |-- view_luggage_18: long (nullable = true)\n",
      " |-- view_luggage_19: long (nullable = true)\n",
      " |-- view_luggage_2: long (nullable = true)\n",
      " |-- view_luggage_3: long (nullable = true)\n",
      " |-- view_luggage_4: long (nullable = true)\n",
      " |-- view_luggage_5: long (nullable = true)\n",
      " |-- view_luggage_6: long (nullable = true)\n",
      " |-- view_luggage_7: long (nullable = true)\n",
      " |-- view_luggage_8: long (nullable = true)\n",
      " |-- view_luggage_9: long (nullable = true)\n",
      " |-- view_mobile_phones_0: long (nullable = true)\n",
      " |-- view_mobile_phones_1: long (nullable = true)\n",
      " |-- view_mobile_phones_10: long (nullable = true)\n",
      " |-- view_mobile_phones_11: long (nullable = true)\n",
      " |-- view_mobile_phones_12: long (nullable = true)\n",
      " |-- view_mobile_phones_13: long (nullable = true)\n",
      " |-- view_mobile_phones_14: long (nullable = true)\n",
      " |-- view_mobile_phones_15: long (nullable = true)\n",
      " |-- view_mobile_phones_16: long (nullable = true)\n",
      " |-- view_mobile_phones_17: long (nullable = true)\n",
      " |-- view_mobile_phones_18: long (nullable = true)\n",
      " |-- view_mobile_phones_19: long (nullable = true)\n",
      " |-- view_mobile_phones_2: long (nullable = true)\n",
      " |-- view_mobile_phones_3: long (nullable = true)\n",
      " |-- view_mobile_phones_4: long (nullable = true)\n",
      " |-- view_mobile_phones_5: long (nullable = true)\n",
      " |-- view_mobile_phones_6: long (nullable = true)\n",
      " |-- view_mobile_phones_7: long (nullable = true)\n",
      " |-- view_mobile_phones_8: long (nullable = true)\n",
      " |-- view_mobile_phones_9: long (nullable = true)\n",
      " |-- view_shoes_0: long (nullable = true)\n",
      " |-- view_shoes_1: long (nullable = true)\n",
      " |-- view_shoes_10: long (nullable = true)\n",
      " |-- view_shoes_11: long (nullable = true)\n",
      " |-- view_shoes_12: long (nullable = true)\n",
      " |-- view_shoes_13: long (nullable = true)\n",
      " |-- view_shoes_14: long (nullable = true)\n",
      " |-- view_shoes_15: long (nullable = true)\n",
      " |-- view_shoes_16: long (nullable = true)\n",
      " |-- view_shoes_17: long (nullable = true)\n",
      " |-- view_shoes_18: long (nullable = true)\n",
      " |-- view_shoes_19: long (nullable = true)\n",
      " |-- view_shoes_2: long (nullable = true)\n",
      " |-- view_shoes_3: long (nullable = true)\n",
      " |-- view_shoes_4: long (nullable = true)\n",
      " |-- view_shoes_5: long (nullable = true)\n",
      " |-- view_shoes_6: long (nullable = true)\n",
      " |-- view_shoes_7: long (nullable = true)\n",
      " |-- view_shoes_8: long (nullable = true)\n",
      " |-- view_shoes_9: long (nullable = true)\n",
      " |-- view_sports_equipment_0: long (nullable = true)\n",
      " |-- view_sports_equipment_1: long (nullable = true)\n",
      " |-- view_sports_equipment_10: long (nullable = true)\n",
      " |-- view_sports_equipment_11: long (nullable = true)\n",
      " |-- view_sports_equipment_12: long (nullable = true)\n",
      " |-- view_sports_equipment_13: long (nullable = true)\n",
      " |-- view_sports_equipment_14: long (nullable = true)\n",
      " |-- view_sports_equipment_15: long (nullable = true)\n",
      " |-- view_sports_equipment_16: long (nullable = true)\n",
      " |-- view_sports_equipment_17: long (nullable = true)\n",
      " |-- view_sports_equipment_18: long (nullable = true)\n",
      " |-- view_sports_equipment_19: long (nullable = true)\n",
      " |-- view_sports_equipment_2: long (nullable = true)\n",
      " |-- view_sports_equipment_3: long (nullable = true)\n",
      " |-- view_sports_equipment_4: long (nullable = true)\n",
      " |-- view_sports_equipment_5: long (nullable = true)\n",
      " |-- view_sports_equipment_6: long (nullable = true)\n",
      " |-- view_sports_equipment_7: long (nullable = true)\n",
      " |-- view_sports_equipment_8: long (nullable = true)\n",
      " |-- view_sports_equipment_9: long (nullable = true)\n",
      " |-- view_toys_0: long (nullable = true)\n",
      " |-- view_toys_1: long (nullable = true)\n",
      " |-- view_toys_10: long (nullable = true)\n",
      " |-- view_toys_11: long (nullable = true)\n",
      " |-- view_toys_12: long (nullable = true)\n",
      " |-- view_toys_13: long (nullable = true)\n",
      " |-- view_toys_14: long (nullable = true)\n",
      " |-- view_toys_15: long (nullable = true)\n",
      " |-- view_toys_16: long (nullable = true)\n",
      " |-- view_toys_17: long (nullable = true)\n",
      " |-- view_toys_18: long (nullable = true)\n",
      " |-- view_toys_19: long (nullable = true)\n",
      " |-- view_toys_2: long (nullable = true)\n",
      " |-- view_toys_3: long (nullable = true)\n",
      " |-- view_toys_4: long (nullable = true)\n",
      " |-- view_toys_5: long (nullable = true)\n",
      " |-- view_toys_6: long (nullable = true)\n",
      " |-- view_toys_7: long (nullable = true)\n",
      " |-- view_toys_8: long (nullable = true)\n",
      " |-- view_toys_9: long (nullable = true)\n",
      "\n"
     ]
    }
   ],
   "source": [
    "visits.printSchema"
   ]
  },
  {
   "cell_type": "code",
   "execution_count": 7,
   "metadata": {},
   "outputs": [
    {
     "data": {
      "text/plain": [
       "29875"
      ]
     },
     "execution_count": 7,
     "metadata": {},
     "output_type": "execute_result"
    }
   ],
   "source": [
    "visits.count()"
   ]
  },
  {
   "cell_type": "markdown",
   "metadata": {},
   "source": [
    "#### Делаем фичи по времени"
   ]
  },
  {
   "cell_type": "markdown",
   "metadata": {},
   "source": [
    "Из временных меток посещения сайтов сделайте следующие признаки (колонки):\n",
    "\n",
    "число посещений по дням недели. То есть, постройте 7 признаков - \"web_day_mon\", \"web_day_tue\", ... , \"web_day_sun\" и прибавьте 1 для каждой метки, которая попадает на тот или иной день недели.\n",
    "число посещений по часам в сутках. Аналогично дням недели: \"web_hour_0\", ... \"web_hour_23\".\n",
    "долю посещений в рабочие часы \"web_fraction_work_hours\" (число посещений в рабочие часы/общее число посещений данного клиента) и долю посещений в вечерние часы \"web_fraction_evening_hours\", где рабочие часы - [9, 18), а вечерние - [18, 24)"
   ]
  },
  {
   "cell_type": "code",
   "execution_count": 56,
   "metadata": {},
   "outputs": [
    {
     "data": {
      "text/plain": [
       "log_time = [uid: string, timestamp: bigint ... 1 more field]\n"
      ]
     },
     "metadata": {},
     "output_type": "display_data"
    },
    {
     "data": {
      "text/plain": [
       "[uid: string, timestamp: bigint ... 1 more field]"
      ]
     },
     "execution_count": 56,
     "metadata": {},
     "output_type": "execute_result"
    }
   ],
   "source": [
    "spark.conf.set(\"spark.sql.session.timeZone\", \"UTC\")\n",
    "\n",
    "val log_time = log_3\n",
    "        .select('uid,'timestamp)\n",
    "        .withColumn(\"time_UTC\", from_unixtime(col(\"timestamp\")/1000,\"yyyy-MM-dd HH:mm:ss\"))"
   ]
  },
  {
   "cell_type": "code",
   "execution_count": 50,
   "metadata": {},
   "outputs": [
    {
     "name": "stdout",
     "output_type": "stream",
     "text": [
      "root\n",
      " |-- uid: string (nullable = true)\n",
      " |-- timestamp: long (nullable = true)\n",
      " |-- time_UTC: string (nullable = true)\n",
      "\n"
     ]
    }
   ],
   "source": [
    "log_time.printSchema"
   ]
  },
  {
   "cell_type": "code",
   "execution_count": 57,
   "metadata": {},
   "outputs": [
    {
     "name": "stdout",
     "output_type": "stream",
     "text": [
      "+--------------------+-------------+-------------------+\n",
      "|                 uid|    timestamp|           time_UTC|\n",
      "+--------------------+-------------+-------------------+\n",
      "|39d8aded-2111-42a...|1419590902274|2014-12-26 10:48:22|\n",
      "|39d8aded-2111-42a...|1419590344372|2014-12-26 10:39:04|\n",
      "|39d8aded-2111-42a...|1419590203997|2014-12-26 10:36:43|\n",
      "|39d8aded-2111-42a...|1419589141914|2014-12-26 10:19:01|\n",
      "|39d8aded-2111-42a...|1419588542058|2014-12-26 10:09:02|\n",
      "|39d8aded-2111-42a...|1427181952000|2015-03-24 07:25:52|\n",
      "|39d8aded-2111-42a...|1427181928000|2015-03-24 07:25:28|\n",
      "|39d8aded-2111-42a...|1427181927000|2015-03-24 07:25:27|\n",
      "+--------------------+-------------+-------------------+\n",
      "\n"
     ]
    }
   ],
   "source": [
    "log_time.filter($\"uid\" ===\"39d8aded-2111-42ab-9393-37c4f781d030\").show"
   ]
  },
  {
   "cell_type": "markdown",
   "metadata": {},
   "source": [
    "##### Создаем udf-ки для дней, часов"
   ]
  },
  {
   "cell_type": "code",
   "execution_count": 65,
   "metadata": {},
   "outputs": [
    {
     "data": {
      "text/plain": [
       "udf_day = UserDefinedFunction(<function1>,StringType,Some(List(StringType)))\n"
      ]
     },
     "metadata": {},
     "output_type": "display_data"
    },
    {
     "data": {
      "text/plain": [
       "UserDefinedFunction(<function1>,StringType,Some(List(StringType)))"
      ]
     },
     "execution_count": 65,
     "metadata": {},
     "output_type": "execute_result"
    }
   ],
   "source": [
    "val udf_day = udf((y: String) =>\n",
    "    \"web_day_\".concat(\n",
    "      y.toLowerCase())\n",
    "    )"
   ]
  },
  {
   "cell_type": "code",
   "execution_count": 105,
   "metadata": {},
   "outputs": [
    {
     "data": {
      "text/plain": [
       "log_time2 = [uid: string, timestamp: bigint ... 7 more fields]\n"
      ]
     },
     "metadata": {},
     "output_type": "display_data"
    },
    {
     "data": {
      "text/plain": [
       "[uid: string, timestamp: bigint ... 7 more fields]"
      ]
     },
     "execution_count": 105,
     "metadata": {},
     "output_type": "execute_result"
    }
   ],
   "source": [
    "import org.apache.spark.sql.types._\n",
    "\n",
    "import org.apache.spark.sql.functions._\n",
    "\n",
    "val log_time2 = log_time.withColumn(\"input_timestamp\",\n",
    "    to_timestamp(col(\"time_UTC\")))\n",
    "    //.withColumn(\"week_day_number\", date_format(col(\"input_timestamp\"), \"u\"))\n",
    "    .withColumn(\"week_day_abb\", udf_day(date_format(col(\"input_timestamp\"), \"E\")))\n",
    "    //.withColumn(\"hour\", hour(col(\"input_timestamp\")))\n",
    "    .withColumn(\"hour\", hour(col(\"time_UTC\")))\n",
    "    .withColumn(\"web_hour\", concat(lit(\"web_hour_\"), col(\"hour\").cast(StringType)))\n",
    "    .withColumn(\"work_hours\", expr(\"case when hour >=9 and hour < 18 then 1 else 0 end\"))\n",
    "    .withColumn(\"evening_hours\", expr(\"case when hour >=18 and hour <= 23 then 1 else 0 end\"))"
   ]
  },
  {
   "cell_type": "code",
   "execution_count": 110,
   "metadata": {},
   "outputs": [
    {
     "name": "stdout",
     "output_type": "stream",
     "text": [
      "root\n",
      " |-- uid: string (nullable = true)\n",
      " |-- timestamp: long (nullable = true)\n",
      " |-- time_UTC: string (nullable = true)\n",
      " |-- input_timestamp: timestamp (nullable = true)\n",
      " |-- week_day_abb: string (nullable = true)\n",
      " |-- hour: integer (nullable = true)\n",
      " |-- web_hour: string (nullable = true)\n",
      " |-- work_hours: integer (nullable = false)\n",
      " |-- evening_hours: integer (nullable = false)\n",
      "\n"
     ]
    }
   ],
   "source": [
    "log_time2.printSchema"
   ]
  },
  {
   "cell_type": "code",
   "execution_count": 111,
   "metadata": {},
   "outputs": [
    {
     "name": "stdout",
     "output_type": "stream",
     "text": [
      "+--------------------+-------------+-------------------+-------------------+------------+----+-----------+----------+-------------+\n",
      "|                 uid|    timestamp|           time_UTC|    input_timestamp|week_day_abb|hour|   web_hour|work_hours|evening_hours|\n",
      "+--------------------+-------------+-------------------+-------------------+------------+----+-----------+----------+-------------+\n",
      "|39d8aded-2111-42a...|1419590902274|2014-12-26 10:48:22|2014-12-26 10:48:22| web_day_fri|  10|web_hour_10|         1|            0|\n",
      "|39d8aded-2111-42a...|1419590344372|2014-12-26 10:39:04|2014-12-26 10:39:04| web_day_fri|  10|web_hour_10|         1|            0|\n",
      "|39d8aded-2111-42a...|1419590203997|2014-12-26 10:36:43|2014-12-26 10:36:43| web_day_fri|  10|web_hour_10|         1|            0|\n",
      "|39d8aded-2111-42a...|1419589141914|2014-12-26 10:19:01|2014-12-26 10:19:01| web_day_fri|  10|web_hour_10|         1|            0|\n",
      "|39d8aded-2111-42a...|1419588542058|2014-12-26 10:09:02|2014-12-26 10:09:02| web_day_fri|  10|web_hour_10|         1|            0|\n",
      "|39d8aded-2111-42a...|1427181952000|2015-03-24 07:25:52|2015-03-24 07:25:52| web_day_tue|   7| web_hour_7|         0|            0|\n",
      "|39d8aded-2111-42a...|1427181928000|2015-03-24 07:25:28|2015-03-24 07:25:28| web_day_tue|   7| web_hour_7|         0|            0|\n",
      "|39d8aded-2111-42a...|1427181927000|2015-03-24 07:25:27|2015-03-24 07:25:27| web_day_tue|   7| web_hour_7|         0|            0|\n",
      "+--------------------+-------------+-------------------+-------------------+------------+----+-----------+----------+-------------+\n",
      "\n"
     ]
    }
   ],
   "source": [
    "log_time2.filter($\"uid\" ===\"39d8aded-2111-42ab-9393-37c4f781d030\").show"
   ]
  },
  {
   "cell_type": "code",
   "execution_count": 112,
   "metadata": {},
   "outputs": [
    {
     "name": "stdout",
     "output_type": "stream",
     "text": [
      "+----+----------+-------------+------+\n",
      "|hour|work_hours|evening_hours| count|\n",
      "+----+----------+-------------+------+\n",
      "|   0|         0|            0| 60705|\n",
      "|   1|         0|            0| 66886|\n",
      "|   2|         0|            0| 69298|\n",
      "|   3|         0|            0|105691|\n",
      "|   4|         0|            0|146261|\n",
      "|   5|         0|            0|187798|\n",
      "|   6|         0|            0|240577|\n",
      "|   7|         0|            0|273539|\n",
      "|   8|         0|            0|296071|\n",
      "|   9|         1|            0|270566|\n",
      "|  10|         1|            0|291345|\n",
      "|  11|         1|            0|292126|\n",
      "|  12|         1|            0|279606|\n",
      "|  13|         1|            0|306404|\n",
      "|  14|         1|            0|281448|\n",
      "|  15|         1|            0|290800|\n",
      "|  16|         1|            0|287460|\n",
      "|  17|         1|            0|289537|\n",
      "|  18|         0|            1|317837|\n",
      "|  19|         0|            1|311038|\n",
      "|  20|         0|            1|252770|\n",
      "|  21|         0|            1|178734|\n",
      "|  22|         0|            1|121061|\n",
      "|  23|         0|            1| 95394|\n",
      "+----+----------+-------------+------+\n",
      "\n"
     ]
    }
   ],
   "source": [
    "// проверка\n",
    "log_time2.groupBy(\"hour\",\"work_hours\", \"evening_hours\").count.sort('hour)show(25)"
   ]
  },
  {
   "cell_type": "markdown",
   "metadata": {},
   "source": [
    "#### Собираем фичи по времени"
   ]
  },
  {
   "cell_type": "code",
   "execution_count": 128,
   "metadata": {},
   "outputs": [
    {
     "data": {
      "text/plain": [
       "work_evening = [uid: string, all_visit: bigint ... 4 more fields]\n"
      ]
     },
     "metadata": {},
     "output_type": "display_data"
    },
    {
     "data": {
      "text/plain": [
       "lastException: Throwable = null\n"
      ]
     },
     "metadata": {},
     "output_type": "display_data"
    },
    {
     "data": {
      "text/plain": [
       "[uid: string, all_visit: bigint ... 4 more fields]"
      ]
     },
     "execution_count": 128,
     "metadata": {},
     "output_type": "execute_result"
    }
   ],
   "source": [
    "val work_evening = log_time2\n",
    "        .withColumn(\"1\", lit(1))\n",
    "        .groupBy('uid)\n",
    "        .agg(\n",
    "            sum(\"1\").as(\"all_visit\"),\n",
    "            sum('work_hours).as(\"visit_work\"),\n",
    "            sum('evening_hours).as(\"visit_evening\"))\n",
    "        .withColumn(\"web_fraction_work_hours\", col(\"visit_work\")/col(\"all_visit\"))\n",
    "        .withColumn(\"web_fraction_evening_hours\", col(\"visit_evening\")/col(\"all_visit\"))"
   ]
  },
  {
   "cell_type": "code",
   "execution_count": 129,
   "metadata": {},
   "outputs": [
    {
     "name": "stdout",
     "output_type": "stream",
     "text": [
      "+--------------------+---------+----------+-------------+-----------------------+--------------------------+\n",
      "|                 uid|all_visit|visit_work|visit_evening|web_fraction_work_hours|web_fraction_evening_hours|\n",
      "+--------------------+---------+----------+-------------+-----------------------+--------------------------+\n",
      "|39d8aded-2111-42a...|        8|         5|            0|                  0.625|                       0.0|\n",
      "+--------------------+---------+----------+-------------+-----------------------+--------------------------+\n",
      "\n"
     ]
    }
   ],
   "source": [
    "work_evening.filter($\"uid\" ===\"39d8aded-2111-42ab-9393-37c4f781d030\").show\n"
   ]
  },
  {
   "cell_type": "code",
   "execution_count": 134,
   "metadata": {},
   "outputs": [
    {
     "data": {
      "text/plain": [
       "web_day = [uid: string, web_day_fri: bigint ... 6 more fields]\n"
      ]
     },
     "metadata": {},
     "output_type": "display_data"
    },
    {
     "data": {
      "text/plain": [
       "[uid: string, web_day_fri: bigint ... 6 more fields]"
      ]
     },
     "execution_count": 134,
     "metadata": {},
     "output_type": "execute_result"
    }
   ],
   "source": [
    "val web_day = log_time2\n",
    "            .withColumn(\"1\", lit(1))\n",
    "            .groupBy(\"uid\")\n",
    "            .pivot(\"week_day_abb\")\n",
    "            .sum(\"1\")\n",
    "            .na.fill(0)"
   ]
  },
  {
   "cell_type": "code",
   "execution_count": 138,
   "metadata": {},
   "outputs": [
    {
     "name": "stdout",
     "output_type": "stream",
     "text": [
      "+--------------------+-----------+-----------+-----------+-----------+-----------+-----------+-----------+\n",
      "|                 uid|web_day_fri|web_day_mon|web_day_sat|web_day_sun|web_day_thu|web_day_tue|web_day_wed|\n",
      "+--------------------+-----------+-----------+-----------+-----------+-----------+-----------+-----------+\n",
      "|39d8aded-2111-42a...|          5|          0|          0|          0|          0|          3|          0|\n",
      "+--------------------+-----------+-----------+-----------+-----------+-----------+-----------+-----------+\n",
      "\n"
     ]
    }
   ],
   "source": [
    "web_day.filter($\"uid\" ===\"39d8aded-2111-42ab-9393-37c4f781d030\").show"
   ]
  },
  {
   "cell_type": "code",
   "execution_count": 136,
   "metadata": {},
   "outputs": [
    {
     "data": {
      "text/plain": [
       "web_hour = [uid: string, web_hour_0: bigint ... 23 more fields]\n"
      ]
     },
     "metadata": {},
     "output_type": "display_data"
    },
    {
     "data": {
      "text/plain": [
       "[uid: string, web_hour_0: bigint ... 23 more fields]"
      ]
     },
     "execution_count": 136,
     "metadata": {},
     "output_type": "execute_result"
    }
   ],
   "source": [
    "val web_hour = log_time2\n",
    "            .withColumn(\"1\", lit(1))\n",
    "            .groupBy(\"uid\")\n",
    "            .pivot(\"web_hour\")\n",
    "            .sum(\"1\")\n",
    "            .na.fill(0)"
   ]
  },
  {
   "cell_type": "code",
   "execution_count": 139,
   "metadata": {},
   "outputs": [
    {
     "name": "stdout",
     "output_type": "stream",
     "text": [
      "+--------------------+----------+----------+-----------+-----------+-----------+-----------+-----------+-----------+-----------+-----------+-----------+-----------+----------+-----------+-----------+-----------+-----------+----------+----------+----------+----------+----------+----------+----------+\n",
      "|                 uid|web_hour_0|web_hour_1|web_hour_10|web_hour_11|web_hour_12|web_hour_13|web_hour_14|web_hour_15|web_hour_16|web_hour_17|web_hour_18|web_hour_19|web_hour_2|web_hour_20|web_hour_21|web_hour_22|web_hour_23|web_hour_3|web_hour_4|web_hour_5|web_hour_6|web_hour_7|web_hour_8|web_hour_9|\n",
      "+--------------------+----------+----------+-----------+-----------+-----------+-----------+-----------+-----------+-----------+-----------+-----------+-----------+----------+-----------+-----------+-----------+-----------+----------+----------+----------+----------+----------+----------+----------+\n",
      "|39d8aded-2111-42a...|         0|         0|          5|          0|          0|          0|          0|          0|          0|          0|          0|          0|         0|          0|          0|          0|          0|         0|         0|         0|         0|         3|         0|         0|\n",
      "+--------------------+----------+----------+-----------+-----------+-----------+-----------+-----------+-----------+-----------+-----------+-----------+-----------+----------+-----------+-----------+-----------+-----------+----------+----------+----------+----------+----------+----------+----------+\n",
      "\n"
     ]
    }
   ],
   "source": [
    "web_hour.filter($\"uid\" ===\"39d8aded-2111-42ab-9393-37c4f781d030\").show"
   ]
  },
  {
   "cell_type": "code",
   "execution_count": 140,
   "metadata": {},
   "outputs": [
    {
     "name": "stdout",
     "output_type": "stream",
     "text": [
      "(web_day.count: ,36138,web_hour.count: ,36138)\n"
     ]
    }
   ],
   "source": [
    "println(\"web_day.count: \", web_day.count, \"web_hour.count: \", web_hour.count)"
   ]
  },
  {
   "cell_type": "markdown",
   "metadata": {},
   "source": [
    "#### Соединяем всем фичи вместе"
   ]
  },
  {
   "cell_type": "code",
   "execution_count": 146,
   "metadata": {},
   "outputs": [
    {
     "data": {
      "text/plain": [
       "all_feat = [uid: string, domain_features: array<bigint> ... 673 more fields]\n"
      ]
     },
     "metadata": {},
     "output_type": "display_data"
    },
    {
     "data": {
      "text/plain": [
       "[uid: string, domain_features: array<bigint> ... 673 more fields]"
      ]
     },
     "execution_count": 146,
     "metadata": {},
     "output_type": "execute_result"
    }
   ],
   "source": [
    "val all_feat = cl_topjoin2  //domain_features\n",
    "        .join(work_evening.select('uid,'web_fraction_work_hours, 'web_fraction_evening_hours), Seq(\"uid\"), \"inner\")\n",
    "        .join(web_day, Seq(\"uid\"), \"inner\")\n",
    "        .join(web_hour, Seq(\"uid\"), \"inner\") \n",
    "        .join(visits, Seq(\"uid\"), \"left\") // из прошлой лабы\n",
    "        .na.fill(0)"
   ]
  },
  {
   "cell_type": "code",
   "execution_count": 147,
   "metadata": {},
   "outputs": [
    {
     "name": "stdout",
     "output_type": "stream",
     "text": [
      "root\n",
      " |-- uid: string (nullable = true)\n",
      " |-- domain_features: array (nullable = true)\n",
      " |    |-- element: long (containsNull = true)\n",
      " |-- web_fraction_work_hours: double (nullable = false)\n",
      " |-- web_fraction_evening_hours: double (nullable = false)\n",
      " |-- web_day_fri: long (nullable = false)\n",
      " |-- web_day_mon: long (nullable = false)\n",
      " |-- web_day_sat: long (nullable = false)\n",
      " |-- web_day_sun: long (nullable = false)\n",
      " |-- web_day_thu: long (nullable = false)\n",
      " |-- web_day_tue: long (nullable = false)\n",
      " |-- web_day_wed: long (nullable = false)\n",
      " |-- web_hour_0: long (nullable = false)\n",
      " |-- web_hour_1: long (nullable = false)\n",
      " |-- web_hour_10: long (nullable = false)\n",
      " |-- web_hour_11: long (nullable = false)\n",
      " |-- web_hour_12: long (nullable = false)\n",
      " |-- web_hour_13: long (nullable = false)\n",
      " |-- web_hour_14: long (nullable = false)\n",
      " |-- web_hour_15: long (nullable = false)\n",
      " |-- web_hour_16: long (nullable = false)\n",
      " |-- web_hour_17: long (nullable = false)\n",
      " |-- web_hour_18: long (nullable = false)\n",
      " |-- web_hour_19: long (nullable = false)\n",
      " |-- web_hour_2: long (nullable = false)\n",
      " |-- web_hour_20: long (nullable = false)\n",
      " |-- web_hour_21: long (nullable = false)\n",
      " |-- web_hour_22: long (nullable = false)\n",
      " |-- web_hour_23: long (nullable = false)\n",
      " |-- web_hour_3: long (nullable = false)\n",
      " |-- web_hour_4: long (nullable = false)\n",
      " |-- web_hour_5: long (nullable = false)\n",
      " |-- web_hour_6: long (nullable = false)\n",
      " |-- web_hour_7: long (nullable = false)\n",
      " |-- web_hour_8: long (nullable = false)\n",
      " |-- web_hour_9: long (nullable = false)\n",
      " |-- buy_cameras_0: long (nullable = false)\n",
      " |-- buy_cameras_1: long (nullable = false)\n",
      " |-- buy_cameras_10: long (nullable = false)\n",
      " |-- buy_cameras_11: long (nullable = false)\n",
      " |-- buy_cameras_12: long (nullable = false)\n",
      " |-- buy_cameras_13: long (nullable = false)\n",
      " |-- buy_cameras_14: long (nullable = false)\n",
      " |-- buy_cameras_15: long (nullable = false)\n",
      " |-- buy_cameras_16: long (nullable = false)\n",
      " |-- buy_cameras_17: long (nullable = false)\n",
      " |-- buy_cameras_18: long (nullable = false)\n",
      " |-- buy_cameras_19: long (nullable = false)\n",
      " |-- buy_cameras_2: long (nullable = false)\n",
      " |-- buy_cameras_3: long (nullable = false)\n",
      " |-- buy_cameras_4: long (nullable = false)\n",
      " |-- buy_cameras_5: long (nullable = false)\n",
      " |-- buy_cameras_6: long (nullable = false)\n",
      " |-- buy_cameras_7: long (nullable = false)\n",
      " |-- buy_cameras_8: long (nullable = false)\n",
      " |-- buy_cameras_9: long (nullable = false)\n",
      " |-- buy_clothing_0: long (nullable = false)\n",
      " |-- buy_clothing_1: long (nullable = false)\n",
      " |-- buy_clothing_10: long (nullable = false)\n",
      " |-- buy_clothing_11: long (nullable = false)\n",
      " |-- buy_clothing_12: long (nullable = false)\n",
      " |-- buy_clothing_13: long (nullable = false)\n",
      " |-- buy_clothing_14: long (nullable = false)\n",
      " |-- buy_clothing_15: long (nullable = false)\n",
      " |-- buy_clothing_16: long (nullable = false)\n",
      " |-- buy_clothing_17: long (nullable = false)\n",
      " |-- buy_clothing_18: long (nullable = false)\n",
      " |-- buy_clothing_19: long (nullable = false)\n",
      " |-- buy_clothing_2: long (nullable = false)\n",
      " |-- buy_clothing_3: long (nullable = false)\n",
      " |-- buy_clothing_4: long (nullable = false)\n",
      " |-- buy_clothing_5: long (nullable = false)\n",
      " |-- buy_clothing_6: long (nullable = false)\n",
      " |-- buy_clothing_7: long (nullable = false)\n",
      " |-- buy_clothing_8: long (nullable = false)\n",
      " |-- buy_clothing_9: long (nullable = false)\n",
      " |-- buy_computers_0: long (nullable = false)\n",
      " |-- buy_computers_1: long (nullable = false)\n",
      " |-- buy_computers_10: long (nullable = false)\n",
      " |-- buy_computers_11: long (nullable = false)\n",
      " |-- buy_computers_12: long (nullable = false)\n",
      " |-- buy_computers_13: long (nullable = false)\n",
      " |-- buy_computers_14: long (nullable = false)\n",
      " |-- buy_computers_15: long (nullable = false)\n",
      " |-- buy_computers_16: long (nullable = false)\n",
      " |-- buy_computers_17: long (nullable = false)\n",
      " |-- buy_computers_18: long (nullable = false)\n",
      " |-- buy_computers_19: long (nullable = false)\n",
      " |-- buy_computers_2: long (nullable = false)\n",
      " |-- buy_computers_3: long (nullable = false)\n",
      " |-- buy_computers_4: long (nullable = false)\n",
      " |-- buy_computers_5: long (nullable = false)\n",
      " |-- buy_computers_6: long (nullable = false)\n",
      " |-- buy_computers_7: long (nullable = false)\n",
      " |-- buy_computers_8: long (nullable = false)\n",
      " |-- buy_computers_9: long (nullable = false)\n",
      " |-- buy_cosmetics_0: long (nullable = false)\n",
      " |-- buy_cosmetics_1: long (nullable = false)\n",
      " |-- buy_cosmetics_10: long (nullable = false)\n",
      " |-- buy_cosmetics_11: long (nullable = false)\n",
      " |-- buy_cosmetics_12: long (nullable = false)\n",
      " |-- buy_cosmetics_13: long (nullable = false)\n",
      " |-- buy_cosmetics_14: long (nullable = false)\n",
      " |-- buy_cosmetics_15: long (nullable = false)\n",
      " |-- buy_cosmetics_16: long (nullable = false)\n",
      " |-- buy_cosmetics_17: long (nullable = false)\n",
      " |-- buy_cosmetics_18: long (nullable = false)\n",
      " |-- buy_cosmetics_19: long (nullable = false)\n",
      " |-- buy_cosmetics_2: long (nullable = false)\n",
      " |-- buy_cosmetics_3: long (nullable = false)\n",
      " |-- buy_cosmetics_4: long (nullable = false)\n",
      " |-- buy_cosmetics_5: long (nullable = false)\n",
      " |-- buy_cosmetics_6: long (nullable = false)\n",
      " |-- buy_cosmetics_7: long (nullable = false)\n",
      " |-- buy_cosmetics_8: long (nullable = false)\n",
      " |-- buy_cosmetics_9: long (nullable = false)\n",
      " |-- buy_entertainment_equipment_0: long (nullable = false)\n",
      " |-- buy_entertainment_equipment_1: long (nullable = false)\n",
      " |-- buy_entertainment_equipment_10: long (nullable = false)\n",
      " |-- buy_entertainment_equipment_11: long (nullable = false)\n",
      " |-- buy_entertainment_equipment_12: long (nullable = false)\n",
      " |-- buy_entertainment_equipment_13: long (nullable = false)\n",
      " |-- buy_entertainment_equipment_14: long (nullable = false)\n",
      " |-- buy_entertainment_equipment_15: long (nullable = false)\n",
      " |-- buy_entertainment_equipment_16: long (nullable = false)\n",
      " |-- buy_entertainment_equipment_17: long (nullable = false)\n",
      " |-- buy_entertainment_equipment_18: long (nullable = false)\n",
      " |-- buy_entertainment_equipment_19: long (nullable = false)\n",
      " |-- buy_entertainment_equipment_2: long (nullable = false)\n",
      " |-- buy_entertainment_equipment_3: long (nullable = false)\n",
      " |-- buy_entertainment_equipment_4: long (nullable = false)\n",
      " |-- buy_entertainment_equipment_5: long (nullable = false)\n",
      " |-- buy_entertainment_equipment_6: long (nullable = false)\n",
      " |-- buy_entertainment_equipment_7: long (nullable = false)\n",
      " |-- buy_entertainment_equipment_8: long (nullable = false)\n",
      " |-- buy_entertainment_equipment_9: long (nullable = false)\n",
      " |-- buy_everyday_jewelry_0: long (nullable = false)\n",
      " |-- buy_everyday_jewelry_1: long (nullable = false)\n",
      " |-- buy_everyday_jewelry_10: long (nullable = false)\n",
      " |-- buy_everyday_jewelry_11: long (nullable = false)\n",
      " |-- buy_everyday_jewelry_12: long (nullable = false)\n",
      " |-- buy_everyday_jewelry_13: long (nullable = false)\n",
      " |-- buy_everyday_jewelry_14: long (nullable = false)\n",
      " |-- buy_everyday_jewelry_15: long (nullable = false)\n",
      " |-- buy_everyday_jewelry_16: long (nullable = false)\n",
      " |-- buy_everyday_jewelry_17: long (nullable = false)\n",
      " |-- buy_everyday_jewelry_18: long (nullable = false)\n",
      " |-- buy_everyday_jewelry_19: long (nullable = false)\n",
      " |-- buy_everyday_jewelry_2: long (nullable = false)\n",
      " |-- buy_everyday_jewelry_3: long (nullable = false)\n",
      " |-- buy_everyday_jewelry_4: long (nullable = false)\n",
      " |-- buy_everyday_jewelry_5: long (nullable = false)\n",
      " |-- buy_everyday_jewelry_6: long (nullable = false)\n",
      " |-- buy_everyday_jewelry_7: long (nullable = false)\n",
      " |-- buy_everyday_jewelry_8: long (nullable = false)\n",
      " |-- buy_everyday_jewelry_9: long (nullable = false)\n",
      " |-- buy_house_repairs_paint_tools_0: long (nullable = false)\n",
      " |-- buy_house_repairs_paint_tools_1: long (nullable = false)\n",
      " |-- buy_house_repairs_paint_tools_10: long (nullable = false)\n",
      " |-- buy_house_repairs_paint_tools_11: long (nullable = false)\n",
      " |-- buy_house_repairs_paint_tools_12: long (nullable = false)\n",
      " |-- buy_house_repairs_paint_tools_13: long (nullable = false)\n",
      " |-- buy_house_repairs_paint_tools_14: long (nullable = false)\n",
      " |-- buy_house_repairs_paint_tools_15: long (nullable = false)\n",
      " |-- buy_house_repairs_paint_tools_16: long (nullable = false)\n",
      " |-- buy_house_repairs_paint_tools_17: long (nullable = false)\n",
      " |-- buy_house_repairs_paint_tools_18: long (nullable = false)\n",
      " |-- buy_house_repairs_paint_tools_19: long (nullable = false)\n",
      " |-- buy_house_repairs_paint_tools_2: long (nullable = false)\n",
      " |-- buy_house_repairs_paint_tools_3: long (nullable = false)\n",
      " |-- buy_house_repairs_paint_tools_4: long (nullable = false)\n",
      " |-- buy_house_repairs_paint_tools_5: long (nullable = false)\n",
      " |-- buy_house_repairs_paint_tools_6: long (nullable = false)\n",
      " |-- buy_house_repairs_paint_tools_7: long (nullable = false)\n",
      " |-- buy_house_repairs_paint_tools_8: long (nullable = false)\n",
      " |-- buy_house_repairs_paint_tools_9: long (nullable = false)\n",
      " |-- buy_household_appliances_0: long (nullable = false)\n",
      " |-- buy_household_appliances_1: long (nullable = false)\n",
      " |-- buy_household_appliances_10: long (nullable = false)\n",
      " |-- buy_household_appliances_11: long (nullable = false)\n",
      " |-- buy_household_appliances_12: long (nullable = false)\n",
      " |-- buy_household_appliances_13: long (nullable = false)\n",
      " |-- buy_household_appliances_14: long (nullable = false)\n",
      " |-- buy_household_appliances_15: long (nullable = false)\n",
      " |-- buy_household_appliances_16: long (nullable = false)\n",
      " |-- buy_household_appliances_17: long (nullable = false)\n",
      " |-- buy_household_appliances_18: long (nullable = false)\n",
      " |-- buy_household_appliances_19: long (nullable = false)\n",
      " |-- buy_household_appliances_2: long (nullable = false)\n",
      " |-- buy_household_appliances_3: long (nullable = false)\n",
      " |-- buy_household_appliances_4: long (nullable = false)\n",
      " |-- buy_household_appliances_5: long (nullable = false)\n",
      " |-- buy_household_appliances_6: long (nullable = false)\n",
      " |-- buy_household_appliances_7: long (nullable = false)\n",
      " |-- buy_household_appliances_8: long (nullable = false)\n",
      " |-- buy_household_appliances_9: long (nullable = false)\n",
      " |-- buy_household_furniture_0: long (nullable = false)\n",
      " |-- buy_household_furniture_1: long (nullable = false)\n",
      " |-- buy_household_furniture_10: long (nullable = false)\n",
      " |-- buy_household_furniture_11: long (nullable = false)\n",
      " |-- buy_household_furniture_12: long (nullable = false)\n",
      " |-- buy_household_furniture_13: long (nullable = false)\n",
      " |-- buy_household_furniture_14: long (nullable = false)\n",
      " |-- buy_household_furniture_15: long (nullable = false)\n",
      " |-- buy_household_furniture_16: long (nullable = false)\n",
      " |-- buy_household_furniture_17: long (nullable = false)\n",
      " |-- buy_household_furniture_18: long (nullable = false)\n",
      " |-- buy_household_furniture_19: long (nullable = false)\n",
      " |-- buy_household_furniture_2: long (nullable = false)\n",
      " |-- buy_household_furniture_3: long (nullable = false)\n",
      " |-- buy_household_furniture_4: long (nullable = false)\n",
      " |-- buy_household_furniture_5: long (nullable = false)\n",
      " |-- buy_household_furniture_6: long (nullable = false)\n",
      " |-- buy_household_furniture_7: long (nullable = false)\n",
      " |-- buy_household_furniture_8: long (nullable = false)\n",
      " |-- buy_household_furniture_9: long (nullable = false)\n",
      " |-- buy_kitchen_appliances_0: long (nullable = false)\n",
      " |-- buy_kitchen_appliances_1: long (nullable = false)\n",
      " |-- buy_kitchen_appliances_10: long (nullable = false)\n",
      " |-- buy_kitchen_appliances_11: long (nullable = false)\n",
      " |-- buy_kitchen_appliances_12: long (nullable = false)\n",
      " |-- buy_kitchen_appliances_13: long (nullable = false)\n",
      " |-- buy_kitchen_appliances_14: long (nullable = false)\n",
      " |-- buy_kitchen_appliances_15: long (nullable = false)\n",
      " |-- buy_kitchen_appliances_16: long (nullable = false)\n",
      " |-- buy_kitchen_appliances_17: long (nullable = false)\n",
      " |-- buy_kitchen_appliances_18: long (nullable = false)\n",
      " |-- buy_kitchen_appliances_19: long (nullable = false)\n",
      " |-- buy_kitchen_appliances_2: long (nullable = false)\n",
      " |-- buy_kitchen_appliances_3: long (nullable = false)\n",
      " |-- buy_kitchen_appliances_4: long (nullable = false)\n",
      " |-- buy_kitchen_appliances_5: long (nullable = false)\n",
      " |-- buy_kitchen_appliances_6: long (nullable = false)\n",
      " |-- buy_kitchen_appliances_7: long (nullable = false)\n",
      " |-- buy_kitchen_appliances_8: long (nullable = false)\n",
      " |-- buy_kitchen_appliances_9: long (nullable = false)\n",
      " |-- buy_kitchen_utensils_0: long (nullable = false)\n",
      " |-- buy_kitchen_utensils_1: long (nullable = false)\n",
      " |-- buy_kitchen_utensils_10: long (nullable = false)\n",
      " |-- buy_kitchen_utensils_11: long (nullable = false)\n",
      " |-- buy_kitchen_utensils_12: long (nullable = false)\n",
      " |-- buy_kitchen_utensils_13: long (nullable = false)\n",
      " |-- buy_kitchen_utensils_14: long (nullable = false)\n",
      " |-- buy_kitchen_utensils_15: long (nullable = false)\n",
      " |-- buy_kitchen_utensils_16: long (nullable = false)\n",
      " |-- buy_kitchen_utensils_17: long (nullable = false)\n",
      " |-- buy_kitchen_utensils_18: long (nullable = false)\n",
      " |-- buy_kitchen_utensils_19: long (nullable = false)\n",
      " |-- buy_kitchen_utensils_2: long (nullable = false)\n",
      " |-- buy_kitchen_utensils_3: long (nullable = false)\n",
      " |-- buy_kitchen_utensils_4: long (nullable = false)\n",
      " |-- buy_kitchen_utensils_5: long (nullable = false)\n",
      " |-- buy_kitchen_utensils_6: long (nullable = false)\n",
      " |-- buy_kitchen_utensils_7: long (nullable = false)\n",
      " |-- buy_kitchen_utensils_8: long (nullable = false)\n",
      " |-- buy_kitchen_utensils_9: long (nullable = false)\n",
      " |-- buy_luggage_0: long (nullable = false)\n",
      " |-- buy_luggage_1: long (nullable = false)\n",
      " |-- buy_luggage_10: long (nullable = false)\n",
      " |-- buy_luggage_11: long (nullable = false)\n",
      " |-- buy_luggage_12: long (nullable = false)\n",
      " |-- buy_luggage_13: long (nullable = false)\n",
      " |-- buy_luggage_14: long (nullable = false)\n",
      " |-- buy_luggage_15: long (nullable = false)\n",
      " |-- buy_luggage_16: long (nullable = false)\n",
      " |-- buy_luggage_17: long (nullable = false)\n",
      " |-- buy_luggage_18: long (nullable = false)\n",
      " |-- buy_luggage_19: long (nullable = false)\n",
      " |-- buy_luggage_2: long (nullable = false)\n",
      " |-- buy_luggage_3: long (nullable = false)\n",
      " |-- buy_luggage_4: long (nullable = false)\n",
      " |-- buy_luggage_5: long (nullable = false)\n",
      " |-- buy_luggage_6: long (nullable = false)\n",
      " |-- buy_luggage_7: long (nullable = false)\n",
      " |-- buy_luggage_8: long (nullable = false)\n",
      " |-- buy_luggage_9: long (nullable = false)\n",
      " |-- buy_mobile_phones_0: long (nullable = false)\n",
      " |-- buy_mobile_phones_1: long (nullable = false)\n",
      " |-- buy_mobile_phones_10: long (nullable = false)\n",
      " |-- buy_mobile_phones_11: long (nullable = false)\n",
      " |-- buy_mobile_phones_12: long (nullable = false)\n",
      " |-- buy_mobile_phones_13: long (nullable = false)\n",
      " |-- buy_mobile_phones_14: long (nullable = false)\n",
      " |-- buy_mobile_phones_15: long (nullable = false)\n",
      " |-- buy_mobile_phones_16: long (nullable = false)\n",
      " |-- buy_mobile_phones_17: long (nullable = false)\n",
      " |-- buy_mobile_phones_18: long (nullable = false)\n",
      " |-- buy_mobile_phones_19: long (nullable = false)\n",
      " |-- buy_mobile_phones_2: long (nullable = false)\n",
      " |-- buy_mobile_phones_3: long (nullable = false)\n",
      " |-- buy_mobile_phones_4: long (nullable = false)\n",
      " |-- buy_mobile_phones_5: long (nullable = false)\n",
      " |-- buy_mobile_phones_6: long (nullable = false)\n",
      " |-- buy_mobile_phones_7: long (nullable = false)\n",
      " |-- buy_mobile_phones_8: long (nullable = false)\n",
      " |-- buy_mobile_phones_9: long (nullable = false)\n",
      " |-- buy_shoes_0: long (nullable = false)\n",
      " |-- buy_shoes_1: long (nullable = false)\n",
      " |-- buy_shoes_10: long (nullable = false)\n",
      " |-- buy_shoes_11: long (nullable = false)\n",
      " |-- buy_shoes_12: long (nullable = false)\n",
      " |-- buy_shoes_13: long (nullable = false)\n",
      " |-- buy_shoes_14: long (nullable = false)\n",
      " |-- buy_shoes_15: long (nullable = false)\n",
      " |-- buy_shoes_16: long (nullable = false)\n",
      " |-- buy_shoes_17: long (nullable = false)\n",
      " |-- buy_shoes_18: long (nullable = false)\n",
      " |-- buy_shoes_19: long (nullable = false)\n",
      " |-- buy_shoes_2: long (nullable = false)\n",
      " |-- buy_shoes_3: long (nullable = false)\n",
      " |-- buy_shoes_4: long (nullable = false)\n",
      " |-- buy_shoes_5: long (nullable = false)\n",
      " |-- buy_shoes_6: long (nullable = false)\n",
      " |-- buy_shoes_7: long (nullable = false)\n",
      " |-- buy_shoes_8: long (nullable = false)\n",
      " |-- buy_shoes_9: long (nullable = false)\n",
      " |-- buy_sports_equipment_0: long (nullable = false)\n",
      " |-- buy_sports_equipment_1: long (nullable = false)\n",
      " |-- buy_sports_equipment_10: long (nullable = false)\n",
      " |-- buy_sports_equipment_11: long (nullable = false)\n",
      " |-- buy_sports_equipment_12: long (nullable = false)\n",
      " |-- buy_sports_equipment_13: long (nullable = false)\n",
      " |-- buy_sports_equipment_14: long (nullable = false)\n",
      " |-- buy_sports_equipment_15: long (nullable = false)\n",
      " |-- buy_sports_equipment_16: long (nullable = false)\n",
      " |-- buy_sports_equipment_17: long (nullable = false)\n",
      " |-- buy_sports_equipment_18: long (nullable = false)\n",
      " |-- buy_sports_equipment_19: long (nullable = false)\n",
      " |-- buy_sports_equipment_2: long (nullable = false)\n",
      " |-- buy_sports_equipment_3: long (nullable = false)\n",
      " |-- buy_sports_equipment_4: long (nullable = false)\n",
      " |-- buy_sports_equipment_5: long (nullable = false)\n",
      " |-- buy_sports_equipment_6: long (nullable = false)\n",
      " |-- buy_sports_equipment_7: long (nullable = false)\n",
      " |-- buy_sports_equipment_8: long (nullable = false)\n",
      " |-- buy_sports_equipment_9: long (nullable = false)\n",
      " |-- buy_toys_0: long (nullable = false)\n",
      " |-- buy_toys_1: long (nullable = false)\n",
      " |-- buy_toys_10: long (nullable = false)\n",
      " |-- buy_toys_11: long (nullable = false)\n",
      " |-- buy_toys_12: long (nullable = false)\n",
      " |-- buy_toys_13: long (nullable = false)\n",
      " |-- buy_toys_14: long (nullable = false)\n",
      " |-- buy_toys_15: long (nullable = false)\n",
      " |-- buy_toys_16: long (nullable = false)\n",
      " |-- buy_toys_17: long (nullable = false)\n",
      " |-- buy_toys_18: long (nullable = false)\n",
      " |-- buy_toys_19: long (nullable = false)\n",
      " |-- buy_toys_2: long (nullable = false)\n",
      " |-- buy_toys_3: long (nullable = false)\n",
      " |-- buy_toys_4: long (nullable = false)\n",
      " |-- buy_toys_5: long (nullable = false)\n",
      " |-- buy_toys_6: long (nullable = false)\n",
      " |-- buy_toys_7: long (nullable = false)\n",
      " |-- buy_toys_8: long (nullable = false)\n",
      " |-- buy_toys_9: long (nullable = false)\n",
      " |-- view_cameras_0: long (nullable = false)\n",
      " |-- view_cameras_1: long (nullable = false)\n",
      " |-- view_cameras_10: long (nullable = false)\n",
      " |-- view_cameras_11: long (nullable = false)\n",
      " |-- view_cameras_12: long (nullable = false)\n",
      " |-- view_cameras_13: long (nullable = false)\n",
      " |-- view_cameras_14: long (nullable = false)\n",
      " |-- view_cameras_15: long (nullable = false)\n",
      " |-- view_cameras_16: long (nullable = false)\n",
      " |-- view_cameras_17: long (nullable = false)\n",
      " |-- view_cameras_18: long (nullable = false)\n",
      " |-- view_cameras_19: long (nullable = false)\n",
      " |-- view_cameras_2: long (nullable = false)\n",
      " |-- view_cameras_3: long (nullable = false)\n",
      " |-- view_cameras_4: long (nullable = false)\n",
      " |-- view_cameras_5: long (nullable = false)\n",
      " |-- view_cameras_6: long (nullable = false)\n",
      " |-- view_cameras_7: long (nullable = false)\n",
      " |-- view_cameras_8: long (nullable = false)\n",
      " |-- view_cameras_9: long (nullable = false)\n",
      " |-- view_clothing_0: long (nullable = false)\n",
      " |-- view_clothing_1: long (nullable = false)\n",
      " |-- view_clothing_10: long (nullable = false)\n",
      " |-- view_clothing_11: long (nullable = false)\n",
      " |-- view_clothing_12: long (nullable = false)\n",
      " |-- view_clothing_13: long (nullable = false)\n",
      " |-- view_clothing_14: long (nullable = false)\n",
      " |-- view_clothing_15: long (nullable = false)\n",
      " |-- view_clothing_16: long (nullable = false)\n",
      " |-- view_clothing_17: long (nullable = false)\n",
      " |-- view_clothing_18: long (nullable = false)\n",
      " |-- view_clothing_19: long (nullable = false)\n",
      " |-- view_clothing_2: long (nullable = false)\n",
      " |-- view_clothing_3: long (nullable = false)\n",
      " |-- view_clothing_4: long (nullable = false)\n",
      " |-- view_clothing_5: long (nullable = false)\n",
      " |-- view_clothing_6: long (nullable = false)\n",
      " |-- view_clothing_7: long (nullable = false)\n",
      " |-- view_clothing_8: long (nullable = false)\n",
      " |-- view_clothing_9: long (nullable = false)\n",
      " |-- view_computers_0: long (nullable = false)\n",
      " |-- view_computers_1: long (nullable = false)\n",
      " |-- view_computers_10: long (nullable = false)\n",
      " |-- view_computers_11: long (nullable = false)\n",
      " |-- view_computers_12: long (nullable = false)\n",
      " |-- view_computers_13: long (nullable = false)\n",
      " |-- view_computers_14: long (nullable = false)\n",
      " |-- view_computers_15: long (nullable = false)\n",
      " |-- view_computers_16: long (nullable = false)\n",
      " |-- view_computers_17: long (nullable = false)\n",
      " |-- view_computers_18: long (nullable = false)\n",
      " |-- view_computers_19: long (nullable = false)\n",
      " |-- view_computers_2: long (nullable = false)\n",
      " |-- view_computers_3: long (nullable = false)\n",
      " |-- view_computers_4: long (nullable = false)\n",
      " |-- view_computers_5: long (nullable = false)\n",
      " |-- view_computers_6: long (nullable = false)\n",
      " |-- view_computers_7: long (nullable = false)\n",
      " |-- view_computers_8: long (nullable = false)\n",
      " |-- view_computers_9: long (nullable = false)\n",
      " |-- view_cosmetics_0: long (nullable = false)\n",
      " |-- view_cosmetics_1: long (nullable = false)\n",
      " |-- view_cosmetics_10: long (nullable = false)\n",
      " |-- view_cosmetics_11: long (nullable = false)\n",
      " |-- view_cosmetics_12: long (nullable = false)\n",
      " |-- view_cosmetics_13: long (nullable = false)\n",
      " |-- view_cosmetics_14: long (nullable = false)\n",
      " |-- view_cosmetics_15: long (nullable = false)\n",
      " |-- view_cosmetics_16: long (nullable = false)\n",
      " |-- view_cosmetics_17: long (nullable = false)\n",
      " |-- view_cosmetics_18: long (nullable = false)\n",
      " |-- view_cosmetics_19: long (nullable = false)\n",
      " |-- view_cosmetics_2: long (nullable = false)\n",
      " |-- view_cosmetics_3: long (nullable = false)\n",
      " |-- view_cosmetics_4: long (nullable = false)\n",
      " |-- view_cosmetics_5: long (nullable = false)\n",
      " |-- view_cosmetics_6: long (nullable = false)\n",
      " |-- view_cosmetics_7: long (nullable = false)\n",
      " |-- view_cosmetics_8: long (nullable = false)\n",
      " |-- view_cosmetics_9: long (nullable = false)\n",
      " |-- view_entertainment_equipment_0: long (nullable = false)\n",
      " |-- view_entertainment_equipment_1: long (nullable = false)\n",
      " |-- view_entertainment_equipment_10: long (nullable = false)\n",
      " |-- view_entertainment_equipment_11: long (nullable = false)\n",
      " |-- view_entertainment_equipment_12: long (nullable = false)\n",
      " |-- view_entertainment_equipment_13: long (nullable = false)\n",
      " |-- view_entertainment_equipment_14: long (nullable = false)\n",
      " |-- view_entertainment_equipment_15: long (nullable = false)\n",
      " |-- view_entertainment_equipment_16: long (nullable = false)\n",
      " |-- view_entertainment_equipment_17: long (nullable = false)\n",
      " |-- view_entertainment_equipment_18: long (nullable = false)\n",
      " |-- view_entertainment_equipment_19: long (nullable = false)\n",
      " |-- view_entertainment_equipment_2: long (nullable = false)\n",
      " |-- view_entertainment_equipment_3: long (nullable = false)\n",
      " |-- view_entertainment_equipment_4: long (nullable = false)\n",
      " |-- view_entertainment_equipment_5: long (nullable = false)\n",
      " |-- view_entertainment_equipment_6: long (nullable = false)\n",
      " |-- view_entertainment_equipment_7: long (nullable = false)\n",
      " |-- view_entertainment_equipment_8: long (nullable = false)\n",
      " |-- view_entertainment_equipment_9: long (nullable = false)\n",
      " |-- view_everyday_jewelry_0: long (nullable = false)\n",
      " |-- view_everyday_jewelry_1: long (nullable = false)\n",
      " |-- view_everyday_jewelry_10: long (nullable = false)\n",
      " |-- view_everyday_jewelry_11: long (nullable = false)\n",
      " |-- view_everyday_jewelry_12: long (nullable = false)\n",
      " |-- view_everyday_jewelry_13: long (nullable = false)\n",
      " |-- view_everyday_jewelry_14: long (nullable = false)\n",
      " |-- view_everyday_jewelry_15: long (nullable = false)\n",
      " |-- view_everyday_jewelry_16: long (nullable = false)\n",
      " |-- view_everyday_jewelry_17: long (nullable = false)\n",
      " |-- view_everyday_jewelry_18: long (nullable = false)\n",
      " |-- view_everyday_jewelry_19: long (nullable = false)\n",
      " |-- view_everyday_jewelry_2: long (nullable = false)\n",
      " |-- view_everyday_jewelry_3: long (nullable = false)\n",
      " |-- view_everyday_jewelry_4: long (nullable = false)\n",
      " |-- view_everyday_jewelry_5: long (nullable = false)\n",
      " |-- view_everyday_jewelry_6: long (nullable = false)\n",
      " |-- view_everyday_jewelry_7: long (nullable = false)\n",
      " |-- view_everyday_jewelry_8: long (nullable = false)\n",
      " |-- view_everyday_jewelry_9: long (nullable = false)\n",
      " |-- view_house_repairs_paint_tools_0: long (nullable = false)\n",
      " |-- view_house_repairs_paint_tools_1: long (nullable = false)\n",
      " |-- view_house_repairs_paint_tools_10: long (nullable = false)\n",
      " |-- view_house_repairs_paint_tools_11: long (nullable = false)\n",
      " |-- view_house_repairs_paint_tools_12: long (nullable = false)\n",
      " |-- view_house_repairs_paint_tools_13: long (nullable = false)\n",
      " |-- view_house_repairs_paint_tools_14: long (nullable = false)\n",
      " |-- view_house_repairs_paint_tools_15: long (nullable = false)\n",
      " |-- view_house_repairs_paint_tools_16: long (nullable = false)\n",
      " |-- view_house_repairs_paint_tools_17: long (nullable = false)\n",
      " |-- view_house_repairs_paint_tools_18: long (nullable = false)\n",
      " |-- view_house_repairs_paint_tools_19: long (nullable = false)\n",
      " |-- view_house_repairs_paint_tools_2: long (nullable = false)\n",
      " |-- view_house_repairs_paint_tools_3: long (nullable = false)\n",
      " |-- view_house_repairs_paint_tools_4: long (nullable = false)\n",
      " |-- view_house_repairs_paint_tools_5: long (nullable = false)\n",
      " |-- view_house_repairs_paint_tools_6: long (nullable = false)\n",
      " |-- view_house_repairs_paint_tools_7: long (nullable = false)\n",
      " |-- view_house_repairs_paint_tools_8: long (nullable = false)\n",
      " |-- view_house_repairs_paint_tools_9: long (nullable = false)\n",
      " |-- view_household_appliances_0: long (nullable = false)\n",
      " |-- view_household_appliances_1: long (nullable = false)\n",
      " |-- view_household_appliances_10: long (nullable = false)\n",
      " |-- view_household_appliances_11: long (nullable = false)\n",
      " |-- view_household_appliances_12: long (nullable = false)\n",
      " |-- view_household_appliances_13: long (nullable = false)\n",
      " |-- view_household_appliances_14: long (nullable = false)\n",
      " |-- view_household_appliances_15: long (nullable = false)\n",
      " |-- view_household_appliances_16: long (nullable = false)\n",
      " |-- view_household_appliances_17: long (nullable = false)\n",
      " |-- view_household_appliances_18: long (nullable = false)\n",
      " |-- view_household_appliances_19: long (nullable = false)\n",
      " |-- view_household_appliances_2: long (nullable = false)\n",
      " |-- view_household_appliances_3: long (nullable = false)\n",
      " |-- view_household_appliances_4: long (nullable = false)\n",
      " |-- view_household_appliances_5: long (nullable = false)\n",
      " |-- view_household_appliances_6: long (nullable = false)\n",
      " |-- view_household_appliances_7: long (nullable = false)\n",
      " |-- view_household_appliances_8: long (nullable = false)\n",
      " |-- view_household_appliances_9: long (nullable = false)\n",
      " |-- view_household_furniture_0: long (nullable = false)\n",
      " |-- view_household_furniture_1: long (nullable = false)\n",
      " |-- view_household_furniture_10: long (nullable = false)\n",
      " |-- view_household_furniture_11: long (nullable = false)\n",
      " |-- view_household_furniture_12: long (nullable = false)\n",
      " |-- view_household_furniture_13: long (nullable = false)\n",
      " |-- view_household_furniture_14: long (nullable = false)\n",
      " |-- view_household_furniture_15: long (nullable = false)\n",
      " |-- view_household_furniture_16: long (nullable = false)\n",
      " |-- view_household_furniture_17: long (nullable = false)\n",
      " |-- view_household_furniture_18: long (nullable = false)\n",
      " |-- view_household_furniture_19: long (nullable = false)\n",
      " |-- view_household_furniture_2: long (nullable = false)\n",
      " |-- view_household_furniture_3: long (nullable = false)\n",
      " |-- view_household_furniture_4: long (nullable = false)\n",
      " |-- view_household_furniture_5: long (nullable = false)\n",
      " |-- view_household_furniture_6: long (nullable = false)\n",
      " |-- view_household_furniture_7: long (nullable = false)\n",
      " |-- view_household_furniture_8: long (nullable = false)\n",
      " |-- view_household_furniture_9: long (nullable = false)\n",
      " |-- view_kitchen_appliances_0: long (nullable = false)\n",
      " |-- view_kitchen_appliances_1: long (nullable = false)\n",
      " |-- view_kitchen_appliances_10: long (nullable = false)\n",
      " |-- view_kitchen_appliances_11: long (nullable = false)\n",
      " |-- view_kitchen_appliances_12: long (nullable = false)\n",
      " |-- view_kitchen_appliances_13: long (nullable = false)\n",
      " |-- view_kitchen_appliances_14: long (nullable = false)\n",
      " |-- view_kitchen_appliances_15: long (nullable = false)\n",
      " |-- view_kitchen_appliances_16: long (nullable = false)\n",
      " |-- view_kitchen_appliances_17: long (nullable = false)\n",
      " |-- view_kitchen_appliances_18: long (nullable = false)\n",
      " |-- view_kitchen_appliances_19: long (nullable = false)\n",
      " |-- view_kitchen_appliances_2: long (nullable = false)\n",
      " |-- view_kitchen_appliances_3: long (nullable = false)\n",
      " |-- view_kitchen_appliances_4: long (nullable = false)\n",
      " |-- view_kitchen_appliances_5: long (nullable = false)\n",
      " |-- view_kitchen_appliances_6: long (nullable = false)\n",
      " |-- view_kitchen_appliances_7: long (nullable = false)\n",
      " |-- view_kitchen_appliances_8: long (nullable = false)\n",
      " |-- view_kitchen_appliances_9: long (nullable = false)\n",
      " |-- view_kitchen_utensils_0: long (nullable = false)\n",
      " |-- view_kitchen_utensils_1: long (nullable = false)\n",
      " |-- view_kitchen_utensils_10: long (nullable = false)\n",
      " |-- view_kitchen_utensils_11: long (nullable = false)\n",
      " |-- view_kitchen_utensils_12: long (nullable = false)\n",
      " |-- view_kitchen_utensils_13: long (nullable = false)\n",
      " |-- view_kitchen_utensils_14: long (nullable = false)\n",
      " |-- view_kitchen_utensils_15: long (nullable = false)\n",
      " |-- view_kitchen_utensils_16: long (nullable = false)\n",
      " |-- view_kitchen_utensils_17: long (nullable = false)\n",
      " |-- view_kitchen_utensils_18: long (nullable = false)\n",
      " |-- view_kitchen_utensils_19: long (nullable = false)\n",
      " |-- view_kitchen_utensils_2: long (nullable = false)\n",
      " |-- view_kitchen_utensils_3: long (nullable = false)\n",
      " |-- view_kitchen_utensils_4: long (nullable = false)\n",
      " |-- view_kitchen_utensils_5: long (nullable = false)\n",
      " |-- view_kitchen_utensils_6: long (nullable = false)\n",
      " |-- view_kitchen_utensils_7: long (nullable = false)\n",
      " |-- view_kitchen_utensils_8: long (nullable = false)\n",
      " |-- view_kitchen_utensils_9: long (nullable = false)\n",
      " |-- view_luggage_0: long (nullable = false)\n",
      " |-- view_luggage_1: long (nullable = false)\n",
      " |-- view_luggage_10: long (nullable = false)\n",
      " |-- view_luggage_11: long (nullable = false)\n",
      " |-- view_luggage_12: long (nullable = false)\n",
      " |-- view_luggage_13: long (nullable = false)\n",
      " |-- view_luggage_14: long (nullable = false)\n",
      " |-- view_luggage_15: long (nullable = false)\n",
      " |-- view_luggage_16: long (nullable = false)\n",
      " |-- view_luggage_17: long (nullable = false)\n",
      " |-- view_luggage_18: long (nullable = false)\n",
      " |-- view_luggage_19: long (nullable = false)\n",
      " |-- view_luggage_2: long (nullable = false)\n",
      " |-- view_luggage_3: long (nullable = false)\n",
      " |-- view_luggage_4: long (nullable = false)\n",
      " |-- view_luggage_5: long (nullable = false)\n",
      " |-- view_luggage_6: long (nullable = false)\n",
      " |-- view_luggage_7: long (nullable = false)\n",
      " |-- view_luggage_8: long (nullable = false)\n",
      " |-- view_luggage_9: long (nullable = false)\n",
      " |-- view_mobile_phones_0: long (nullable = false)\n",
      " |-- view_mobile_phones_1: long (nullable = false)\n",
      " |-- view_mobile_phones_10: long (nullable = false)\n",
      " |-- view_mobile_phones_11: long (nullable = false)\n",
      " |-- view_mobile_phones_12: long (nullable = false)\n",
      " |-- view_mobile_phones_13: long (nullable = false)\n",
      " |-- view_mobile_phones_14: long (nullable = false)\n",
      " |-- view_mobile_phones_15: long (nullable = false)\n",
      " |-- view_mobile_phones_16: long (nullable = false)\n",
      " |-- view_mobile_phones_17: long (nullable = false)\n",
      " |-- view_mobile_phones_18: long (nullable = false)\n",
      " |-- view_mobile_phones_19: long (nullable = false)\n",
      " |-- view_mobile_phones_2: long (nullable = false)\n",
      " |-- view_mobile_phones_3: long (nullable = false)\n",
      " |-- view_mobile_phones_4: long (nullable = false)\n",
      " |-- view_mobile_phones_5: long (nullable = false)\n",
      " |-- view_mobile_phones_6: long (nullable = false)\n",
      " |-- view_mobile_phones_7: long (nullable = false)\n",
      " |-- view_mobile_phones_8: long (nullable = false)\n",
      " |-- view_mobile_phones_9: long (nullable = false)\n",
      " |-- view_shoes_0: long (nullable = false)\n",
      " |-- view_shoes_1: long (nullable = false)\n",
      " |-- view_shoes_10: long (nullable = false)\n",
      " |-- view_shoes_11: long (nullable = false)\n",
      " |-- view_shoes_12: long (nullable = false)\n",
      " |-- view_shoes_13: long (nullable = false)\n",
      " |-- view_shoes_14: long (nullable = false)\n",
      " |-- view_shoes_15: long (nullable = false)\n",
      " |-- view_shoes_16: long (nullable = false)\n",
      " |-- view_shoes_17: long (nullable = false)\n",
      " |-- view_shoes_18: long (nullable = false)\n",
      " |-- view_shoes_19: long (nullable = false)\n",
      " |-- view_shoes_2: long (nullable = false)\n",
      " |-- view_shoes_3: long (nullable = false)\n",
      " |-- view_shoes_4: long (nullable = false)\n",
      " |-- view_shoes_5: long (nullable = false)\n",
      " |-- view_shoes_6: long (nullable = false)\n",
      " |-- view_shoes_7: long (nullable = false)\n",
      " |-- view_shoes_8: long (nullable = false)\n",
      " |-- view_shoes_9: long (nullable = false)\n",
      " |-- view_sports_equipment_0: long (nullable = false)\n",
      " |-- view_sports_equipment_1: long (nullable = false)\n",
      " |-- view_sports_equipment_10: long (nullable = false)\n",
      " |-- view_sports_equipment_11: long (nullable = false)\n",
      " |-- view_sports_equipment_12: long (nullable = false)\n",
      " |-- view_sports_equipment_13: long (nullable = false)\n",
      " |-- view_sports_equipment_14: long (nullable = false)\n",
      " |-- view_sports_equipment_15: long (nullable = false)\n",
      " |-- view_sports_equipment_16: long (nullable = false)\n",
      " |-- view_sports_equipment_17: long (nullable = false)\n",
      " |-- view_sports_equipment_18: long (nullable = false)\n",
      " |-- view_sports_equipment_19: long (nullable = false)\n",
      " |-- view_sports_equipment_2: long (nullable = false)\n",
      " |-- view_sports_equipment_3: long (nullable = false)\n",
      " |-- view_sports_equipment_4: long (nullable = false)\n",
      " |-- view_sports_equipment_5: long (nullable = false)\n",
      " |-- view_sports_equipment_6: long (nullable = false)\n",
      " |-- view_sports_equipment_7: long (nullable = false)\n",
      " |-- view_sports_equipment_8: long (nullable = false)\n",
      " |-- view_sports_equipment_9: long (nullable = false)\n",
      " |-- view_toys_0: long (nullable = false)\n",
      " |-- view_toys_1: long (nullable = false)\n",
      " |-- view_toys_10: long (nullable = false)\n",
      " |-- view_toys_11: long (nullable = false)\n",
      " |-- view_toys_12: long (nullable = false)\n",
      " |-- view_toys_13: long (nullable = false)\n",
      " |-- view_toys_14: long (nullable = false)\n",
      " |-- view_toys_15: long (nullable = false)\n",
      " |-- view_toys_16: long (nullable = false)\n",
      " |-- view_toys_17: long (nullable = false)\n",
      " |-- view_toys_18: long (nullable = false)\n",
      " |-- view_toys_19: long (nullable = false)\n",
      " |-- view_toys_2: long (nullable = false)\n",
      " |-- view_toys_3: long (nullable = false)\n",
      " |-- view_toys_4: long (nullable = false)\n",
      " |-- view_toys_5: long (nullable = false)\n",
      " |-- view_toys_6: long (nullable = false)\n",
      " |-- view_toys_7: long (nullable = false)\n",
      " |-- view_toys_8: long (nullable = false)\n",
      " |-- view_toys_9: long (nullable = false)\n",
      "\n"
     ]
    }
   ],
   "source": [
    "all_feat.printSchema"
   ]
  },
  {
   "cell_type": "code",
   "execution_count": 39,
   "metadata": {},
   "outputs": [
    {
     "data": {
      "text/plain": [
       "0"
      ]
     },
     "execution_count": 39,
     "metadata": {},
     "output_type": "execute_result"
    }
   ],
   "source": [
    "all_feat.filter($\"buy_cameras_0\".isNull).count()\n",
    "// нуллы заполнил"
   ]
  },
  {
   "cell_type": "markdown",
   "metadata": {},
   "source": [
    "#### Пишем\n",
    "Сохраните в формате parquet по пути /user/name.surname/features"
   ]
  },
  {
   "cell_type": "code",
   "execution_count": 149,
   "metadata": {},
   "outputs": [],
   "source": [
    "all_feat\n",
    "    .write\n",
    "    .mode(\"overwrite\")\n",
    "    .parquet(\"/user/vladimir.dyukarev/features\")"
   ]
  },
  {
   "cell_type": "code",
   "execution_count": 148,
   "metadata": {},
   "outputs": [
    {
     "name": "stdout",
     "output_type": "stream",
     "text": [
      "Deleted /user/vladimir.dyukarev/features/_SUCCESS\n",
      "Deleted /user/vladimir.dyukarev/features/part-00000-56999d37-5d1d-47d6-a81f-652a95febc0a-c000.snappy.parquet\n",
      "Deleted /user/vladimir.dyukarev/features/part-00001-56999d37-5d1d-47d6-a81f-652a95febc0a-c000.snappy.parquet\n",
      "Deleted /user/vladimir.dyukarev/features/part-00002-56999d37-5d1d-47d6-a81f-652a95febc0a-c000.snappy.parquet\n",
      "Deleted /user/vladimir.dyukarev/features/part-00003-56999d37-5d1d-47d6-a81f-652a95febc0a-c000.snappy.parquet\n",
      "Deleted /user/vladimir.dyukarev/features/part-00004-56999d37-5d1d-47d6-a81f-652a95febc0a-c000.snappy.parquet\n",
      "Deleted /user/vladimir.dyukarev/features/part-00005-56999d37-5d1d-47d6-a81f-652a95febc0a-c000.snappy.parquet\n",
      "Deleted /user/vladimir.dyukarev/features/part-00006-56999d37-5d1d-47d6-a81f-652a95febc0a-c000.snappy.parquet\n",
      "Deleted /user/vladimir.dyukarev/features/part-00007-56999d37-5d1d-47d6-a81f-652a95febc0a-c000.snappy.parquet\n",
      "Deleted /user/vladimir.dyukarev/features/part-00008-56999d37-5d1d-47d6-a81f-652a95febc0a-c000.snappy.parquet\n",
      "Deleted /user/vladimir.dyukarev/features/part-00009-56999d37-5d1d-47d6-a81f-652a95febc0a-c000.snappy.parquet\n",
      "Deleted /user/vladimir.dyukarev/features/part-00010-56999d37-5d1d-47d6-a81f-652a95febc0a-c000.snappy.parquet\n",
      "Deleted /user/vladimir.dyukarev/features/part-00011-56999d37-5d1d-47d6-a81f-652a95febc0a-c000.snappy.parquet\n",
      "Deleted /user/vladimir.dyukarev/features/part-00012-56999d37-5d1d-47d6-a81f-652a95febc0a-c000.snappy.parquet\n",
      "Deleted /user/vladimir.dyukarev/features/part-00013-56999d37-5d1d-47d6-a81f-652a95febc0a-c000.snappy.parquet\n",
      "Deleted /user/vladimir.dyukarev/features/part-00014-56999d37-5d1d-47d6-a81f-652a95febc0a-c000.snappy.parquet\n",
      "Deleted /user/vladimir.dyukarev/features/part-00015-56999d37-5d1d-47d6-a81f-652a95febc0a-c000.snappy.parquet\n",
      "Deleted /user/vladimir.dyukarev/features/part-00016-56999d37-5d1d-47d6-a81f-652a95febc0a-c000.snappy.parquet\n",
      "Deleted /user/vladimir.dyukarev/features/part-00017-56999d37-5d1d-47d6-a81f-652a95febc0a-c000.snappy.parquet\n",
      "Deleted /user/vladimir.dyukarev/features/part-00018-56999d37-5d1d-47d6-a81f-652a95febc0a-c000.snappy.parquet\n",
      "Deleted /user/vladimir.dyukarev/features/part-00019-56999d37-5d1d-47d6-a81f-652a95febc0a-c000.snappy.parquet\n",
      "Deleted /user/vladimir.dyukarev/features/part-00020-56999d37-5d1d-47d6-a81f-652a95febc0a-c000.snappy.parquet\n",
      "Deleted /user/vladimir.dyukarev/features/part-00021-56999d37-5d1d-47d6-a81f-652a95febc0a-c000.snappy.parquet\n",
      "Deleted /user/vladimir.dyukarev/features/part-00022-56999d37-5d1d-47d6-a81f-652a95febc0a-c000.snappy.parquet\n",
      "Deleted /user/vladimir.dyukarev/features/part-00023-56999d37-5d1d-47d6-a81f-652a95febc0a-c000.snappy.parquet\n",
      "Deleted /user/vladimir.dyukarev/features/part-00024-56999d37-5d1d-47d6-a81f-652a95febc0a-c000.snappy.parquet\n",
      "Deleted /user/vladimir.dyukarev/features/part-00025-56999d37-5d1d-47d6-a81f-652a95febc0a-c000.snappy.parquet\n",
      "Deleted /user/vladimir.dyukarev/features/part-00026-56999d37-5d1d-47d6-a81f-652a95febc0a-c000.snappy.parquet\n",
      "Deleted /user/vladimir.dyukarev/features/part-00027-56999d37-5d1d-47d6-a81f-652a95febc0a-c000.snappy.parquet\n",
      "Deleted /user/vladimir.dyukarev/features/part-00028-56999d37-5d1d-47d6-a81f-652a95febc0a-c000.snappy.parquet\n",
      "Deleted /user/vladimir.dyukarev/features/part-00029-56999d37-5d1d-47d6-a81f-652a95febc0a-c000.snappy.parquet\n",
      "Deleted /user/vladimir.dyukarev/features/part-00030-56999d37-5d1d-47d6-a81f-652a95febc0a-c000.snappy.parquet\n",
      "Deleted /user/vladimir.dyukarev/features/part-00031-56999d37-5d1d-47d6-a81f-652a95febc0a-c000.snappy.parquet\n",
      "Deleted /user/vladimir.dyukarev/features/part-00032-56999d37-5d1d-47d6-a81f-652a95febc0a-c000.snappy.parquet\n",
      "Deleted /user/vladimir.dyukarev/features/part-00033-56999d37-5d1d-47d6-a81f-652a95febc0a-c000.snappy.parquet\n",
      "Deleted /user/vladimir.dyukarev/features/part-00034-56999d37-5d1d-47d6-a81f-652a95febc0a-c000.snappy.parquet\n",
      "Deleted /user/vladimir.dyukarev/features/part-00035-56999d37-5d1d-47d6-a81f-652a95febc0a-c000.snappy.parquet\n",
      "Deleted /user/vladimir.dyukarev/features/part-00036-56999d37-5d1d-47d6-a81f-652a95febc0a-c000.snappy.parquet\n",
      "Deleted /user/vladimir.dyukarev/features/part-00037-56999d37-5d1d-47d6-a81f-652a95febc0a-c000.snappy.parquet\n",
      "Deleted /user/vladimir.dyukarev/features/part-00038-56999d37-5d1d-47d6-a81f-652a95febc0a-c000.snappy.parquet\n",
      "Deleted /user/vladimir.dyukarev/features/part-00039-56999d37-5d1d-47d6-a81f-652a95febc0a-c000.snappy.parquet\n",
      "Deleted /user/vladimir.dyukarev/features/part-00040-56999d37-5d1d-47d6-a81f-652a95febc0a-c000.snappy.parquet\n",
      "Deleted /user/vladimir.dyukarev/features/part-00041-56999d37-5d1d-47d6-a81f-652a95febc0a-c000.snappy.parquet\n",
      "Deleted /user/vladimir.dyukarev/features/part-00042-56999d37-5d1d-47d6-a81f-652a95febc0a-c000.snappy.parquet\n",
      "Deleted /user/vladimir.dyukarev/features/part-00043-56999d37-5d1d-47d6-a81f-652a95febc0a-c000.snappy.parquet\n",
      "Deleted /user/vladimir.dyukarev/features/part-00044-56999d37-5d1d-47d6-a81f-652a95febc0a-c000.snappy.parquet\n",
      "Deleted /user/vladimir.dyukarev/features/part-00045-56999d37-5d1d-47d6-a81f-652a95febc0a-c000.snappy.parquet\n",
      "Deleted /user/vladimir.dyukarev/features/part-00046-56999d37-5d1d-47d6-a81f-652a95febc0a-c000.snappy.parquet\n",
      "Deleted /user/vladimir.dyukarev/features/part-00047-56999d37-5d1d-47d6-a81f-652a95febc0a-c000.snappy.parquet\n",
      "Deleted /user/vladimir.dyukarev/features/part-00048-56999d37-5d1d-47d6-a81f-652a95febc0a-c000.snappy.parquet\n",
      "Deleted /user/vladimir.dyukarev/features/part-00049-56999d37-5d1d-47d6-a81f-652a95febc0a-c000.snappy.parquet\n",
      "Deleted /user/vladimir.dyukarev/features/part-00050-56999d37-5d1d-47d6-a81f-652a95febc0a-c000.snappy.parquet\n",
      "Deleted /user/vladimir.dyukarev/features/part-00051-56999d37-5d1d-47d6-a81f-652a95febc0a-c000.snappy.parquet\n",
      "Deleted /user/vladimir.dyukarev/features/part-00052-56999d37-5d1d-47d6-a81f-652a95febc0a-c000.snappy.parquet\n",
      "Deleted /user/vladimir.dyukarev/features/part-00053-56999d37-5d1d-47d6-a81f-652a95febc0a-c000.snappy.parquet\n",
      "Deleted /user/vladimir.dyukarev/features/part-00054-56999d37-5d1d-47d6-a81f-652a95febc0a-c000.snappy.parquet\n",
      "Deleted /user/vladimir.dyukarev/features/part-00055-56999d37-5d1d-47d6-a81f-652a95febc0a-c000.snappy.parquet\n",
      "Deleted /user/vladimir.dyukarev/features/part-00056-56999d37-5d1d-47d6-a81f-652a95febc0a-c000.snappy.parquet\n",
      "Deleted /user/vladimir.dyukarev/features/part-00057-56999d37-5d1d-47d6-a81f-652a95febc0a-c000.snappy.parquet\n",
      "Deleted /user/vladimir.dyukarev/features/part-00058-56999d37-5d1d-47d6-a81f-652a95febc0a-c000.snappy.parquet\n",
      "Deleted /user/vladimir.dyukarev/features/part-00059-56999d37-5d1d-47d6-a81f-652a95febc0a-c000.snappy.parquet\n",
      "Deleted /user/vladimir.dyukarev/features/part-00060-56999d37-5d1d-47d6-a81f-652a95febc0a-c000.snappy.parquet\n",
      "Deleted /user/vladimir.dyukarev/features/part-00061-56999d37-5d1d-47d6-a81f-652a95febc0a-c000.snappy.parquet\n",
      "Deleted /user/vladimir.dyukarev/features/part-00062-56999d37-5d1d-47d6-a81f-652a95febc0a-c000.snappy.parquet\n",
      "Deleted /user/vladimir.dyukarev/features/part-00063-56999d37-5d1d-47d6-a81f-652a95febc0a-c000.snappy.parquet\n",
      "Deleted /user/vladimir.dyukarev/features/part-00064-56999d37-5d1d-47d6-a81f-652a95febc0a-c000.snappy.parquet\n",
      "Deleted /user/vladimir.dyukarev/features/part-00065-56999d37-5d1d-47d6-a81f-652a95febc0a-c000.snappy.parquet\n",
      "Deleted /user/vladimir.dyukarev/features/part-00066-56999d37-5d1d-47d6-a81f-652a95febc0a-c000.snappy.parquet\n",
      "Deleted /user/vladimir.dyukarev/features/part-00067-56999d37-5d1d-47d6-a81f-652a95febc0a-c000.snappy.parquet\n",
      "Deleted /user/vladimir.dyukarev/features/part-00068-56999d37-5d1d-47d6-a81f-652a95febc0a-c000.snappy.parquet\n",
      "Deleted /user/vladimir.dyukarev/features/part-00069-56999d37-5d1d-47d6-a81f-652a95febc0a-c000.snappy.parquet\n",
      "Deleted /user/vladimir.dyukarev/features/part-00070-56999d37-5d1d-47d6-a81f-652a95febc0a-c000.snappy.parquet\n",
      "Deleted /user/vladimir.dyukarev/features/part-00071-56999d37-5d1d-47d6-a81f-652a95febc0a-c000.snappy.parquet\n",
      "Deleted /user/vladimir.dyukarev/features/part-00072-56999d37-5d1d-47d6-a81f-652a95febc0a-c000.snappy.parquet\n",
      "Deleted /user/vladimir.dyukarev/features/part-00073-56999d37-5d1d-47d6-a81f-652a95febc0a-c000.snappy.parquet\n",
      "Deleted /user/vladimir.dyukarev/features/part-00074-56999d37-5d1d-47d6-a81f-652a95febc0a-c000.snappy.parquet\n",
      "Deleted /user/vladimir.dyukarev/features/part-00075-56999d37-5d1d-47d6-a81f-652a95febc0a-c000.snappy.parquet\n",
      "Deleted /user/vladimir.dyukarev/features/part-00076-56999d37-5d1d-47d6-a81f-652a95febc0a-c000.snappy.parquet\n",
      "Deleted /user/vladimir.dyukarev/features/part-00077-56999d37-5d1d-47d6-a81f-652a95febc0a-c000.snappy.parquet\n",
      "Deleted /user/vladimir.dyukarev/features/part-00078-56999d37-5d1d-47d6-a81f-652a95febc0a-c000.snappy.parquet\n",
      "Deleted /user/vladimir.dyukarev/features/part-00079-56999d37-5d1d-47d6-a81f-652a95febc0a-c000.snappy.parquet\n",
      "Deleted /user/vladimir.dyukarev/features/part-00080-56999d37-5d1d-47d6-a81f-652a95febc0a-c000.snappy.parquet\n",
      "Deleted /user/vladimir.dyukarev/features/part-00081-56999d37-5d1d-47d6-a81f-652a95febc0a-c000.snappy.parquet\n",
      "Deleted /user/vladimir.dyukarev/features/part-00082-56999d37-5d1d-47d6-a81f-652a95febc0a-c000.snappy.parquet\n",
      "Deleted /user/vladimir.dyukarev/features/part-00083-56999d37-5d1d-47d6-a81f-652a95febc0a-c000.snappy.parquet\n",
      "Deleted /user/vladimir.dyukarev/features/part-00084-56999d37-5d1d-47d6-a81f-652a95febc0a-c000.snappy.parquet\n",
      "Deleted /user/vladimir.dyukarev/features/part-00085-56999d37-5d1d-47d6-a81f-652a95febc0a-c000.snappy.parquet\n",
      "Deleted /user/vladimir.dyukarev/features/part-00086-56999d37-5d1d-47d6-a81f-652a95febc0a-c000.snappy.parquet\n",
      "Deleted /user/vladimir.dyukarev/features/part-00087-56999d37-5d1d-47d6-a81f-652a95febc0a-c000.snappy.parquet\n",
      "Deleted /user/vladimir.dyukarev/features/part-00088-56999d37-5d1d-47d6-a81f-652a95febc0a-c000.snappy.parquet\n",
      "Deleted /user/vladimir.dyukarev/features/part-00089-56999d37-5d1d-47d6-a81f-652a95febc0a-c000.snappy.parquet\n",
      "Deleted /user/vladimir.dyukarev/features/part-00090-56999d37-5d1d-47d6-a81f-652a95febc0a-c000.snappy.parquet\n",
      "Deleted /user/vladimir.dyukarev/features/part-00091-56999d37-5d1d-47d6-a81f-652a95febc0a-c000.snappy.parquet\n",
      "Deleted /user/vladimir.dyukarev/features/part-00092-56999d37-5d1d-47d6-a81f-652a95febc0a-c000.snappy.parquet\n",
      "Deleted /user/vladimir.dyukarev/features/part-00093-56999d37-5d1d-47d6-a81f-652a95febc0a-c000.snappy.parquet\n",
      "Deleted /user/vladimir.dyukarev/features/part-00094-56999d37-5d1d-47d6-a81f-652a95febc0a-c000.snappy.parquet\n",
      "Deleted /user/vladimir.dyukarev/features/part-00095-56999d37-5d1d-47d6-a81f-652a95febc0a-c000.snappy.parquet\n",
      "Deleted /user/vladimir.dyukarev/features/part-00096-56999d37-5d1d-47d6-a81f-652a95febc0a-c000.snappy.parquet\n",
      "Deleted /user/vladimir.dyukarev/features/part-00097-56999d37-5d1d-47d6-a81f-652a95febc0a-c000.snappy.parquet\n",
      "Deleted /user/vladimir.dyukarev/features/part-00098-56999d37-5d1d-47d6-a81f-652a95febc0a-c000.snappy.parquet\n",
      "Deleted /user/vladimir.dyukarev/features/part-00099-56999d37-5d1d-47d6-a81f-652a95febc0a-c000.snappy.parquet\n",
      "Deleted /user/vladimir.dyukarev/features/part-00100-56999d37-5d1d-47d6-a81f-652a95febc0a-c000.snappy.parquet\n",
      "Deleted /user/vladimir.dyukarev/features/part-00101-56999d37-5d1d-47d6-a81f-652a95febc0a-c000.snappy.parquet\n",
      "Deleted /user/vladimir.dyukarev/features/part-00102-56999d37-5d1d-47d6-a81f-652a95febc0a-c000.snappy.parquet\n",
      "Deleted /user/vladimir.dyukarev/features/part-00103-56999d37-5d1d-47d6-a81f-652a95febc0a-c000.snappy.parquet\n",
      "Deleted /user/vladimir.dyukarev/features/part-00104-56999d37-5d1d-47d6-a81f-652a95febc0a-c000.snappy.parquet\n",
      "Deleted /user/vladimir.dyukarev/features/part-00105-56999d37-5d1d-47d6-a81f-652a95febc0a-c000.snappy.parquet\n",
      "Deleted /user/vladimir.dyukarev/features/part-00106-56999d37-5d1d-47d6-a81f-652a95febc0a-c000.snappy.parquet\n",
      "Deleted /user/vladimir.dyukarev/features/part-00107-56999d37-5d1d-47d6-a81f-652a95febc0a-c000.snappy.parquet\n",
      "Deleted /user/vladimir.dyukarev/features/part-00108-56999d37-5d1d-47d6-a81f-652a95febc0a-c000.snappy.parquet\n",
      "Deleted /user/vladimir.dyukarev/features/part-00109-56999d37-5d1d-47d6-a81f-652a95febc0a-c000.snappy.parquet\n",
      "Deleted /user/vladimir.dyukarev/features/part-00110-56999d37-5d1d-47d6-a81f-652a95febc0a-c000.snappy.parquet\n",
      "Deleted /user/vladimir.dyukarev/features/part-00111-56999d37-5d1d-47d6-a81f-652a95febc0a-c000.snappy.parquet\n",
      "Deleted /user/vladimir.dyukarev/features/part-00112-56999d37-5d1d-47d6-a81f-652a95febc0a-c000.snappy.parquet\n",
      "Deleted /user/vladimir.dyukarev/features/part-00113-56999d37-5d1d-47d6-a81f-652a95febc0a-c000.snappy.parquet\n",
      "Deleted /user/vladimir.dyukarev/features/part-00114-56999d37-5d1d-47d6-a81f-652a95febc0a-c000.snappy.parquet\n",
      "Deleted /user/vladimir.dyukarev/features/part-00115-56999d37-5d1d-47d6-a81f-652a95febc0a-c000.snappy.parquet\n",
      "Deleted /user/vladimir.dyukarev/features/part-00116-56999d37-5d1d-47d6-a81f-652a95febc0a-c000.snappy.parquet\n",
      "Deleted /user/vladimir.dyukarev/features/part-00117-56999d37-5d1d-47d6-a81f-652a95febc0a-c000.snappy.parquet\n",
      "Deleted /user/vladimir.dyukarev/features/part-00118-56999d37-5d1d-47d6-a81f-652a95febc0a-c000.snappy.parquet\n",
      "Deleted /user/vladimir.dyukarev/features/part-00119-56999d37-5d1d-47d6-a81f-652a95febc0a-c000.snappy.parquet\n",
      "Deleted /user/vladimir.dyukarev/features/part-00120-56999d37-5d1d-47d6-a81f-652a95febc0a-c000.snappy.parquet\n",
      "Deleted /user/vladimir.dyukarev/features/part-00121-56999d37-5d1d-47d6-a81f-652a95febc0a-c000.snappy.parquet\n",
      "Deleted /user/vladimir.dyukarev/features/part-00122-56999d37-5d1d-47d6-a81f-652a95febc0a-c000.snappy.parquet\n",
      "Deleted /user/vladimir.dyukarev/features/part-00123-56999d37-5d1d-47d6-a81f-652a95febc0a-c000.snappy.parquet\n",
      "Deleted /user/vladimir.dyukarev/features/part-00124-56999d37-5d1d-47d6-a81f-652a95febc0a-c000.snappy.parquet\n",
      "Deleted /user/vladimir.dyukarev/features/part-00125-56999d37-5d1d-47d6-a81f-652a95febc0a-c000.snappy.parquet\n",
      "Deleted /user/vladimir.dyukarev/features/part-00126-56999d37-5d1d-47d6-a81f-652a95febc0a-c000.snappy.parquet\n",
      "Deleted /user/vladimir.dyukarev/features/part-00127-56999d37-5d1d-47d6-a81f-652a95febc0a-c000.snappy.parquet\n",
      "Deleted /user/vladimir.dyukarev/features/part-00128-56999d37-5d1d-47d6-a81f-652a95febc0a-c000.snappy.parquet\n",
      "Deleted /user/vladimir.dyukarev/features/part-00129-56999d37-5d1d-47d6-a81f-652a95febc0a-c000.snappy.parquet\n",
      "Deleted /user/vladimir.dyukarev/features/part-00130-56999d37-5d1d-47d6-a81f-652a95febc0a-c000.snappy.parquet\n",
      "Deleted /user/vladimir.dyukarev/features/part-00131-56999d37-5d1d-47d6-a81f-652a95febc0a-c000.snappy.parquet\n",
      "Deleted /user/vladimir.dyukarev/features/part-00132-56999d37-5d1d-47d6-a81f-652a95febc0a-c000.snappy.parquet\n",
      "Deleted /user/vladimir.dyukarev/features/part-00133-56999d37-5d1d-47d6-a81f-652a95febc0a-c000.snappy.parquet\n",
      "Deleted /user/vladimir.dyukarev/features/part-00134-56999d37-5d1d-47d6-a81f-652a95febc0a-c000.snappy.parquet\n",
      "Deleted /user/vladimir.dyukarev/features/part-00135-56999d37-5d1d-47d6-a81f-652a95febc0a-c000.snappy.parquet\n",
      "Deleted /user/vladimir.dyukarev/features/part-00136-56999d37-5d1d-47d6-a81f-652a95febc0a-c000.snappy.parquet\n",
      "Deleted /user/vladimir.dyukarev/features/part-00137-56999d37-5d1d-47d6-a81f-652a95febc0a-c000.snappy.parquet\n",
      "Deleted /user/vladimir.dyukarev/features/part-00138-56999d37-5d1d-47d6-a81f-652a95febc0a-c000.snappy.parquet\n",
      "Deleted /user/vladimir.dyukarev/features/part-00139-56999d37-5d1d-47d6-a81f-652a95febc0a-c000.snappy.parquet\n",
      "Deleted /user/vladimir.dyukarev/features/part-00140-56999d37-5d1d-47d6-a81f-652a95febc0a-c000.snappy.parquet\n",
      "Deleted /user/vladimir.dyukarev/features/part-00141-56999d37-5d1d-47d6-a81f-652a95febc0a-c000.snappy.parquet\n",
      "Deleted /user/vladimir.dyukarev/features/part-00142-56999d37-5d1d-47d6-a81f-652a95febc0a-c000.snappy.parquet\n",
      "Deleted /user/vladimir.dyukarev/features/part-00143-56999d37-5d1d-47d6-a81f-652a95febc0a-c000.snappy.parquet\n",
      "Deleted /user/vladimir.dyukarev/features/part-00144-56999d37-5d1d-47d6-a81f-652a95febc0a-c000.snappy.parquet\n",
      "Deleted /user/vladimir.dyukarev/features/part-00145-56999d37-5d1d-47d6-a81f-652a95febc0a-c000.snappy.parquet\n",
      "Deleted /user/vladimir.dyukarev/features/part-00146-56999d37-5d1d-47d6-a81f-652a95febc0a-c000.snappy.parquet\n",
      "Deleted /user/vladimir.dyukarev/features/part-00147-56999d37-5d1d-47d6-a81f-652a95febc0a-c000.snappy.parquet\n",
      "Deleted /user/vladimir.dyukarev/features/part-00148-56999d37-5d1d-47d6-a81f-652a95febc0a-c000.snappy.parquet\n",
      "Deleted /user/vladimir.dyukarev/features/part-00149-56999d37-5d1d-47d6-a81f-652a95febc0a-c000.snappy.parquet\n",
      "Deleted /user/vladimir.dyukarev/features/part-00150-56999d37-5d1d-47d6-a81f-652a95febc0a-c000.snappy.parquet\n",
      "Deleted /user/vladimir.dyukarev/features/part-00151-56999d37-5d1d-47d6-a81f-652a95febc0a-c000.snappy.parquet\n",
      "Deleted /user/vladimir.dyukarev/features/part-00152-56999d37-5d1d-47d6-a81f-652a95febc0a-c000.snappy.parquet\n",
      "Deleted /user/vladimir.dyukarev/features/part-00153-56999d37-5d1d-47d6-a81f-652a95febc0a-c000.snappy.parquet\n",
      "Deleted /user/vladimir.dyukarev/features/part-00154-56999d37-5d1d-47d6-a81f-652a95febc0a-c000.snappy.parquet\n",
      "Deleted /user/vladimir.dyukarev/features/part-00155-56999d37-5d1d-47d6-a81f-652a95febc0a-c000.snappy.parquet\n",
      "Deleted /user/vladimir.dyukarev/features/part-00156-56999d37-5d1d-47d6-a81f-652a95febc0a-c000.snappy.parquet\n",
      "Deleted /user/vladimir.dyukarev/features/part-00157-56999d37-5d1d-47d6-a81f-652a95febc0a-c000.snappy.parquet\n",
      "Deleted /user/vladimir.dyukarev/features/part-00158-56999d37-5d1d-47d6-a81f-652a95febc0a-c000.snappy.parquet\n",
      "Deleted /user/vladimir.dyukarev/features/part-00159-56999d37-5d1d-47d6-a81f-652a95febc0a-c000.snappy.parquet\n",
      "Deleted /user/vladimir.dyukarev/features/part-00160-56999d37-5d1d-47d6-a81f-652a95febc0a-c000.snappy.parquet\n",
      "Deleted /user/vladimir.dyukarev/features/part-00161-56999d37-5d1d-47d6-a81f-652a95febc0a-c000.snappy.parquet\n",
      "Deleted /user/vladimir.dyukarev/features/part-00162-56999d37-5d1d-47d6-a81f-652a95febc0a-c000.snappy.parquet\n",
      "Deleted /user/vladimir.dyukarev/features/part-00163-56999d37-5d1d-47d6-a81f-652a95febc0a-c000.snappy.parquet\n",
      "Deleted /user/vladimir.dyukarev/features/part-00164-56999d37-5d1d-47d6-a81f-652a95febc0a-c000.snappy.parquet\n",
      "Deleted /user/vladimir.dyukarev/features/part-00165-56999d37-5d1d-47d6-a81f-652a95febc0a-c000.snappy.parquet\n",
      "Deleted /user/vladimir.dyukarev/features/part-00166-56999d37-5d1d-47d6-a81f-652a95febc0a-c000.snappy.parquet\n",
      "Deleted /user/vladimir.dyukarev/features/part-00167-56999d37-5d1d-47d6-a81f-652a95febc0a-c000.snappy.parquet\n",
      "Deleted /user/vladimir.dyukarev/features/part-00168-56999d37-5d1d-47d6-a81f-652a95febc0a-c000.snappy.parquet\n",
      "Deleted /user/vladimir.dyukarev/features/part-00169-56999d37-5d1d-47d6-a81f-652a95febc0a-c000.snappy.parquet\n",
      "Deleted /user/vladimir.dyukarev/features/part-00170-56999d37-5d1d-47d6-a81f-652a95febc0a-c000.snappy.parquet\n",
      "Deleted /user/vladimir.dyukarev/features/part-00171-56999d37-5d1d-47d6-a81f-652a95febc0a-c000.snappy.parquet\n",
      "Deleted /user/vladimir.dyukarev/features/part-00172-56999d37-5d1d-47d6-a81f-652a95febc0a-c000.snappy.parquet\n",
      "Deleted /user/vladimir.dyukarev/features/part-00173-56999d37-5d1d-47d6-a81f-652a95febc0a-c000.snappy.parquet\n",
      "Deleted /user/vladimir.dyukarev/features/part-00174-56999d37-5d1d-47d6-a81f-652a95febc0a-c000.snappy.parquet\n",
      "Deleted /user/vladimir.dyukarev/features/part-00175-56999d37-5d1d-47d6-a81f-652a95febc0a-c000.snappy.parquet\n",
      "Deleted /user/vladimir.dyukarev/features/part-00176-56999d37-5d1d-47d6-a81f-652a95febc0a-c000.snappy.parquet\n",
      "Deleted /user/vladimir.dyukarev/features/part-00177-56999d37-5d1d-47d6-a81f-652a95febc0a-c000.snappy.parquet\n",
      "Deleted /user/vladimir.dyukarev/features/part-00178-56999d37-5d1d-47d6-a81f-652a95febc0a-c000.snappy.parquet\n",
      "Deleted /user/vladimir.dyukarev/features/part-00179-56999d37-5d1d-47d6-a81f-652a95febc0a-c000.snappy.parquet\n",
      "Deleted /user/vladimir.dyukarev/features/part-00180-56999d37-5d1d-47d6-a81f-652a95febc0a-c000.snappy.parquet\n",
      "Deleted /user/vladimir.dyukarev/features/part-00181-56999d37-5d1d-47d6-a81f-652a95febc0a-c000.snappy.parquet\n",
      "Deleted /user/vladimir.dyukarev/features/part-00182-56999d37-5d1d-47d6-a81f-652a95febc0a-c000.snappy.parquet\n",
      "Deleted /user/vladimir.dyukarev/features/part-00183-56999d37-5d1d-47d6-a81f-652a95febc0a-c000.snappy.parquet\n",
      "Deleted /user/vladimir.dyukarev/features/part-00184-56999d37-5d1d-47d6-a81f-652a95febc0a-c000.snappy.parquet\n",
      "Deleted /user/vladimir.dyukarev/features/part-00185-56999d37-5d1d-47d6-a81f-652a95febc0a-c000.snappy.parquet\n",
      "Deleted /user/vladimir.dyukarev/features/part-00186-56999d37-5d1d-47d6-a81f-652a95febc0a-c000.snappy.parquet\n",
      "Deleted /user/vladimir.dyukarev/features/part-00187-56999d37-5d1d-47d6-a81f-652a95febc0a-c000.snappy.parquet\n",
      "Deleted /user/vladimir.dyukarev/features/part-00188-56999d37-5d1d-47d6-a81f-652a95febc0a-c000.snappy.parquet\n",
      "Deleted /user/vladimir.dyukarev/features/part-00189-56999d37-5d1d-47d6-a81f-652a95febc0a-c000.snappy.parquet\n",
      "Deleted /user/vladimir.dyukarev/features/part-00190-56999d37-5d1d-47d6-a81f-652a95febc0a-c000.snappy.parquet\n",
      "Deleted /user/vladimir.dyukarev/features/part-00191-56999d37-5d1d-47d6-a81f-652a95febc0a-c000.snappy.parquet\n",
      "Deleted /user/vladimir.dyukarev/features/part-00192-56999d37-5d1d-47d6-a81f-652a95febc0a-c000.snappy.parquet\n",
      "Deleted /user/vladimir.dyukarev/features/part-00193-56999d37-5d1d-47d6-a81f-652a95febc0a-c000.snappy.parquet\n",
      "Deleted /user/vladimir.dyukarev/features/part-00194-56999d37-5d1d-47d6-a81f-652a95febc0a-c000.snappy.parquet\n",
      "Deleted /user/vladimir.dyukarev/features/part-00195-56999d37-5d1d-47d6-a81f-652a95febc0a-c000.snappy.parquet\n",
      "Deleted /user/vladimir.dyukarev/features/part-00196-56999d37-5d1d-47d6-a81f-652a95febc0a-c000.snappy.parquet\n",
      "Deleted /user/vladimir.dyukarev/features/part-00197-56999d37-5d1d-47d6-a81f-652a95febc0a-c000.snappy.parquet\n",
      "Deleted /user/vladimir.dyukarev/features/part-00198-56999d37-5d1d-47d6-a81f-652a95febc0a-c000.snappy.parquet\n",
      "Deleted /user/vladimir.dyukarev/features/part-00199-56999d37-5d1d-47d6-a81f-652a95febc0a-c000.snappy.parquet\n",
      "\n"
     ]
    }
   ],
   "source": [
    "println(\"hdfs dfs -ls /user/vladimir.dyukarev/features\".!!)\n",
    "//println(\"hdfs dfs -rm -r -skipTrash /user/vladimir.dyukarev/features/*\".!!)"
   ]
  }
 ],
 "metadata": {
  "kernelspec": {
   "display_name": "Apache Toree - Scala",
   "language": "scala",
   "name": "apache_toree_scala"
  },
  "language_info": {
   "codemirror_mode": "text/x-scala",
   "file_extension": ".scala",
   "mimetype": "text/x-scala",
   "name": "scala",
   "pygments_lexer": "scala",
   "version": "2.11.12"
  }
 },
 "nbformat": 4,
 "nbformat_minor": 2
}
